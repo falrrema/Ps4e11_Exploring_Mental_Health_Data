{
 "cells": [
  {
   "cell_type": "code",
   "execution_count": 1,
   "id": "49495900",
   "metadata": {
    "_cell_guid": "b1076dfc-b9ad-4769-8c92-a6c4dae69d19",
    "_uuid": "8f2839f25d086af736a60e9eeb907d3b93b6e0e5",
    "execution": {
     "iopub.execute_input": "2024-11-08T07:14:40.492077Z",
     "iopub.status.busy": "2024-11-08T07:14:40.491042Z",
     "iopub.status.idle": "2024-11-08T07:14:48.674097Z",
     "shell.execute_reply": "2024-11-08T07:14:48.672602Z"
    },
    "papermill": {
     "duration": 8.198968,
     "end_time": "2024-11-08T07:14:48.677359",
     "exception": false,
     "start_time": "2024-11-08T07:14:40.478391",
     "status": "completed"
    },
    "tags": []
   },
   "outputs": [],
   "source": [
    "import pandas as pd\n",
    "import numpy as np\n",
    "import matplotlib.pyplot as plt\n",
    "import seaborn as sns\n",
    "from sklearn.model_selection import StratifiedKFold, cross_val_score\n",
    "from sklearn.model_selection import train_test_split\n",
    "from sklearn.impute import SimpleImputer\n",
    "from sklearn.preprocessing import StandardScaler, OneHotEncoder\n",
    "from sklearn.ensemble import RandomForestClassifier\n",
    "from sklearn.metrics import accuracy_score\n",
    "from sklearn.linear_model import LogisticRegression\n",
    "from sklearn.compose import ColumnTransformer\n",
    "from sklearn.metrics import accuracy_score\n",
    "\n",
    "from xgboost import XGBClassifier\n",
    "import torch\n",
    "import torch.nn as nn\n",
    "import torch.optim as optim\n",
    "from torch.utils.data import DataLoader, TensorDataset, random_split\n",
    "\n",
    "import optuna\n",
    "\n",
    "import warnings\n",
    "warnings.filterwarnings('ignore')"
   ]
  },
  {
   "cell_type": "code",
   "execution_count": 2,
   "id": "66f6829e",
   "metadata": {
    "execution": {
     "iopub.execute_input": "2024-11-08T07:14:48.700690Z",
     "iopub.status.busy": "2024-11-08T07:14:48.700052Z",
     "iopub.status.idle": "2024-11-08T07:14:48.706208Z",
     "shell.execute_reply": "2024-11-08T07:14:48.704884Z"
    },
    "papermill": {
     "duration": 0.020991,
     "end_time": "2024-11-08T07:14:48.708867",
     "exception": false,
     "start_time": "2024-11-08T07:14:48.687876",
     "status": "completed"
    },
    "tags": []
   },
   "outputs": [],
   "source": [
    "TRAIN_FILE = \"/kaggle/input/playground-series-s4e11/train.csv\"\n",
    "TEST_FILE = \"/kaggle/input/playground-series-s4e11/test.csv\"\n",
    "SEED = 42"
   ]
  },
  {
   "cell_type": "markdown",
   "id": "4c9dee99",
   "metadata": {
    "papermill": {
     "duration": 0.009997,
     "end_time": "2024-11-08T07:14:48.729120",
     "exception": false,
     "start_time": "2024-11-08T07:14:48.719123",
     "status": "completed"
    },
    "tags": []
   },
   "source": [
    "# Data Cleaning and Formatting"
   ]
  },
  {
   "cell_type": "code",
   "execution_count": 3,
   "id": "36092719",
   "metadata": {
    "execution": {
     "iopub.execute_input": "2024-11-08T07:14:48.751046Z",
     "iopub.status.busy": "2024-11-08T07:14:48.750571Z",
     "iopub.status.idle": "2024-11-08T07:14:49.524487Z",
     "shell.execute_reply": "2024-11-08T07:14:49.523251Z"
    },
    "papermill": {
     "duration": 0.788267,
     "end_time": "2024-11-08T07:14:49.527448",
     "exception": false,
     "start_time": "2024-11-08T07:14:48.739181",
     "status": "completed"
    },
    "tags": []
   },
   "outputs": [
    {
     "data": {
      "text/html": [
       "<div>\n",
       "<style scoped>\n",
       "    .dataframe tbody tr th:only-of-type {\n",
       "        vertical-align: middle;\n",
       "    }\n",
       "\n",
       "    .dataframe tbody tr th {\n",
       "        vertical-align: top;\n",
       "    }\n",
       "\n",
       "    .dataframe thead th {\n",
       "        text-align: right;\n",
       "    }\n",
       "</style>\n",
       "<table border=\"1\" class=\"dataframe\">\n",
       "  <thead>\n",
       "    <tr style=\"text-align: right;\">\n",
       "      <th></th>\n",
       "      <th>id</th>\n",
       "      <th>Name</th>\n",
       "      <th>Gender</th>\n",
       "      <th>Age</th>\n",
       "      <th>City</th>\n",
       "      <th>Working Professional or Student</th>\n",
       "      <th>Profession</th>\n",
       "      <th>Academic Pressure</th>\n",
       "      <th>Work Pressure</th>\n",
       "      <th>CGPA</th>\n",
       "      <th>Study Satisfaction</th>\n",
       "      <th>Job Satisfaction</th>\n",
       "      <th>Sleep Duration</th>\n",
       "      <th>Dietary Habits</th>\n",
       "      <th>Degree</th>\n",
       "      <th>Have you ever had suicidal thoughts ?</th>\n",
       "      <th>Work/Study Hours</th>\n",
       "      <th>Financial Stress</th>\n",
       "      <th>Family History of Mental Illness</th>\n",
       "      <th>Depression</th>\n",
       "    </tr>\n",
       "  </thead>\n",
       "  <tbody>\n",
       "    <tr>\n",
       "      <th>0</th>\n",
       "      <td>0</td>\n",
       "      <td>Aaradhya</td>\n",
       "      <td>Female</td>\n",
       "      <td>49.0</td>\n",
       "      <td>Ludhiana</td>\n",
       "      <td>Working Professional</td>\n",
       "      <td>Chef</td>\n",
       "      <td>NaN</td>\n",
       "      <td>5.0</td>\n",
       "      <td>NaN</td>\n",
       "      <td>NaN</td>\n",
       "      <td>2.0</td>\n",
       "      <td>More than 8 hours</td>\n",
       "      <td>Healthy</td>\n",
       "      <td>BHM</td>\n",
       "      <td>No</td>\n",
       "      <td>1.0</td>\n",
       "      <td>2.0</td>\n",
       "      <td>No</td>\n",
       "      <td>0</td>\n",
       "    </tr>\n",
       "    <tr>\n",
       "      <th>1</th>\n",
       "      <td>1</td>\n",
       "      <td>Vivan</td>\n",
       "      <td>Male</td>\n",
       "      <td>26.0</td>\n",
       "      <td>Varanasi</td>\n",
       "      <td>Working Professional</td>\n",
       "      <td>Teacher</td>\n",
       "      <td>NaN</td>\n",
       "      <td>4.0</td>\n",
       "      <td>NaN</td>\n",
       "      <td>NaN</td>\n",
       "      <td>3.0</td>\n",
       "      <td>Less than 5 hours</td>\n",
       "      <td>Unhealthy</td>\n",
       "      <td>LLB</td>\n",
       "      <td>Yes</td>\n",
       "      <td>7.0</td>\n",
       "      <td>3.0</td>\n",
       "      <td>No</td>\n",
       "      <td>1</td>\n",
       "    </tr>\n",
       "    <tr>\n",
       "      <th>2</th>\n",
       "      <td>2</td>\n",
       "      <td>Yuvraj</td>\n",
       "      <td>Male</td>\n",
       "      <td>33.0</td>\n",
       "      <td>Visakhapatnam</td>\n",
       "      <td>Student</td>\n",
       "      <td>NaN</td>\n",
       "      <td>5.0</td>\n",
       "      <td>NaN</td>\n",
       "      <td>8.97</td>\n",
       "      <td>2.0</td>\n",
       "      <td>NaN</td>\n",
       "      <td>5-6 hours</td>\n",
       "      <td>Healthy</td>\n",
       "      <td>B.Pharm</td>\n",
       "      <td>Yes</td>\n",
       "      <td>3.0</td>\n",
       "      <td>1.0</td>\n",
       "      <td>No</td>\n",
       "      <td>1</td>\n",
       "    </tr>\n",
       "    <tr>\n",
       "      <th>3</th>\n",
       "      <td>3</td>\n",
       "      <td>Yuvraj</td>\n",
       "      <td>Male</td>\n",
       "      <td>22.0</td>\n",
       "      <td>Mumbai</td>\n",
       "      <td>Working Professional</td>\n",
       "      <td>Teacher</td>\n",
       "      <td>NaN</td>\n",
       "      <td>5.0</td>\n",
       "      <td>NaN</td>\n",
       "      <td>NaN</td>\n",
       "      <td>1.0</td>\n",
       "      <td>Less than 5 hours</td>\n",
       "      <td>Moderate</td>\n",
       "      <td>BBA</td>\n",
       "      <td>Yes</td>\n",
       "      <td>10.0</td>\n",
       "      <td>1.0</td>\n",
       "      <td>Yes</td>\n",
       "      <td>1</td>\n",
       "    </tr>\n",
       "    <tr>\n",
       "      <th>4</th>\n",
       "      <td>4</td>\n",
       "      <td>Rhea</td>\n",
       "      <td>Female</td>\n",
       "      <td>30.0</td>\n",
       "      <td>Kanpur</td>\n",
       "      <td>Working Professional</td>\n",
       "      <td>Business Analyst</td>\n",
       "      <td>NaN</td>\n",
       "      <td>1.0</td>\n",
       "      <td>NaN</td>\n",
       "      <td>NaN</td>\n",
       "      <td>1.0</td>\n",
       "      <td>5-6 hours</td>\n",
       "      <td>Unhealthy</td>\n",
       "      <td>BBA</td>\n",
       "      <td>Yes</td>\n",
       "      <td>9.0</td>\n",
       "      <td>4.0</td>\n",
       "      <td>Yes</td>\n",
       "      <td>0</td>\n",
       "    </tr>\n",
       "  </tbody>\n",
       "</table>\n",
       "</div>"
      ],
      "text/plain": [
       "   id      Name  Gender   Age           City Working Professional or Student  \\\n",
       "0   0  Aaradhya  Female  49.0       Ludhiana            Working Professional   \n",
       "1   1     Vivan    Male  26.0       Varanasi            Working Professional   \n",
       "2   2    Yuvraj    Male  33.0  Visakhapatnam                         Student   \n",
       "3   3    Yuvraj    Male  22.0         Mumbai            Working Professional   \n",
       "4   4      Rhea  Female  30.0         Kanpur            Working Professional   \n",
       "\n",
       "         Profession  Academic Pressure  Work Pressure  CGPA  \\\n",
       "0              Chef                NaN            5.0   NaN   \n",
       "1           Teacher                NaN            4.0   NaN   \n",
       "2               NaN                5.0            NaN  8.97   \n",
       "3           Teacher                NaN            5.0   NaN   \n",
       "4  Business Analyst                NaN            1.0   NaN   \n",
       "\n",
       "   Study Satisfaction  Job Satisfaction     Sleep Duration Dietary Habits  \\\n",
       "0                 NaN               2.0  More than 8 hours        Healthy   \n",
       "1                 NaN               3.0  Less than 5 hours      Unhealthy   \n",
       "2                 2.0               NaN          5-6 hours        Healthy   \n",
       "3                 NaN               1.0  Less than 5 hours       Moderate   \n",
       "4                 NaN               1.0          5-6 hours      Unhealthy   \n",
       "\n",
       "    Degree Have you ever had suicidal thoughts ?  Work/Study Hours  \\\n",
       "0      BHM                                    No               1.0   \n",
       "1      LLB                                   Yes               7.0   \n",
       "2  B.Pharm                                   Yes               3.0   \n",
       "3      BBA                                   Yes              10.0   \n",
       "4      BBA                                   Yes               9.0   \n",
       "\n",
       "   Financial Stress Family History of Mental Illness  Depression  \n",
       "0               2.0                               No           0  \n",
       "1               3.0                               No           1  \n",
       "2               1.0                               No           1  \n",
       "3               1.0                              Yes           1  \n",
       "4               4.0                              Yes           0  "
      ]
     },
     "execution_count": 3,
     "metadata": {},
     "output_type": "execute_result"
    }
   ],
   "source": [
    "df = pd.read_csv(TRAIN_FILE)\n",
    "df.head()"
   ]
  },
  {
   "cell_type": "code",
   "execution_count": 4,
   "id": "bda99471",
   "metadata": {
    "execution": {
     "iopub.execute_input": "2024-11-08T07:14:49.551861Z",
     "iopub.status.busy": "2024-11-08T07:14:49.551378Z",
     "iopub.status.idle": "2024-11-08T07:14:49.659276Z",
     "shell.execute_reply": "2024-11-08T07:14:49.657690Z"
    },
    "papermill": {
     "duration": 0.123876,
     "end_time": "2024-11-08T07:14:49.663142",
     "exception": false,
     "start_time": "2024-11-08T07:14:49.539266",
     "status": "completed"
    },
    "tags": []
   },
   "outputs": [],
   "source": [
    "# Some column names are too big\n",
    "df = df.rename(columns={\n",
    "    \"Have you ever had suicidal thoughts ?\": \"Suicidal Thoughts\",\n",
    "    \"Family History of Mental Illness\": \"Family History\",\n",
    "})\n",
    "\n",
    "# The Working Professional or Student column is redundant so we'll\n",
    "# move the \"Student\" data points to the Profession column\n",
    "df.loc[df[\"Working Professional or Student\"] == \"Student\", \"Profession\"] = \"Student\"\n",
    "\n",
    "# Academic Presssure and Study Satisfaction are only available for Students\n",
    "# We can merge them with Work Pressure and Job Satisfaction\n",
    "df[\"Work Pressure\"].fillna(df[\"Academic Pressure\"], inplace=True)\n",
    "df[\"Job Satisfaction\"].fillna(df[\"Study Satisfaction\"], inplace=True)\n",
    "\n",
    "# Removing the columns we have no use of now\n",
    "df = df.drop([\"id\", \"Name\", \"Working Professional or Student\", \"Academic Pressure\", \"Study Satisfaction\"], axis=1).reset_index(drop=True)"
   ]
  },
  {
   "cell_type": "code",
   "execution_count": 5,
   "id": "456fe112",
   "metadata": {
    "execution": {
     "iopub.execute_input": "2024-11-08T07:14:49.693501Z",
     "iopub.status.busy": "2024-11-08T07:14:49.693056Z",
     "iopub.status.idle": "2024-11-08T07:14:51.451136Z",
     "shell.execute_reply": "2024-11-08T07:14:51.449897Z"
    },
    "papermill": {
     "duration": 1.775877,
     "end_time": "2024-11-08T07:14:51.454190",
     "exception": false,
     "start_time": "2024-11-08T07:14:49.678313",
     "status": "completed"
    },
    "tags": []
   },
   "outputs": [],
   "source": [
    "# Let's designate all professions, cities and degrees which have less than 5 samples to \"Other\"\n",
    "def reduce_noise(col):\n",
    "    value_counts = df[col].value_counts()\n",
    "    rare_values = value_counts[value_counts < 5].index\n",
    "    df[col] = df[col].replace(rare_values, 'Other')\n",
    "\n",
    "for col in [\"Profession\", \"City\", \"Degree\"]:\n",
    "    reduce_noise(col)"
   ]
  },
  {
   "cell_type": "code",
   "execution_count": 6,
   "id": "5da88b66",
   "metadata": {
    "execution": {
     "iopub.execute_input": "2024-11-08T07:14:51.477704Z",
     "iopub.status.busy": "2024-11-08T07:14:51.476951Z",
     "iopub.status.idle": "2024-11-08T07:14:51.560857Z",
     "shell.execute_reply": "2024-11-08T07:14:51.559355Z"
    },
    "papermill": {
     "duration": 0.098794,
     "end_time": "2024-11-08T07:14:51.563792",
     "exception": false,
     "start_time": "2024-11-08T07:14:51.464998",
     "status": "completed"
    },
    "tags": []
   },
   "outputs": [],
   "source": [
    "# The dataset is kinda unclean, we need to weed out non numerical values from supposedly numerical columns\n",
    "df['Work/Study Hours'] = pd.to_numeric(df['Work/Study Hours'], errors='coerce')\n",
    "\n",
    "# Also, convert 2 value columns into true binary columns\n",
    "df[\"Family History\"] = df[\"Family History\"].map({\"Yes\": 1, \"No\": 0})\n",
    "df[\"Suicidal Thoughts\"] = df[\"Suicidal Thoughts\"].map({\"Yes\": 1, \"No\": 0})\n",
    "df[\"Gender\"] = df[\"Gender\"].map({\"Female\": 1, \"Male\": 0})\n",
    "df['Dietary Habits'] = df['Dietary Habits'].map({\n",
    "    \"Unhealthy\": -1,\n",
    "    \"Moderate\": 0,\n",
    "    \"Healthy\": 1,\n",
    "})"
   ]
  },
  {
   "cell_type": "code",
   "execution_count": 7,
   "id": "a25094d8",
   "metadata": {
    "execution": {
     "iopub.execute_input": "2024-11-08T07:14:51.586764Z",
     "iopub.status.busy": "2024-11-08T07:14:51.586322Z",
     "iopub.status.idle": "2024-11-08T07:14:51.644433Z",
     "shell.execute_reply": "2024-11-08T07:14:51.643359Z"
    },
    "papermill": {
     "duration": 0.072938,
     "end_time": "2024-11-08T07:14:51.647461",
     "exception": false,
     "start_time": "2024-11-08T07:14:51.574523",
     "status": "completed"
    },
    "tags": []
   },
   "outputs": [
    {
     "name": "stdout",
     "output_type": "stream",
     "text": [
      "Sleep Duration\n",
      "Less than 5 hours    38784\n",
      "7-8 hours            36969\n",
      "More than 8 hours    32726\n",
      "5-6 hours            32142\n",
      "3-4 hours               12\n",
      "6-7 hours                8\n",
      "4-5 hours                7\n",
      "2-3 hours                5\n",
      "4-6 hours                5\n",
      "6-8 hours                4\n",
      "1-6 hours                4\n",
      "No                       4\n",
      "9-11 hours               2\n",
      "10-11 hours              2\n",
      "Sleep_Duration           2\n",
      "Unhealthy                2\n",
      "45                       2\n",
      "8-9 hours                2\n",
      "10-6 hours               1\n",
      "9-5                      1\n",
      "45-48 hours              1\n",
      "3-6 hours                1\n",
      "Work_Study_Hours         1\n",
      "49 hours                 1\n",
      "than 5 hours             1\n",
      "Pune                     1\n",
      "9-6 hours                1\n",
      "8 hours                  1\n",
      "35-36 hours              1\n",
      "Indore                   1\n",
      "1-3 hours                1\n",
      "55-66 hours              1\n",
      "Moderate                 1\n",
      "40-45 hours              1\n",
      "1-2 hours                1\n",
      "9-5 hours                1\n",
      "Name: count, dtype: int64\n"
     ]
    }
   ],
   "source": [
    "# Sleep Duration has a bunch of differen values. Also we need to encode the values manually as any\n",
    "# Encoder will not be able to properly encode these.\n",
    "print(df[\"Sleep Duration\"].value_counts())\n",
    "\n",
    "# We map the most common durations, the rest will be converted to nan, \n",
    "# which is fine since they are very few in number\n",
    "df[\"Sleep Duration\"] = df[\"Sleep Duration\"].map({\n",
    "    \"3-4 hours\": 4,\n",
    "    \"4-5 hours\": 4,\n",
    "    \"Less than 5 hours\": 4,\n",
    "    \"5-6 hours\": 5,\n",
    "    \"6-7 hours\": 6,\n",
    "    \"7-8 hours\": 7,\n",
    "    \"More than 8 hours\": 8\n",
    "})"
   ]
  },
  {
   "cell_type": "code",
   "execution_count": 8,
   "id": "a1ca892d",
   "metadata": {
    "execution": {
     "iopub.execute_input": "2024-11-08T07:14:51.672340Z",
     "iopub.status.busy": "2024-11-08T07:14:51.671870Z",
     "iopub.status.idle": "2024-11-08T07:14:51.712152Z",
     "shell.execute_reply": "2024-11-08T07:14:51.710841Z"
    },
    "papermill": {
     "duration": 0.055512,
     "end_time": "2024-11-08T07:14:51.715087",
     "exception": false,
     "start_time": "2024-11-08T07:14:51.659575",
     "status": "completed"
    },
    "tags": []
   },
   "outputs": [
    {
     "data": {
      "text/html": [
       "<div>\n",
       "<style scoped>\n",
       "    .dataframe tbody tr th:only-of-type {\n",
       "        vertical-align: middle;\n",
       "    }\n",
       "\n",
       "    .dataframe tbody tr th {\n",
       "        vertical-align: top;\n",
       "    }\n",
       "\n",
       "    .dataframe thead th {\n",
       "        text-align: right;\n",
       "    }\n",
       "</style>\n",
       "<table border=\"1\" class=\"dataframe\">\n",
       "  <thead>\n",
       "    <tr style=\"text-align: right;\">\n",
       "      <th></th>\n",
       "      <th>Gender</th>\n",
       "      <th>Age</th>\n",
       "      <th>City</th>\n",
       "      <th>Profession</th>\n",
       "      <th>Work Pressure</th>\n",
       "      <th>CGPA</th>\n",
       "      <th>Job Satisfaction</th>\n",
       "      <th>Sleep Duration</th>\n",
       "      <th>Dietary Habits</th>\n",
       "      <th>Degree</th>\n",
       "      <th>Suicidal Thoughts</th>\n",
       "      <th>Work/Study Hours</th>\n",
       "      <th>Financial Stress</th>\n",
       "      <th>Family History</th>\n",
       "      <th>Depression</th>\n",
       "    </tr>\n",
       "  </thead>\n",
       "  <tbody>\n",
       "    <tr>\n",
       "      <th>117902</th>\n",
       "      <td>0</td>\n",
       "      <td>46.0</td>\n",
       "      <td>Delhi</td>\n",
       "      <td>Chef</td>\n",
       "      <td>3.0</td>\n",
       "      <td>NaN</td>\n",
       "      <td>1.0</td>\n",
       "      <td>8.0</td>\n",
       "      <td>-1.0</td>\n",
       "      <td>MHM</td>\n",
       "      <td>1</td>\n",
       "      <td>5.0</td>\n",
       "      <td>5.0</td>\n",
       "      <td>1</td>\n",
       "      <td>0</td>\n",
       "    </tr>\n",
       "    <tr>\n",
       "      <th>6985</th>\n",
       "      <td>1</td>\n",
       "      <td>18.0</td>\n",
       "      <td>Kolkata</td>\n",
       "      <td>NaN</td>\n",
       "      <td>3.0</td>\n",
       "      <td>NaN</td>\n",
       "      <td>2.0</td>\n",
       "      <td>8.0</td>\n",
       "      <td>0.0</td>\n",
       "      <td>Class 12</td>\n",
       "      <td>1</td>\n",
       "      <td>9.0</td>\n",
       "      <td>2.0</td>\n",
       "      <td>0</td>\n",
       "      <td>1</td>\n",
       "    </tr>\n",
       "    <tr>\n",
       "      <th>20734</th>\n",
       "      <td>1</td>\n",
       "      <td>57.0</td>\n",
       "      <td>Bhopal</td>\n",
       "      <td>Entrepreneur</td>\n",
       "      <td>4.0</td>\n",
       "      <td>NaN</td>\n",
       "      <td>2.0</td>\n",
       "      <td>4.0</td>\n",
       "      <td>1.0</td>\n",
       "      <td>BSc</td>\n",
       "      <td>0</td>\n",
       "      <td>4.0</td>\n",
       "      <td>4.0</td>\n",
       "      <td>0</td>\n",
       "      <td>0</td>\n",
       "    </tr>\n",
       "    <tr>\n",
       "      <th>54323</th>\n",
       "      <td>0</td>\n",
       "      <td>42.0</td>\n",
       "      <td>Jaipur</td>\n",
       "      <td>HR Manager</td>\n",
       "      <td>2.0</td>\n",
       "      <td>NaN</td>\n",
       "      <td>2.0</td>\n",
       "      <td>4.0</td>\n",
       "      <td>1.0</td>\n",
       "      <td>M.Tech</td>\n",
       "      <td>0</td>\n",
       "      <td>11.0</td>\n",
       "      <td>4.0</td>\n",
       "      <td>1</td>\n",
       "      <td>0</td>\n",
       "    </tr>\n",
       "    <tr>\n",
       "      <th>31778</th>\n",
       "      <td>0</td>\n",
       "      <td>19.0</td>\n",
       "      <td>Thane</td>\n",
       "      <td>Student</td>\n",
       "      <td>3.0</td>\n",
       "      <td>7.48</td>\n",
       "      <td>2.0</td>\n",
       "      <td>8.0</td>\n",
       "      <td>-1.0</td>\n",
       "      <td>Class 12</td>\n",
       "      <td>1</td>\n",
       "      <td>12.0</td>\n",
       "      <td>3.0</td>\n",
       "      <td>0</td>\n",
       "      <td>1</td>\n",
       "    </tr>\n",
       "    <tr>\n",
       "      <th>87376</th>\n",
       "      <td>0</td>\n",
       "      <td>57.0</td>\n",
       "      <td>Bhopal</td>\n",
       "      <td>Consultant</td>\n",
       "      <td>4.0</td>\n",
       "      <td>NaN</td>\n",
       "      <td>1.0</td>\n",
       "      <td>8.0</td>\n",
       "      <td>0.0</td>\n",
       "      <td>MBA</td>\n",
       "      <td>0</td>\n",
       "      <td>2.0</td>\n",
       "      <td>1.0</td>\n",
       "      <td>1</td>\n",
       "      <td>0</td>\n",
       "    </tr>\n",
       "    <tr>\n",
       "      <th>39788</th>\n",
       "      <td>1</td>\n",
       "      <td>54.0</td>\n",
       "      <td>Jaipur</td>\n",
       "      <td>Entrepreneur</td>\n",
       "      <td>2.0</td>\n",
       "      <td>NaN</td>\n",
       "      <td>2.0</td>\n",
       "      <td>7.0</td>\n",
       "      <td>-1.0</td>\n",
       "      <td>BBA</td>\n",
       "      <td>0</td>\n",
       "      <td>1.0</td>\n",
       "      <td>5.0</td>\n",
       "      <td>0</td>\n",
       "      <td>0</td>\n",
       "    </tr>\n",
       "    <tr>\n",
       "      <th>91553</th>\n",
       "      <td>1</td>\n",
       "      <td>27.0</td>\n",
       "      <td>Hyderabad</td>\n",
       "      <td>Software Engineer</td>\n",
       "      <td>3.0</td>\n",
       "      <td>NaN</td>\n",
       "      <td>1.0</td>\n",
       "      <td>7.0</td>\n",
       "      <td>0.0</td>\n",
       "      <td>BCA</td>\n",
       "      <td>0</td>\n",
       "      <td>2.0</td>\n",
       "      <td>1.0</td>\n",
       "      <td>1</td>\n",
       "      <td>0</td>\n",
       "    </tr>\n",
       "    <tr>\n",
       "      <th>36493</th>\n",
       "      <td>0</td>\n",
       "      <td>22.0</td>\n",
       "      <td>Faridabad</td>\n",
       "      <td>Pilot</td>\n",
       "      <td>3.0</td>\n",
       "      <td>NaN</td>\n",
       "      <td>5.0</td>\n",
       "      <td>4.0</td>\n",
       "      <td>1.0</td>\n",
       "      <td>B.Tech</td>\n",
       "      <td>1</td>\n",
       "      <td>9.0</td>\n",
       "      <td>5.0</td>\n",
       "      <td>1</td>\n",
       "      <td>1</td>\n",
       "    </tr>\n",
       "    <tr>\n",
       "      <th>95509</th>\n",
       "      <td>1</td>\n",
       "      <td>53.0</td>\n",
       "      <td>Nagpur</td>\n",
       "      <td>Teacher</td>\n",
       "      <td>1.0</td>\n",
       "      <td>NaN</td>\n",
       "      <td>1.0</td>\n",
       "      <td>7.0</td>\n",
       "      <td>0.0</td>\n",
       "      <td>M.Ed</td>\n",
       "      <td>1</td>\n",
       "      <td>2.0</td>\n",
       "      <td>4.0</td>\n",
       "      <td>1</td>\n",
       "      <td>0</td>\n",
       "    </tr>\n",
       "  </tbody>\n",
       "</table>\n",
       "</div>"
      ],
      "text/plain": [
       "        Gender   Age       City         Profession  Work Pressure  CGPA  \\\n",
       "117902       0  46.0      Delhi               Chef            3.0   NaN   \n",
       "6985         1  18.0    Kolkata                NaN            3.0   NaN   \n",
       "20734        1  57.0     Bhopal       Entrepreneur            4.0   NaN   \n",
       "54323        0  42.0     Jaipur         HR Manager            2.0   NaN   \n",
       "31778        0  19.0      Thane            Student            3.0  7.48   \n",
       "87376        0  57.0     Bhopal         Consultant            4.0   NaN   \n",
       "39788        1  54.0     Jaipur       Entrepreneur            2.0   NaN   \n",
       "91553        1  27.0  Hyderabad  Software Engineer            3.0   NaN   \n",
       "36493        0  22.0  Faridabad              Pilot            3.0   NaN   \n",
       "95509        1  53.0     Nagpur            Teacher            1.0   NaN   \n",
       "\n",
       "        Job Satisfaction  Sleep Duration  Dietary Habits    Degree  \\\n",
       "117902               1.0             8.0            -1.0       MHM   \n",
       "6985                 2.0             8.0             0.0  Class 12   \n",
       "20734                2.0             4.0             1.0       BSc   \n",
       "54323                2.0             4.0             1.0    M.Tech   \n",
       "31778                2.0             8.0            -1.0  Class 12   \n",
       "87376                1.0             8.0             0.0       MBA   \n",
       "39788                2.0             7.0            -1.0       BBA   \n",
       "91553                1.0             7.0             0.0       BCA   \n",
       "36493                5.0             4.0             1.0    B.Tech   \n",
       "95509                1.0             7.0             0.0      M.Ed   \n",
       "\n",
       "        Suicidal Thoughts  Work/Study Hours  Financial Stress  Family History  \\\n",
       "117902                  1               5.0               5.0               1   \n",
       "6985                    1               9.0               2.0               0   \n",
       "20734                   0               4.0               4.0               0   \n",
       "54323                   0              11.0               4.0               1   \n",
       "31778                   1              12.0               3.0               0   \n",
       "87376                   0               2.0               1.0               1   \n",
       "39788                   0               1.0               5.0               0   \n",
       "91553                   0               2.0               1.0               1   \n",
       "36493                   1               9.0               5.0               1   \n",
       "95509                   1               2.0               4.0               1   \n",
       "\n",
       "        Depression  \n",
       "117902           0  \n",
       "6985             1  \n",
       "20734            0  \n",
       "54323            0  \n",
       "31778            1  \n",
       "87376            0  \n",
       "39788            0  \n",
       "91553            0  \n",
       "36493            1  \n",
       "95509            0  "
      ]
     },
     "execution_count": 8,
     "metadata": {},
     "output_type": "execute_result"
    }
   ],
   "source": [
    "df.sample(10)"
   ]
  },
  {
   "cell_type": "markdown",
   "id": "94f2aec3",
   "metadata": {
    "papermill": {
     "duration": 0.010982,
     "end_time": "2024-11-08T07:14:51.737873",
     "exception": false,
     "start_time": "2024-11-08T07:14:51.726891",
     "status": "completed"
    },
    "tags": []
   },
   "source": [
    "# Distribution of some of the basic fields\n",
    "Since the data is a synthetic one, it seems the distribution is intentionally kept very even."
   ]
  },
  {
   "cell_type": "code",
   "execution_count": 9,
   "id": "a175fcb8",
   "metadata": {
    "execution": {
     "iopub.execute_input": "2024-11-08T07:14:51.762217Z",
     "iopub.status.busy": "2024-11-08T07:14:51.761751Z",
     "iopub.status.idle": "2024-11-08T07:14:52.798031Z",
     "shell.execute_reply": "2024-11-08T07:14:52.796771Z"
    },
    "papermill": {
     "duration": 1.052015,
     "end_time": "2024-11-08T07:14:52.801264",
     "exception": false,
     "start_time": "2024-11-08T07:14:51.749249",
     "status": "completed"
    },
    "tags": []
   },
   "outputs": [
    {
     "data": {
      "image/png": "[encoded data removed]",
      "text/plain": [
       "<Figure size 1200x1000 with 4 Axes>"
      ]
     },
     "metadata": {},
     "output_type": "display_data"
    }
   ],
   "source": [
    "import matplotlib.pyplot as plt\n",
    "import seaborn as sns\n",
    "\n",
    "# Define the columns to plot and the tick labels\n",
    "categorical_columns = ['Gender', 'Dietary Habits', 'Family History', 'Suicidal Thoughts']\n",
    "custom_tick_labels = {\n",
    "    'Gender': ['Male', 'Female'],\n",
    "    'Dietary Habits': ['Unhealthy', 'Moderate', 'Healthy'],\n",
    "    'Family History': ['No', 'Yes'],\n",
    "    'Suicidal Thoughts': ['No', 'Yes']\n",
    "}\n",
    "\n",
    "# Create a 2x2 subplot layout\n",
    "fig, axes = plt.subplots(2, 2, figsize=(12, 10))\n",
    "\n",
    "# Flatten the axes array for easier iteration\n",
    "axes = axes.flatten()\n",
    "\n",
    "# Iterate over the columns and corresponding axes\n",
    "for i, column in enumerate(categorical_columns):\n",
    "    sns.countplot(data=df, x=column, ax=axes[i])\n",
    "    axes[i].set_title(f'{column} Distribution')\n",
    "    axes[i].set_xticklabels(custom_tick_labels[column], rotation=45)  # Set custom tick labels\n",
    "\n",
    "# Adjust layout\n",
    "plt.tight_layout()\n",
    "plt.show()"
   ]
  },
  {
   "cell_type": "markdown",
   "id": "7a44513c",
   "metadata": {
    "papermill": {
     "duration": 0.012486,
     "end_time": "2024-11-08T07:14:52.826230",
     "exception": false,
     "start_time": "2024-11-08T07:14:52.813744",
     "status": "completed"
    },
    "tags": []
   },
   "source": [
    "### We are going to try out 3 different kinds of models\n",
    "- Regression Based: Logistic Regression\n",
    "- Tree Based: XGBoost\n",
    "- Neural Network Based: TabNet\n",
    "\n",
    "We'll start by doing some preprocessing to get the data ready and then doing a simple split for now since the data is quite well balanced."
   ]
  },
  {
   "cell_type": "markdown",
   "id": "699b26c7",
   "metadata": {
    "papermill": {
     "duration": 0.012076,
     "end_time": "2024-11-08T07:14:52.850565",
     "exception": false,
     "start_time": "2024-11-08T07:14:52.838489",
     "status": "completed"
    },
    "tags": []
   },
   "source": [
    "# Preprocessing"
   ]
  },
  {
   "cell_type": "code",
   "execution_count": 10,
   "id": "abbfe8fa",
   "metadata": {
    "execution": {
     "iopub.execute_input": "2024-11-08T07:14:52.876966Z",
     "iopub.status.busy": "2024-11-08T07:14:52.876516Z",
     "iopub.status.idle": "2024-11-08T07:14:52.883002Z",
     "shell.execute_reply": "2024-11-08T07:14:52.881768Z"
    },
    "papermill": {
     "duration": 0.022788,
     "end_time": "2024-11-08T07:14:52.885557",
     "exception": false,
     "start_time": "2024-11-08T07:14:52.862769",
     "status": "completed"
    },
    "tags": []
   },
   "outputs": [],
   "source": [
    "numerical_cols = [\"Gender\", \"Age\", \"Work Pressure\", \"CGPA\", \"Job Satisfaction\", \"Sleep Duration\", \"Dietary Habits\", \"Suicidal Thoughts\", \"Work/Study Hours\", \"Financial Stress\", \"Family History\"]\n",
    "categorical_cols = [\"City\", \"Profession\", \"Degree\"]"
   ]
  },
  {
   "cell_type": "code",
   "execution_count": 11,
   "id": "36d3606c",
   "metadata": {
    "execution": {
     "iopub.execute_input": "2024-11-08T07:14:52.912832Z",
     "iopub.status.busy": "2024-11-08T07:14:52.912359Z",
     "iopub.status.idle": "2024-11-08T07:14:53.280699Z",
     "shell.execute_reply": "2024-11-08T07:14:53.279275Z"
    },
    "papermill": {
     "duration": 0.385145,
     "end_time": "2024-11-08T07:14:53.283704",
     "exception": false,
     "start_time": "2024-11-08T07:14:52.898559",
     "status": "completed"
    },
    "tags": []
   },
   "outputs": [],
   "source": [
    "# Separate features and target variable\n",
    "X = df.drop(columns=['Depression'])\n",
    "y = df['Depression']\n",
    "\n",
    "# Impute missing values in numerical columns with median\n",
    "num_imputer = SimpleImputer(strategy='median')\n",
    "X[numerical_cols] = num_imputer.fit_transform(X[numerical_cols])\n",
    "\n",
    "# Impute missing values in categorical columns with mode\n",
    "cat_imputer = SimpleImputer(strategy='most_frequent')\n",
    "X[categorical_cols] = cat_imputer.fit_transform(X[categorical_cols])"
   ]
  },
  {
   "cell_type": "code",
   "execution_count": 12,
   "id": "57dd886d",
   "metadata": {
    "execution": {
     "iopub.execute_input": "2024-11-08T07:14:53.310475Z",
     "iopub.status.busy": "2024-11-08T07:14:53.309990Z",
     "iopub.status.idle": "2024-11-08T07:14:53.552634Z",
     "shell.execute_reply": "2024-11-08T07:14:53.551302Z"
    },
    "papermill": {
     "duration": 0.259735,
     "end_time": "2024-11-08T07:14:53.555791",
     "exception": false,
     "start_time": "2024-11-08T07:14:53.296056",
     "status": "completed"
    },
    "tags": []
   },
   "outputs": [],
   "source": [
    "# Apply one-hot encoding to categorical features\n",
    "X = pd.get_dummies(X, columns=categorical_cols, dtype='int', drop_first=True)"
   ]
  },
  {
   "cell_type": "code",
   "execution_count": 13,
   "id": "bf994739",
   "metadata": {
    "execution": {
     "iopub.execute_input": "2024-11-08T07:14:53.582433Z",
     "iopub.status.busy": "2024-11-08T07:14:53.581942Z",
     "iopub.status.idle": "2024-11-08T07:14:53.704080Z",
     "shell.execute_reply": "2024-11-08T07:14:53.702727Z"
    },
    "papermill": {
     "duration": 0.138684,
     "end_time": "2024-11-08T07:14:53.706931",
     "exception": false,
     "start_time": "2024-11-08T07:14:53.568247",
     "status": "completed"
    },
    "tags": []
   },
   "outputs": [],
   "source": [
    "X_train, X_val, y_train, y_val = train_test_split(X, y, test_size=0.05, random_state=SEED)"
   ]
  },
  {
   "cell_type": "markdown",
   "id": "f86db1d4",
   "metadata": {
    "papermill": {
     "duration": 0.012553,
     "end_time": "2024-11-08T07:14:53.732867",
     "exception": false,
     "start_time": "2024-11-08T07:14:53.720314",
     "status": "completed"
    },
    "tags": []
   },
   "source": [
    "# Logistic Regression"
   ]
  },
  {
   "cell_type": "code",
   "execution_count": 14,
   "id": "0df0d82c",
   "metadata": {
    "execution": {
     "iopub.execute_input": "2024-11-08T07:14:53.760397Z",
     "iopub.status.busy": "2024-11-08T07:14:53.759183Z",
     "iopub.status.idle": "2024-11-08T07:14:53.767235Z",
     "shell.execute_reply": "2024-11-08T07:14:53.765858Z"
    },
    "papermill": {
     "duration": 0.024545,
     "end_time": "2024-11-08T07:14:53.769905",
     "exception": false,
     "start_time": "2024-11-08T07:14:53.745360",
     "status": "completed"
    },
    "tags": []
   },
   "outputs": [],
   "source": [
    "def objective(trial):\n",
    "    # Hyperparameters to tune\n",
    "    C = trial.suggest_loguniform('C', 1e-5, 1e1)  # Regularization strength\n",
    "    max_iter = trial.suggest_int('max_iter', 5, 100)\n",
    "    \n",
    "    # Logistic Regression model with suggested parameters\n",
    "    model = LogisticRegression(C=C, max_iter=max_iter, random_state=SEED)\n",
    "    \n",
    "    # Train the model\n",
    "    model.fit(X_train, y_train)\n",
    "    \n",
    "    # Predict on test set\n",
    "    y_pred = model.predict(X_val)\n",
    "    \n",
    "    # Evaluate accuracy\n",
    "    accuracy = accuracy_score(y_val, y_pred)\n",
    "    return accuracy  # Optuna will maximize this score"
   ]
  },
  {
   "cell_type": "code",
   "execution_count": 15,
   "id": "206db5e6",
   "metadata": {
    "execution": {
     "iopub.execute_input": "2024-11-08T07:14:53.796314Z",
     "iopub.status.busy": "2024-11-08T07:14:53.795899Z",
     "iopub.status.idle": "2024-11-08T07:16:45.396213Z",
     "shell.execute_reply": "2024-11-08T07:16:45.395048Z"
    },
    "papermill": {
     "duration": 111.617801,
     "end_time": "2024-11-08T07:16:45.400030",
     "exception": false,
     "start_time": "2024-11-08T07:14:53.782229",
     "status": "completed"
    },
    "tags": []
   },
   "outputs": [
    {
     "name": "stderr",
     "output_type": "stream",
     "text": [
      "[I 2024-11-08 07:14:53,799] A new study created in memory with name: no-name-33317afd-6731-49d5-833b-440392ead1ae\n",
      "[I 2024-11-08 07:14:55,598] Trial 0 finished with value: 0.935181236673774 and parameters: {'C': 2.9125790469823194, 'max_iter': 43}. Best is trial 0 with value: 0.935181236673774.\n",
      "[I 2024-11-08 07:14:58,028] Trial 1 finished with value: 0.9354655294953802 and parameters: {'C': 4.438648877376868, 'max_iter': 61}. Best is trial 1 with value: 0.9354655294953802.\n",
      "[I 2024-11-08 07:14:59,459] Trial 2 finished with value: 0.934044065387349 and parameters: {'C': 0.0021492110239953407, 'max_iter': 34}. Best is trial 1 with value: 0.9354655294953802.\n",
      "[I 2024-11-08 07:15:00,555] Trial 3 finished with value: 0.9263681592039801 and parameters: {'C': 0.017861211764727984, 'max_iter': 24}. Best is trial 1 with value: 0.9354655294953802.\n",
      "[I 2024-11-08 07:15:02,706] Trial 4 finished with value: 0.9358919687277896 and parameters: {'C': 0.15407566807386522, 'max_iter': 55}. Best is trial 4 with value: 0.9358919687277896.\n",
      "[I 2024-11-08 07:15:05,308] Trial 5 finished with value: 0.9354655294953802 and parameters: {'C': 4.794021079313851, 'max_iter': 69}. Best is trial 4 with value: 0.9358919687277896.\n",
      "[I 2024-11-08 07:15:05,830] Trial 6 finished with value: 0.870362473347548 and parameters: {'C': 1.9962159741199072e-05, 'max_iter': 7}. Best is trial 4 with value: 0.9358919687277896.\n",
      "[I 2024-11-08 07:15:06,534] Trial 7 finished with value: 0.8823027718550107 and parameters: {'C': 1.4286159749461135e-05, 'max_iter': 13}. Best is trial 4 with value: 0.9358919687277896.\n",
      "[I 2024-11-08 07:15:08,016] Trial 8 finished with value: 0.9236673773987207 and parameters: {'C': 0.00023260646630774676, 'max_iter': 36}. Best is trial 4 with value: 0.9358919687277896.\n",
      "[I 2024-11-08 07:15:11,438] Trial 9 finished with value: 0.9344705046197583 and parameters: {'C': 1.2109128613681597, 'max_iter': 91}. Best is trial 4 with value: 0.9358919687277896.\n",
      "[I 2024-11-08 07:15:14,576] Trial 10 finished with value: 0.9346126510305615 and parameters: {'C': 0.08660357516365663, 'max_iter': 79}. Best is trial 4 with value: 0.9358919687277896.\n",
      "[I 2024-11-08 07:15:17,022] Trial 11 finished with value: 0.9354655294953802 and parameters: {'C': 0.24410314983595652, 'max_iter': 60}. Best is trial 4 with value: 0.9358919687277896.\n",
      "[I 2024-11-08 07:15:19,309] Trial 12 finished with value: 0.9354655294953802 and parameters: {'C': 0.302424180938809, 'max_iter': 58}. Best is trial 4 with value: 0.9358919687277896.\n",
      "[I 2024-11-08 07:15:24,214] Trial 13 finished with value: 0.9344705046197583 and parameters: {'C': 9.448102277638952, 'max_iter': 100}. Best is trial 4 with value: 0.9358919687277896.\n",
      "[I 2024-11-08 07:15:27,262] Trial 14 finished with value: 0.935181236673774 and parameters: {'C': 0.03350378279502265, 'max_iter': 75}. Best is trial 4 with value: 0.9358919687277896.\n",
      "[I 2024-11-08 07:15:29,274] Trial 15 finished with value: 0.9354655294953802 and parameters: {'C': 0.8686999484753719, 'max_iter': 49}. Best is trial 4 with value: 0.9358919687277896.\n",
      "[I 2024-11-08 07:15:31,653] Trial 16 finished with value: 0.9341862117981521 and parameters: {'C': 0.0040550004688604474, 'max_iter': 64}. Best is trial 4 with value: 0.9358919687277896.\n",
      "[I 2024-11-08 07:15:34,772] Trial 17 finished with value: 0.9343283582089552 and parameters: {'C': 0.19313536017392804, 'max_iter': 82}. Best is trial 4 with value: 0.9358919687277896.\n",
      "[I 2024-11-08 07:15:37,054] Trial 18 finished with value: 0.9343283582089552 and parameters: {'C': 1.1124969747138773, 'max_iter': 53}. Best is trial 4 with value: 0.9358919687277896.\n",
      "[I 2024-11-08 07:15:38,186] Trial 19 finished with value: 0.9228144989339019 and parameters: {'C': 0.00037093354992914063, 'max_iter': 25}. Best is trial 4 with value: 0.9358919687277896.\n",
      "[I 2024-11-08 07:15:40,092] Trial 20 finished with value: 0.9356076759061833 and parameters: {'C': 0.053981884760107395, 'max_iter': 46}. Best is trial 4 with value: 0.9358919687277896.\n",
      "[I 2024-11-08 07:15:41,974] Trial 21 finished with value: 0.9354655294953802 and parameters: {'C': 0.06309825550704062, 'max_iter': 45}. Best is trial 4 with value: 0.9358919687277896.\n",
      "[I 2024-11-08 07:15:44,494] Trial 22 finished with value: 0.9348969438521677 and parameters: {'C': 0.0047619539865510555, 'max_iter': 68}. Best is trial 4 with value: 0.9358919687277896.\n",
      "[I 2024-11-08 07:15:46,781] Trial 23 finished with value: 0.9357498223169864 and parameters: {'C': 0.46285753447826394, 'max_iter': 54}. Best is trial 4 with value: 0.9358919687277896.\n",
      "[I 2024-11-08 07:15:48,282] Trial 24 finished with value: 0.9324804548685146 and parameters: {'C': 0.014148148049039003, 'max_iter': 36}. Best is trial 4 with value: 0.9358919687277896.\n",
      "[I 2024-11-08 07:15:50,267] Trial 25 finished with value: 0.9357498223169864 and parameters: {'C': 0.46302845021753464, 'max_iter': 48}. Best is trial 4 with value: 0.9358919687277896.\n",
      "[I 2024-11-08 07:15:52,326] Trial 26 finished with value: 0.9348969438521677 and parameters: {'C': 0.4312551476958631, 'max_iter': 51}. Best is trial 4 with value: 0.9358919687277896.\n",
      "[I 2024-11-08 07:15:53,578] Trial 27 finished with value: 0.9327647476901209 and parameters: {'C': 0.11688473520636362, 'max_iter': 28}. Best is trial 4 with value: 0.9358919687277896.\n",
      "[I 2024-11-08 07:15:56,444] Trial 28 finished with value: 0.9358919687277896 and parameters: {'C': 0.5624305067580225, 'max_iter': 56}. Best is trial 4 with value: 0.9358919687277896.\n",
      "[I 2024-11-08 07:15:58,392] Trial 29 finished with value: 0.9341862117981521 and parameters: {'C': 1.7821330333323155, 'max_iter': 41}. Best is trial 4 with value: 0.9358919687277896.\n",
      "[I 2024-11-08 07:16:01,103] Trial 30 finished with value: 0.9344705046197583 and parameters: {'C': 2.7901566017629422, 'max_iter': 69}. Best is trial 4 with value: 0.9358919687277896.\n",
      "[I 2024-11-08 07:16:03,364] Trial 31 finished with value: 0.9358919687277896 and parameters: {'C': 0.5694756607016255, 'max_iter': 56}. Best is trial 4 with value: 0.9358919687277896.\n",
      "[I 2024-11-08 07:16:05,665] Trial 32 finished with value: 0.935181236673774 and parameters: {'C': 0.6497403534260286, 'max_iter': 57}. Best is trial 4 with value: 0.9358919687277896.\n",
      "[I 2024-11-08 07:16:08,005] Trial 33 finished with value: 0.9353233830845771 and parameters: {'C': 0.1340009076411317, 'max_iter': 56}. Best is trial 4 with value: 0.9358919687277896.\n",
      "[I 2024-11-08 07:16:09,751] Trial 34 finished with value: 0.935181236673774 and parameters: {'C': 0.026280369588345728, 'max_iter': 41}. Best is trial 4 with value: 0.9358919687277896.\n",
      "[I 2024-11-08 07:16:12,347] Trial 35 finished with value: 0.9358919687277896 and parameters: {'C': 4.946509581629413, 'max_iter': 64}. Best is trial 4 with value: 0.9358919687277896.\n",
      "[I 2024-11-08 07:16:14,939] Trial 36 finished with value: 0.9348969438521677 and parameters: {'C': 7.561794705177376, 'max_iter': 67}. Best is trial 4 with value: 0.9358919687277896.\n",
      "[I 2024-11-08 07:16:17,839] Trial 37 finished with value: 0.9347547974413646 and parameters: {'C': 3.511662786074905, 'max_iter': 73}. Best is trial 4 with value: 0.9358919687277896.\n",
      "[I 2024-11-08 07:16:20,339] Trial 38 finished with value: 0.9350390902629708 and parameters: {'C': 2.1721171092797094, 'max_iter': 63}. Best is trial 4 with value: 0.9358919687277896.\n",
      "[I 2024-11-08 07:16:23,465] Trial 39 finished with value: 0.9346126510305615 and parameters: {'C': 5.123245216201756, 'max_iter': 82}. Best is trial 4 with value: 0.9358919687277896.\n",
      "[I 2024-11-08 07:16:25,861] Trial 40 finished with value: 0.935181236673774 and parameters: {'C': 1.5598623442113726, 'max_iter': 62}. Best is trial 4 with value: 0.9358919687277896.\n",
      "[I 2024-11-08 07:16:28,549] Trial 41 finished with value: 0.9360341151385928 and parameters: {'C': 0.6108022662567226, 'max_iter': 54}. Best is trial 41 with value: 0.9360341151385928.\n",
      "[I 2024-11-08 07:16:32,004] Trial 42 finished with value: 0.9346126510305615 and parameters: {'C': 0.18219446921106303, 'max_iter': 73}. Best is trial 41 with value: 0.9360341151385928.\n",
      "[I 2024-11-08 07:16:34,110] Trial 43 finished with value: 0.9353233830845771 and parameters: {'C': 0.8024393132583009, 'max_iter': 52}. Best is trial 41 with value: 0.9360341151385928.\n",
      "[I 2024-11-08 07:16:36,434] Trial 44 finished with value: 0.9303482587064676 and parameters: {'C': 0.0006575449073297887, 'max_iter': 59}. Best is trial 41 with value: 0.9360341151385928.\n",
      "[I 2024-11-08 07:16:39,064] Trial 45 finished with value: 0.935181236673774 and parameters: {'C': 3.6732275751197636, 'max_iter': 65}. Best is trial 41 with value: 0.9360341151385928.\n",
      "[I 2024-11-08 07:16:40,739] Trial 46 finished with value: 0.9344705046197583 and parameters: {'C': 0.39706749536250374, 'max_iter': 39}. Best is trial 41 with value: 0.9360341151385928.\n",
      "[I 2024-11-08 07:16:42,187] Trial 47 finished with value: 0.9334754797441365 and parameters: {'C': 9.754657100517482, 'max_iter': 33}. Best is trial 41 with value: 0.9360341151385928.\n",
      "[I 2024-11-08 07:16:44,475] Trial 48 finished with value: 0.9105899076048329 and parameters: {'C': 8.155925762048218e-05, 'max_iter': 60}. Best is trial 41 with value: 0.9360341151385928.\n",
      "[I 2024-11-08 07:16:45,389] Trial 49 finished with value: 0.9157071783937456 and parameters: {'C': 0.243713028996391, 'max_iter': 18}. Best is trial 41 with value: 0.9360341151385928.\n"
     ]
    },
    {
     "name": "stdout",
     "output_type": "stream",
     "text": [
      "Best trial:\n",
      "  Value: 0.9360341151385928\n",
      "  Params: \n",
      "    C: 0.6108022662567226\n",
      "    max_iter: 54\n"
     ]
    }
   ],
   "source": [
    "# Create a study and optimize\n",
    "study = optuna.create_study(direction='maximize')\n",
    "study.optimize(objective, n_trials=50)  # You can increase n_trials for a more thorough search\n",
    "\n",
    "# Print the best trial\n",
    "print(\"Best trial:\")\n",
    "trial = study.best_trial\n",
    "print(f\"  Value: {trial.value}\")\n",
    "print(\"  Params: \")\n",
    "for key, value in trial.params.items():\n",
    "    print(f\"    {key}: {value}\")"
   ]
  },
  {
   "cell_type": "code",
   "execution_count": 16,
   "id": "320eebff",
   "metadata": {
    "execution": {
     "iopub.execute_input": "2024-11-08T07:16:45.475495Z",
     "iopub.status.busy": "2024-11-08T07:16:45.474751Z",
     "iopub.status.idle": "2024-11-08T07:16:47.682694Z",
     "shell.execute_reply": "2024-11-08T07:16:47.681158Z"
    },
    "papermill": {
     "duration": 2.251269,
     "end_time": "2024-11-08T07:16:47.687435",
     "exception": false,
     "start_time": "2024-11-08T07:16:45.436166",
     "status": "completed"
    },
    "tags": []
   },
   "outputs": [
    {
     "data": {
      "text/html": [
       "<style>#sk-container-id-1 {color: black;background-color: white;}#sk-container-id-1 pre{padding: 0;}#sk-container-id-1 div.sk-toggleable {background-color: white;}#sk-container-id-1 label.sk-toggleable__label {cursor: pointer;display: block;width: 100%;margin-bottom: 0;padding: 0.3em;box-sizing: border-box;text-align: center;}#sk-container-id-1 label.sk-toggleable__label-arrow:before {content: \"▸\";float: left;margin-right: 0.25em;color: #696969;}#sk-container-id-1 label.sk-toggleable__label-arrow:hover:before {color: black;}#sk-container-id-1 div.sk-estimator:hover label.sk-toggleable__label-arrow:before {color: black;}#sk-container-id-1 div.sk-toggleable__content {max-height: 0;max-width: 0;overflow: hidden;text-align: left;background-color: #f0f8ff;}#sk-container-id-1 div.sk-toggleable__content pre {margin: 0.2em;color: black;border-radius: 0.25em;background-color: #f0f8ff;}#sk-container-id-1 input.sk-toggleable__control:checked~div.sk-toggleable__content {max-height: 200px;max-width: 100%;overflow: auto;}#sk-container-id-1 input.sk-toggleable__control:checked~label.sk-toggleable__label-arrow:before {content: \"▾\";}#sk-container-id-1 div.sk-estimator input.sk-toggleable__control:checked~label.sk-toggleable__label {background-color: #d4ebff;}#sk-container-id-1 div.sk-label input.sk-toggleable__control:checked~label.sk-toggleable__label {background-color: #d4ebff;}#sk-container-id-1 input.sk-hidden--visually {border: 0;clip: rect(1px 1px 1px 1px);clip: rect(1px, 1px, 1px, 1px);height: 1px;margin: -1px;overflow: hidden;padding: 0;position: absolute;width: 1px;}#sk-container-id-1 div.sk-estimator {font-family: monospace;background-color: #f0f8ff;border: 1px dotted black;border-radius: 0.25em;box-sizing: border-box;margin-bottom: 0.5em;}#sk-container-id-1 div.sk-estimator:hover {background-color: #d4ebff;}#sk-container-id-1 div.sk-parallel-item::after {content: \"\";width: 100%;border-bottom: 1px solid gray;flex-grow: 1;}#sk-container-id-1 div.sk-label:hover label.sk-toggleable__label {background-color: #d4ebff;}#sk-container-id-1 div.sk-serial::before {content: \"\";position: absolute;border-left: 1px solid gray;box-sizing: border-box;top: 0;bottom: 0;left: 50%;z-index: 0;}#sk-container-id-1 div.sk-serial {display: flex;flex-direction: column;align-items: center;background-color: white;padding-right: 0.2em;padding-left: 0.2em;position: relative;}#sk-container-id-1 div.sk-item {position: relative;z-index: 1;}#sk-container-id-1 div.sk-parallel {display: flex;align-items: stretch;justify-content: center;background-color: white;position: relative;}#sk-container-id-1 div.sk-item::before, #sk-container-id-1 div.sk-parallel-item::before {content: \"\";position: absolute;border-left: 1px solid gray;box-sizing: border-box;top: 0;bottom: 0;left: 50%;z-index: -1;}#sk-container-id-1 div.sk-parallel-item {display: flex;flex-direction: column;z-index: 1;position: relative;background-color: white;}#sk-container-id-1 div.sk-parallel-item:first-child::after {align-self: flex-end;width: 50%;}#sk-container-id-1 div.sk-parallel-item:last-child::after {align-self: flex-start;width: 50%;}#sk-container-id-1 div.sk-parallel-item:only-child::after {width: 0;}#sk-container-id-1 div.sk-dashed-wrapped {border: 1px dashed gray;margin: 0 0.4em 0.5em 0.4em;box-sizing: border-box;padding-bottom: 0.4em;background-color: white;}#sk-container-id-1 div.sk-label label {font-family: monospace;font-weight: bold;display: inline-block;line-height: 1.2em;}#sk-container-id-1 div.sk-label-container {text-align: center;}#sk-container-id-1 div.sk-container {/* jupyter's `normalize.less` sets `[hidden] { display: none; }` but bootstrap.min.css set `[hidden] { display: none !important; }` so we also need the `!important` here to be able to override the default hidden behavior on the sphinx rendered scikit-learn.org. See: https://github.com/scikit-learn/scikit-learn/issues/21755 */display: inline-block !important;position: relative;}#sk-container-id-1 div.sk-text-repr-fallback {display: none;}</style><div id=\"sk-container-id-1\" class=\"sk-top-container\"><div class=\"sk-text-repr-fallback\"><pre>LogisticRegression(C=0.6108022662567226, max_iter=54, random_state=42)</pre><b>In a Jupyter environment, please rerun this cell to show the HTML representation or trust the notebook. <br />On GitHub, the HTML representation is unable to render, please try loading this page with nbviewer.org.</b></div><div class=\"sk-container\" hidden><div class=\"sk-item\"><div class=\"sk-estimator sk-toggleable\"><input class=\"sk-toggleable__control sk-hidden--visually\" id=\"sk-estimator-id-1\" type=\"checkbox\" checked><label for=\"sk-estimator-id-1\" class=\"sk-toggleable__label sk-toggleable__label-arrow\">LogisticRegression</label><div class=\"sk-toggleable__content\"><pre>LogisticRegression(C=0.6108022662567226, max_iter=54, random_state=42)</pre></div></div></div></div></div>"
      ],
      "text/plain": [
       "LogisticRegression(C=0.6108022662567226, max_iter=54, random_state=42)"
      ]
     },
     "execution_count": 16,
     "metadata": {},
     "output_type": "execute_result"
    }
   ],
   "source": [
    "# Extract the best parameters\n",
    "best_params = study.best_params\n",
    "\n",
    "# Initialize and train the final model with the best parameters\n",
    "regression_model = LogisticRegression(**best_params, random_state=42)\n",
    "regression_model.fit(X_train, y_train)"
   ]
  },
  {
   "cell_type": "markdown",
   "id": "32a4974c",
   "metadata": {
    "papermill": {
     "duration": 0.036296,
     "end_time": "2024-11-08T07:16:47.769916",
     "exception": false,
     "start_time": "2024-11-08T07:16:47.733620",
     "status": "completed"
    },
    "tags": []
   },
   "source": [
    "# XGBoost"
   ]
  },
  {
   "cell_type": "code",
   "execution_count": 17,
   "id": "5d3831bb",
   "metadata": {
    "execution": {
     "iopub.execute_input": "2024-11-08T07:16:47.814604Z",
     "iopub.status.busy": "2024-11-08T07:16:47.814171Z",
     "iopub.status.idle": "2024-11-08T07:16:47.823922Z",
     "shell.execute_reply": "2024-11-08T07:16:47.822571Z"
    },
    "papermill": {
     "duration": 0.03134,
     "end_time": "2024-11-08T07:16:47.826665",
     "exception": false,
     "start_time": "2024-11-08T07:16:47.795325",
     "status": "completed"
    },
    "tags": []
   },
   "outputs": [],
   "source": [
    "def objective(trial):\n",
    "    param = {\n",
    "        'n_estimators': trial.suggest_int('n_estimators', 50, 500),\n",
    "        'max_depth': trial.suggest_int('max_depth', 3, 10),\n",
    "        'learning_rate': trial.suggest_loguniform('learning_rate', 1e-4, 1e-1),\n",
    "        'subsample': trial.suggest_float('subsample', 0.5, 1.0),\n",
    "        'colsample_bytree': trial.suggest_float('colsample_bytree', 0.5, 1.0),\n",
    "        'gamma': trial.suggest_float('gamma', 0, 5),\n",
    "        'reg_alpha': trial.suggest_loguniform('reg_alpha', 1e-4, 1.0),\n",
    "        'reg_lambda': trial.suggest_loguniform('reg_lambda', 1e-4, 1.0),\n",
    "        'random_state': 42,\n",
    "        'use_label_encoder': False,\n",
    "        'eval_metric': 'logloss'\n",
    "    }\n",
    "    model = XGBClassifier(**param)\n",
    "    model.fit(X_train, y_train)\n",
    "    y_pred = model.predict(X_val)\n",
    "    accuracy = accuracy_score(y_val, y_pred)\n",
    "    return accuracy  # Optuna will maximize this score"
   ]
  },
  {
   "cell_type": "code",
   "execution_count": 18,
   "id": "bde24f57",
   "metadata": {
    "execution": {
     "iopub.execute_input": "2024-11-08T07:16:47.865104Z",
     "iopub.status.busy": "2024-11-08T07:16:47.864612Z",
     "iopub.status.idle": "2024-11-08T07:26:27.835555Z",
     "shell.execute_reply": "2024-11-08T07:26:27.834647Z"
    },
    "papermill": {
     "duration": 579.993194,
     "end_time": "2024-11-08T07:26:27.838385",
     "exception": false,
     "start_time": "2024-11-08T07:16:47.845191",
     "status": "completed"
    },
    "tags": []
   },
   "outputs": [
    {
     "name": "stderr",
     "output_type": "stream",
     "text": [
      "[I 2024-11-08 07:16:47,868] A new study created in memory with name: no-name-04b9806d-524a-4450-b55c-67dd150de87b\n",
      "[I 2024-11-08 07:16:58,959] Trial 0 finished with value: 0.9375977256574272 and parameters: {'n_estimators': 404, 'max_depth': 4, 'learning_rate': 0.08410275518514786, 'subsample': 0.8763327660071062, 'colsample_bytree': 0.9661967735463154, 'gamma': 3.163302015707008, 'reg_alpha': 0.23538716796047815, 'reg_lambda': 0.0027430673091043967}. Best is trial 0 with value: 0.9375977256574272.\n",
      "[I 2024-11-08 07:17:14,285] Trial 1 finished with value: 0.9366027007818053 and parameters: {'n_estimators': 281, 'max_depth': 8, 'learning_rate': 0.03226794806059281, 'subsample': 0.8549446701283023, 'colsample_bytree': 0.7081557950185977, 'gamma': 3.940366587892889, 'reg_alpha': 0.00022003760876139494, 'reg_lambda': 0.002119774380003874}. Best is trial 0 with value: 0.9375977256574272.\n",
      "[I 2024-11-08 07:17:20,295] Trial 2 finished with value: 0.9373134328358209 and parameters: {'n_estimators': 140, 'max_depth': 7, 'learning_rate': 0.09576035349121609, 'subsample': 0.5046521515322678, 'colsample_bytree': 0.6677840587913685, 'gamma': 3.636433574690581, 'reg_alpha': 0.00588612018846839, 'reg_lambda': 0.048021020625707095}. Best is trial 0 with value: 0.9375977256574272.\n",
      "[I 2024-11-08 07:17:40,728] Trial 3 finished with value: 0.9356076759061833 and parameters: {'n_estimators': 398, 'max_depth': 8, 'learning_rate': 0.02070567037291563, 'subsample': 0.7148797576698114, 'colsample_bytree': 0.8499565115715724, 'gamma': 4.867935902936352, 'reg_alpha': 0.33922585194716276, 'reg_lambda': 0.0003711170555261311}. Best is trial 0 with value: 0.9375977256574272.\n",
      "[I 2024-11-08 07:18:03,306] Trial 4 finished with value: 0.8163468372423597 and parameters: {'n_estimators': 425, 'max_depth': 10, 'learning_rate': 0.00012768814562112973, 'subsample': 0.8806773554394398, 'colsample_bytree': 0.861261254951776, 'gamma': 4.358249429239025, 'reg_alpha': 0.6376155684430828, 'reg_lambda': 0.0013609753667033436}. Best is trial 0 with value: 0.9375977256574272.\n",
      "[I 2024-11-08 07:18:10,655] Trial 5 finished with value: 0.935181236673774 and parameters: {'n_estimators': 121, 'max_depth': 5, 'learning_rate': 0.04552066645774597, 'subsample': 0.8464336792911322, 'colsample_bytree': 0.5489760836035835, 'gamma': 3.5762494608174906, 'reg_alpha': 0.04253647570223637, 'reg_lambda': 0.6680735561632118}. Best is trial 0 with value: 0.9375977256574272.\n",
      "[I 2024-11-08 07:18:39,413] Trial 6 finished with value: 0.935181236673774 and parameters: {'n_estimators': 470, 'max_depth': 9, 'learning_rate': 0.004772668190874685, 'subsample': 0.877212123995434, 'colsample_bytree': 0.6419045748649802, 'gamma': 1.8993058410612629, 'reg_alpha': 0.30713249080364674, 'reg_lambda': 0.0010449961100141207}. Best is trial 0 with value: 0.9375977256574272.\n",
      "[I 2024-11-08 07:18:48,830] Trial 7 finished with value: 0.8163468372423597 and parameters: {'n_estimators': 177, 'max_depth': 9, 'learning_rate': 0.000462711646059984, 'subsample': 0.6528075238972535, 'colsample_bytree': 0.9377376390612648, 'gamma': 3.5903454637328474, 'reg_alpha': 0.00014541754328257432, 'reg_lambda': 0.00011106532389050466}. Best is trial 0 with value: 0.9375977256574272.\n",
      "[I 2024-11-08 07:18:55,153] Trial 8 finished with value: 0.9348969438521677 and parameters: {'n_estimators': 180, 'max_depth': 3, 'learning_rate': 0.030167043594361374, 'subsample': 0.5511842801943929, 'colsample_bytree': 0.6369650006297503, 'gamma': 1.9813920149664583, 'reg_alpha': 0.0933450111945811, 'reg_lambda': 0.012957208367074835}. Best is trial 0 with value: 0.9375977256574272.\n",
      "[I 2024-11-08 07:18:59,408] Trial 9 finished with value: 0.897228144989339 and parameters: {'n_estimators': 128, 'max_depth': 3, 'learning_rate': 0.0072307216736229064, 'subsample': 0.8360047036070746, 'colsample_bytree': 0.6684688083728164, 'gamma': 4.114805657562996, 'reg_alpha': 0.05827267387030963, 'reg_lambda': 0.029857247919532502}. Best is trial 0 with value: 0.9375977256574272.\n",
      "[I 2024-11-08 07:19:13,161] Trial 10 finished with value: 0.8163468372423597 and parameters: {'n_estimators': 317, 'max_depth': 5, 'learning_rate': 0.0011943372758912536, 'subsample': 0.9544116803930152, 'colsample_bytree': 0.9996852125967897, 'gamma': 0.04335970099490272, 'reg_alpha': 0.0019130533811724164, 'reg_lambda': 0.4039459930934576}. Best is trial 0 with value: 0.9375977256574272.\n",
      "[I 2024-11-08 07:19:16,937] Trial 11 finished with value: 0.935181236673774 and parameters: {'n_estimators': 64, 'max_depth': 6, 'learning_rate': 0.08472816142549244, 'subsample': 0.5188525929025607, 'colsample_bytree': 0.8242389898742757, 'gamma': 2.693584574521196, 'reg_alpha': 0.0034140584710633287, 'reg_lambda': 0.08429854644550172}. Best is trial 0 with value: 0.9375977256574272.\n",
      "[I 2024-11-08 07:19:34,494] Trial 12 finished with value: 0.9364605543710022 and parameters: {'n_estimators': 348, 'max_depth': 6, 'learning_rate': 0.011807227085736414, 'subsample': 0.9874401171301483, 'colsample_bytree': 0.7669180844526162, 'gamma': 2.8175264196810215, 'reg_alpha': 0.008240674474746926, 'reg_lambda': 0.0808610688385995}. Best is trial 0 with value: 0.9375977256574272.\n",
      "[I 2024-11-08 07:19:44,162] Trial 13 finished with value: 0.9368869936034115 and parameters: {'n_estimators': 247, 'max_depth': 4, 'learning_rate': 0.09768750566223516, 'subsample': 0.6191273626621882, 'colsample_bytree': 0.5254319325419411, 'gamma': 1.0912165514085777, 'reg_alpha': 0.0010190979042944619, 'reg_lambda': 0.005970003222610785}. Best is trial 0 with value: 0.9375977256574272.\n",
      "[I 2024-11-08 07:19:53,342] Trial 14 finished with value: 0.8992181947405828 and parameters: {'n_estimators': 229, 'max_depth': 5, 'learning_rate': 0.0031910545067082388, 'subsample': 0.7604058422523589, 'colsample_bytree': 0.7785168580788552, 'gamma': 3.14795374864531, 'reg_alpha': 0.029578579448161616, 'reg_lambda': 0.006619563979593563}. Best is trial 0 with value: 0.9375977256574272.\n",
      "[I 2024-11-08 07:20:10,981] Trial 15 finished with value: 0.8163468372423597 and parameters: {'n_estimators': 370, 'max_depth': 7, 'learning_rate': 0.001174475375161397, 'subsample': 0.7566907515580737, 'colsample_bytree': 0.5919799979773183, 'gamma': 2.1323020735029923, 'reg_alpha': 0.014006115436131807, 'reg_lambda': 0.1296849692745912}. Best is trial 0 with value: 0.9375977256574272.\n",
      "[I 2024-11-08 07:20:36,973] Trial 16 finished with value: 0.9368869936034115 and parameters: {'n_estimators': 495, 'max_depth': 7, 'learning_rate': 0.011977178275360847, 'subsample': 0.6093788334242931, 'colsample_bytree': 0.9266183837764574, 'gamma': 4.927469349072586, 'reg_alpha': 0.0004862545227994629, 'reg_lambda': 0.022477695458120762}. Best is trial 0 with value: 0.9375977256574272.\n",
      "[I 2024-11-08 07:20:40,203] Trial 17 finished with value: 0.934044065387349 and parameters: {'n_estimators': 66, 'max_depth': 4, 'learning_rate': 0.059557274425834625, 'subsample': 0.7204450398053834, 'colsample_bytree': 0.7308675901281113, 'gamma': 1.3069556449274908, 'reg_alpha': 0.005110804857203321, 'reg_lambda': 0.0036281887476778537}. Best is trial 0 with value: 0.9375977256574272.\n",
      "[I 2024-11-08 07:20:53,309] Trial 18 finished with value: 0.9356076759061833 and parameters: {'n_estimators': 291, 'max_depth': 4, 'learning_rate': 0.016123435398828483, 'subsample': 0.9372035594228373, 'colsample_bytree': 0.998296675698346, 'gamma': 3.2575575380918966, 'reg_alpha': 0.13005628744783088, 'reg_lambda': 0.0005685686697817661}. Best is trial 0 with value: 0.9375977256574272.\n",
      "[I 2024-11-08 07:21:11,618] Trial 19 finished with value: 0.855863539445629 and parameters: {'n_estimators': 433, 'max_depth': 6, 'learning_rate': 0.001315022936032998, 'subsample': 0.7954581837444421, 'colsample_bytree': 0.6924578260724122, 'gamma': 4.5004809722931896, 'reg_alpha': 0.01958195125107054, 'reg_lambda': 0.2284227277071762}. Best is trial 0 with value: 0.9375977256574272.\n",
      "[I 2024-11-08 07:21:23,291] Trial 20 finished with value: 0.936318407960199 and parameters: {'n_estimators': 210, 'max_depth': 8, 'learning_rate': 0.04968151191304689, 'subsample': 0.6732150139682231, 'colsample_bytree': 0.5912401720538617, 'gamma': 3.704877501490986, 'reg_alpha': 0.21278311400657599, 'reg_lambda': 0.03788639162776445}. Best is trial 0 with value: 0.9375977256574272.\n",
      "[I 2024-11-08 07:21:31,455] Trial 21 finished with value: 0.9368869936034115 and parameters: {'n_estimators': 237, 'max_depth': 4, 'learning_rate': 0.07763523121304862, 'subsample': 0.5674993112642932, 'colsample_bytree': 0.517414587699657, 'gamma': 1.1961713734319523, 'reg_alpha': 0.0007135166438219257, 'reg_lambda': 0.005307308008690604}. Best is trial 0 with value: 0.9375977256574272.\n",
      "[I 2024-11-08 07:21:35,841] Trial 22 finished with value: 0.9368869936034115 and parameters: {'n_estimators': 125, 'max_depth': 3, 'learning_rate': 0.09094385518314091, 'subsample': 0.5994594151169086, 'colsample_bytree': 0.5111605736607783, 'gamma': 0.22475267183880643, 'reg_alpha': 0.0013708969057999935, 'reg_lambda': 0.012047919360614378}. Best is trial 0 with value: 0.9375977256574272.\n",
      "[I 2024-11-08 07:21:49,512] Trial 23 finished with value: 0.936318407960199 and parameters: {'n_estimators': 325, 'max_depth': 5, 'learning_rate': 0.02851347329034329, 'subsample': 0.5110468931183343, 'colsample_bytree': 0.5923656606122458, 'gamma': 0.6896595902041063, 'reg_alpha': 0.9574344112761415, 'reg_lambda': 0.003942079219866317}. Best is trial 0 with value: 0.9375977256574272.\n",
      "[I 2024-11-08 07:21:59,232] Trial 24 finished with value: 0.9378820184790334 and parameters: {'n_estimators': 254, 'max_depth': 4, 'learning_rate': 0.08966638002802407, 'subsample': 0.6448950097631607, 'colsample_bytree': 0.7879527404320941, 'gamma': 2.2463900218056576, 'reg_alpha': 0.002757643033248922, 'reg_lambda': 0.013192685058641549}. Best is trial 24 with value: 0.9378820184790334.\n",
      "[I 2024-11-08 07:22:07,853] Trial 25 finished with value: 0.9366027007818053 and parameters: {'n_estimators': 167, 'max_depth': 7, 'learning_rate': 0.044475434870026496, 'subsample': 0.6677593062867508, 'colsample_bytree': 0.9102886087448128, 'gamma': 2.419161551914213, 'reg_alpha': 0.0026343135389253537, 'reg_lambda': 0.04346616395988604}. Best is trial 24 with value: 0.9378820184790334.\n",
      "[I 2024-11-08 07:22:27,688] Trial 26 finished with value: 0.9348969438521677 and parameters: {'n_estimators': 373, 'max_depth': 6, 'learning_rate': 0.007428798056010124, 'subsample': 0.559917794150613, 'colsample_bytree': 0.7833712615362938, 'gamma': 3.1212346615858944, 'reg_alpha': 0.006944020851162479, 'reg_lambda': 0.02154855811418711}. Best is trial 24 with value: 0.9378820184790334.\n",
      "[I 2024-11-08 07:22:38,092] Trial 27 finished with value: 0.9360341151385928 and parameters: {'n_estimators': 262, 'max_depth': 4, 'learning_rate': 0.021161477821309015, 'subsample': 0.8005682229990495, 'colsample_bytree': 0.8131158925067933, 'gamma': 2.3809317432261143, 'reg_alpha': 0.0003627981915330263, 'reg_lambda': 0.011264783268062635}. Best is trial 24 with value: 0.9378820184790334.\n",
      "[I 2024-11-08 07:22:43,036] Trial 28 finished with value: 0.9381663113006397 and parameters: {'n_estimators': 99, 'max_depth': 5, 'learning_rate': 0.05122092072437093, 'subsample': 0.7042415303565083, 'colsample_bytree': 0.8800679612750034, 'gamma': 1.5067559005349316, 'reg_alpha': 0.012841749752291418, 'reg_lambda': 0.002089212560383016}. Best is trial 28 with value: 0.9381663113006397.\n",
      "[I 2024-11-08 07:22:56,260] Trial 29 finished with value: 0.9367448471926084 and parameters: {'n_estimators': 290, 'max_depth': 5, 'learning_rate': 0.03516122626774564, 'subsample': 0.704475617411244, 'colsample_bytree': 0.8871512629695815, 'gamma': 1.6583279599672505, 'reg_alpha': 0.02144177634933009, 'reg_lambda': 0.002009536688219125}. Best is trial 28 with value: 0.9381663113006397.\n",
      "[I 2024-11-08 07:22:59,534] Trial 30 finished with value: 0.9337597725657427 and parameters: {'n_estimators': 80, 'max_depth': 3, 'learning_rate': 0.06071682400028715, 'subsample': 0.9189739973951209, 'colsample_bytree': 0.9408673213482136, 'gamma': 1.5999021640219706, 'reg_alpha': 0.058800945148222775, 'reg_lambda': 0.00028239121990396516}. Best is trial 28 with value: 0.9381663113006397.\n",
      "[I 2024-11-08 07:23:04,792] Trial 31 finished with value: 0.9360341151385928 and parameters: {'n_estimators': 144, 'max_depth': 4, 'learning_rate': 0.09782342746103494, 'subsample': 0.6405619470629558, 'colsample_bytree': 0.812961076546111, 'gamma': 2.876905083828392, 'reg_alpha': 0.004085737625091667, 'reg_lambda': 0.0020501097909857717}. Best is trial 28 with value: 0.9381663113006397.\n",
      "[I 2024-11-08 07:23:09,517] Trial 32 finished with value: 0.9324804548685146 and parameters: {'n_estimators': 92, 'max_depth': 5, 'learning_rate': 0.027530727345201886, 'subsample': 0.7066041368860569, 'colsample_bytree': 0.9609086331617218, 'gamma': 3.9009642555045634, 'reg_alpha': 0.009516031368664022, 'reg_lambda': 0.0007613550476662146}. Best is trial 28 with value: 0.9381663113006397.\n",
      "[I 2024-11-08 07:23:19,193] Trial 33 finished with value: 0.9371712864250178 and parameters: {'n_estimators': 207, 'max_depth': 7, 'learning_rate': 0.05823044424069457, 'subsample': 0.809981498243683, 'colsample_bytree': 0.8691174050385007, 'gamma': 0.8188400803176289, 'reg_alpha': 0.002529833747694042, 'reg_lambda': 0.003758710324943279}. Best is trial 28 with value: 0.9381663113006397.\n",
      "[I 2024-11-08 07:23:24,228] Trial 34 finished with value: 0.9368869936034115 and parameters: {'n_estimators': 92, 'max_depth': 6, 'learning_rate': 0.038765541520575875, 'subsample': 0.7371487796881482, 'colsample_bytree': 0.7269993571464226, 'gamma': 3.3379046033010993, 'reg_alpha': 0.012435142815044717, 'reg_lambda': 0.0013718706229742675}. Best is trial 28 with value: 0.9381663113006397.\n",
      "[I 2024-11-08 07:23:48,459] Trial 35 finished with value: 0.8163468372423597 and parameters: {'n_estimators': 444, 'max_depth': 9, 'learning_rate': 0.0001680632317507237, 'subsample': 0.6870309366325607, 'colsample_bytree': 0.8917865399909907, 'gamma': 2.151966962386264, 'reg_alpha': 0.5719499217926881, 'reg_lambda': 0.06548722202330781}. Best is trial 28 with value: 0.9381663113006397.\n",
      "[I 2024-11-08 07:23:57,388] Trial 36 finished with value: 0.9364605543710022 and parameters: {'n_estimators': 152, 'max_depth': 8, 'learning_rate': 0.020427184892266484, 'subsample': 0.8938182717651949, 'colsample_bytree': 0.8487812254959063, 'gamma': 4.464721259868382, 'reg_alpha': 0.00010242437442283545, 'reg_lambda': 0.01694772481040586}. Best is trial 28 with value: 0.9381663113006397.\n",
      "[I 2024-11-08 07:24:11,122] Trial 37 finished with value: 0.9373134328358209 and parameters: {'n_estimators': 397, 'max_depth': 4, 'learning_rate': 0.06329491229776427, 'subsample': 0.7698183472292985, 'colsample_bytree': 0.9720132440008957, 'gamma': 1.6764261456361174, 'reg_alpha': 0.12480532516149757, 'reg_lambda': 0.0002778821367128598}. Best is trial 28 with value: 0.9381663113006397.\n",
      "[I 2024-11-08 07:24:18,138] Trial 38 finished with value: 0.9356076759061833 and parameters: {'n_estimators': 207, 'max_depth': 3, 'learning_rate': 0.040815212500171984, 'subsample': 0.6347270485080249, 'colsample_bytree': 0.6802876437555915, 'gamma': 2.6503591650444323, 'reg_alpha': 0.0002821817776698282, 'reg_lambda': 0.009184877553908146}. Best is trial 28 with value: 0.9381663113006397.\n",
      "[I 2024-11-08 07:24:20,815] Trial 39 finished with value: 0.8918265813788202 and parameters: {'n_estimators': 53, 'max_depth': 5, 'learning_rate': 0.014579138849213278, 'subsample': 0.8309695322059018, 'colsample_bytree': 0.6443060094992086, 'gamma': 4.112918657787419, 'reg_alpha': 0.005711862682367269, 'reg_lambda': 0.00013368945873334063}. Best is trial 28 with value: 0.9381663113006397.\n",
      "[I 2024-11-08 07:24:26,539] Trial 40 finished with value: 0.9107320540156361 and parameters: {'n_estimators': 104, 'max_depth': 8, 'learning_rate': 0.007397853216609954, 'subsample': 0.5814032542929807, 'colsample_bytree': 0.7461032124473121, 'gamma': 2.988764016263365, 'reg_alpha': 0.03952812486573468, 'reg_lambda': 0.0024207834747122328}. Best is trial 28 with value: 0.9381663113006397.\n",
      "[I 2024-11-08 07:24:40,237] Trial 41 finished with value: 0.9370291400142147 and parameters: {'n_estimators': 398, 'max_depth': 4, 'learning_rate': 0.06603985264003051, 'subsample': 0.7753222154648924, 'colsample_bytree': 0.9644821346230289, 'gamma': 1.6950333659674441, 'reg_alpha': 0.18098754852277812, 'reg_lambda': 0.0003124368316392415}. Best is trial 28 with value: 0.9381663113006397.\n",
      "[I 2024-11-08 07:24:52,538] Trial 42 finished with value: 0.9366027007818053 and parameters: {'n_estimators': 406, 'max_depth': 4, 'learning_rate': 0.06755836311627457, 'subsample': 0.8680939110232031, 'colsample_bytree': 0.9713310170535071, 'gamma': 1.4402656788039319, 'reg_alpha': 0.37511508852707853, 'reg_lambda': 0.0001510270285760222}. Best is trial 28 with value: 0.9381663113006397.\n",
      "[I 2024-11-08 07:25:05,869] Trial 43 finished with value: 0.9366027007818053 and parameters: {'n_estimators': 454, 'max_depth': 3, 'learning_rate': 0.09969539371456071, 'subsample': 0.5260082450094961, 'colsample_bytree': 0.8458043347818492, 'gamma': 1.9329385824027974, 'reg_alpha': 0.07725516735731904, 'reg_lambda': 0.0005215010547606486}. Best is trial 28 with value: 0.9381663113006397.\n",
      "[I 2024-11-08 07:25:17,527] Trial 44 finished with value: 0.9361762615493959 and parameters: {'n_estimators': 322, 'max_depth': 5, 'learning_rate': 0.0483258936788066, 'subsample': 0.9988724395087363, 'colsample_bytree': 0.9114149436040417, 'gamma': 3.3934193670721737, 'reg_alpha': 0.29908482540070463, 'reg_lambda': 0.000835605176466372}. Best is trial 28 with value: 0.9381663113006397.\n",
      "[I 2024-11-08 07:25:30,516] Trial 45 finished with value: 0.9367448471926084 and parameters: {'n_estimators': 364, 'max_depth': 4, 'learning_rate': 0.028345055917111752, 'subsample': 0.7378903726989577, 'colsample_bytree': 0.9760618761336461, 'gamma': 0.953837680475987, 'reg_alpha': 0.001470283298854989, 'reg_lambda': 0.0013165605158557928}. Best is trial 28 with value: 0.9381663113006397.\n",
      "[I 2024-11-08 07:25:44,933] Trial 46 finished with value: 0.9380241648898365 and parameters: {'n_estimators': 494, 'max_depth': 3, 'learning_rate': 0.07072705306339151, 'subsample': 0.5351200909243345, 'colsample_bytree': 0.8798759899156355, 'gamma': 2.1550981458184473, 'reg_alpha': 0.10647158952579557, 'reg_lambda': 0.14983793086128813}. Best is trial 28 with value: 0.9381663113006397.\n",
      "[I 2024-11-08 07:25:58,114] Trial 47 finished with value: 0.9377398720682303 and parameters: {'n_estimators': 499, 'max_depth': 3, 'learning_rate': 0.07560987039579772, 'subsample': 0.5288359048943055, 'colsample_bytree': 0.7912667495859638, 'gamma': 2.227824619841927, 'reg_alpha': 0.028799550992120938, 'reg_lambda': 0.17834084388323668}. Best is trial 28 with value: 0.9381663113006397.\n",
      "[I 2024-11-08 07:26:14,949] Trial 48 finished with value: 0.9367448471926084 and parameters: {'n_estimators': 499, 'max_depth': 3, 'learning_rate': 0.02082405613014609, 'subsample': 0.5883219307949339, 'colsample_bytree': 0.792114616682859, 'gamma': 2.101601039194259, 'reg_alpha': 0.029279854679667212, 'reg_lambda': 0.8493522097840842}. Best is trial 28 with value: 0.9381663113006397.\n",
      "[I 2024-11-08 07:26:27,825] Trial 49 finished with value: 0.8163468372423597 and parameters: {'n_estimators': 456, 'max_depth': 3, 'learning_rate': 0.000354498234929988, 'subsample': 0.537139290236118, 'colsample_bytree': 0.8293831977060304, 'gamma': 2.3175734606748817, 'reg_alpha': 0.09000860677466986, 'reg_lambda': 0.430145049040244}. Best is trial 28 with value: 0.9381663113006397.\n"
     ]
    },
    {
     "name": "stdout",
     "output_type": "stream",
     "text": [
      "Best trial:\n",
      "  Value: 0.9381663113006397\n",
      "  Params: \n",
      "    n_estimators: 99\n",
      "    max_depth: 5\n",
      "    learning_rate: 0.05122092072437093\n",
      "    subsample: 0.7042415303565083\n",
      "    colsample_bytree: 0.8800679612750034\n",
      "    gamma: 1.5067559005349316\n",
      "    reg_alpha: 0.012841749752291418\n",
      "    reg_lambda: 0.002089212560383016\n"
     ]
    }
   ],
   "source": [
    "study = optuna.create_study(direction='maximize')\n",
    "study.optimize(objective, n_trials=50)  # You can increase n_trials for more exhaustive search\n",
    "\n",
    "# Best trial\n",
    "print(\"Best trial:\")\n",
    "trial = study.best_trial\n",
    "print(f\"  Value: {trial.value}\")\n",
    "print(\"  Params: \")\n",
    "for key, value in trial.params.items():\n",
    "    print(f\"    {key}: {value}\")\n"
   ]
  },
  {
   "cell_type": "code",
   "execution_count": 19,
   "id": "ee434586",
   "metadata": {
    "execution": {
     "iopub.execute_input": "2024-11-08T07:26:27.886157Z",
     "iopub.status.busy": "2024-11-08T07:26:27.885695Z",
     "iopub.status.idle": "2024-11-08T07:26:32.751929Z",
     "shell.execute_reply": "2024-11-08T07:26:32.750879Z"
    },
    "papermill": {
     "duration": 4.893688,
     "end_time": "2024-11-08T07:26:32.754904",
     "exception": false,
     "start_time": "2024-11-08T07:26:27.861216",
     "status": "completed"
    },
    "tags": []
   },
   "outputs": [
    {
     "data": {
      "text/html": [
       "<style>#sk-container-id-2 {color: black;background-color: white;}#sk-container-id-2 pre{padding: 0;}#sk-container-id-2 div.sk-toggleable {background-color: white;}#sk-container-id-2 label.sk-toggleable__label {cursor: pointer;display: block;width: 100%;margin-bottom: 0;padding: 0.3em;box-sizing: border-box;text-align: center;}#sk-container-id-2 label.sk-toggleable__label-arrow:before {content: \"▸\";float: left;margin-right: 0.25em;color: #696969;}#sk-container-id-2 label.sk-toggleable__label-arrow:hover:before {color: black;}#sk-container-id-2 div.sk-estimator:hover label.sk-toggleable__label-arrow:before {color: black;}#sk-container-id-2 div.sk-toggleable__content {max-height: 0;max-width: 0;overflow: hidden;text-align: left;background-color: #f0f8ff;}#sk-container-id-2 div.sk-toggleable__content pre {margin: 0.2em;color: black;border-radius: 0.25em;background-color: #f0f8ff;}#sk-container-id-2 input.sk-toggleable__control:checked~div.sk-toggleable__content {max-height: 200px;max-width: 100%;overflow: auto;}#sk-container-id-2 input.sk-toggleable__control:checked~label.sk-toggleable__label-arrow:before {content: \"▾\";}#sk-container-id-2 div.sk-estimator input.sk-toggleable__control:checked~label.sk-toggleable__label {background-color: #d4ebff;}#sk-container-id-2 div.sk-label input.sk-toggleable__control:checked~label.sk-toggleable__label {background-color: #d4ebff;}#sk-container-id-2 input.sk-hidden--visually {border: 0;clip: rect(1px 1px 1px 1px);clip: rect(1px, 1px, 1px, 1px);height: 1px;margin: -1px;overflow: hidden;padding: 0;position: absolute;width: 1px;}#sk-container-id-2 div.sk-estimator {font-family: monospace;background-color: #f0f8ff;border: 1px dotted black;border-radius: 0.25em;box-sizing: border-box;margin-bottom: 0.5em;}#sk-container-id-2 div.sk-estimator:hover {background-color: #d4ebff;}#sk-container-id-2 div.sk-parallel-item::after {content: \"\";width: 100%;border-bottom: 1px solid gray;flex-grow: 1;}#sk-container-id-2 div.sk-label:hover label.sk-toggleable__label {background-color: #d4ebff;}#sk-container-id-2 div.sk-serial::before {content: \"\";position: absolute;border-left: 1px solid gray;box-sizing: border-box;top: 0;bottom: 0;left: 50%;z-index: 0;}#sk-container-id-2 div.sk-serial {display: flex;flex-direction: column;align-items: center;background-color: white;padding-right: 0.2em;padding-left: 0.2em;position: relative;}#sk-container-id-2 div.sk-item {position: relative;z-index: 1;}#sk-container-id-2 div.sk-parallel {display: flex;align-items: stretch;justify-content: center;background-color: white;position: relative;}#sk-container-id-2 div.sk-item::before, #sk-container-id-2 div.sk-parallel-item::before {content: \"\";position: absolute;border-left: 1px solid gray;box-sizing: border-box;top: 0;bottom: 0;left: 50%;z-index: -1;}#sk-container-id-2 div.sk-parallel-item {display: flex;flex-direction: column;z-index: 1;position: relative;background-color: white;}#sk-container-id-2 div.sk-parallel-item:first-child::after {align-self: flex-end;width: 50%;}#sk-container-id-2 div.sk-parallel-item:last-child::after {align-self: flex-start;width: 50%;}#sk-container-id-2 div.sk-parallel-item:only-child::after {width: 0;}#sk-container-id-2 div.sk-dashed-wrapped {border: 1px dashed gray;margin: 0 0.4em 0.5em 0.4em;box-sizing: border-box;padding-bottom: 0.4em;background-color: white;}#sk-container-id-2 div.sk-label label {font-family: monospace;font-weight: bold;display: inline-block;line-height: 1.2em;}#sk-container-id-2 div.sk-label-container {text-align: center;}#sk-container-id-2 div.sk-container {/* jupyter's `normalize.less` sets `[hidden] { display: none; }` but bootstrap.min.css set `[hidden] { display: none !important; }` so we also need the `!important` here to be able to override the default hidden behavior on the sphinx rendered scikit-learn.org. See: https://github.com/scikit-learn/scikit-learn/issues/21755 */display: inline-block !important;position: relative;}#sk-container-id-2 div.sk-text-repr-fallback {display: none;}</style><div id=\"sk-container-id-2\" class=\"sk-top-container\"><div class=\"sk-text-repr-fallback\"><pre>XGBClassifier(base_score=None, booster=None, callbacks=None,\n",
       "              colsample_bylevel=None, colsample_bynode=None,\n",
       "              colsample_bytree=0.8800679612750034, device=None,\n",
       "              early_stopping_rounds=None, enable_categorical=False,\n",
       "              eval_metric=&#x27;logloss&#x27;, feature_types=None,\n",
       "              gamma=1.5067559005349316, grow_policy=None, importance_type=None,\n",
       "              interaction_constraints=None, learning_rate=0.05122092072437093,\n",
       "              max_bin=None, max_cat_threshold=None, max_cat_to_onehot=None,\n",
       "              max_delta_step=None, max_depth=5, max_leaves=None,\n",
       "              min_child_weight=None, missing=nan, monotone_constraints=None,\n",
       "              multi_strategy=None, n_estimators=99, n_jobs=None,\n",
       "              num_parallel_tree=None, random_state=42, ...)</pre><b>In a Jupyter environment, please rerun this cell to show the HTML representation or trust the notebook. <br />On GitHub, the HTML representation is unable to render, please try loading this page with nbviewer.org.</b></div><div class=\"sk-container\" hidden><div class=\"sk-item\"><div class=\"sk-estimator sk-toggleable\"><input class=\"sk-toggleable__control sk-hidden--visually\" id=\"sk-estimator-id-2\" type=\"checkbox\" checked><label for=\"sk-estimator-id-2\" class=\"sk-toggleable__label sk-toggleable__label-arrow\">XGBClassifier</label><div class=\"sk-toggleable__content\"><pre>XGBClassifier(base_score=None, booster=None, callbacks=None,\n",
       "              colsample_bylevel=None, colsample_bynode=None,\n",
       "              colsample_bytree=0.8800679612750034, device=None,\n",
       "              early_stopping_rounds=None, enable_categorical=False,\n",
       "              eval_metric=&#x27;logloss&#x27;, feature_types=None,\n",
       "              gamma=1.5067559005349316, grow_policy=None, importance_type=None,\n",
       "              interaction_constraints=None, learning_rate=0.05122092072437093,\n",
       "              max_bin=None, max_cat_threshold=None, max_cat_to_onehot=None,\n",
       "              max_delta_step=None, max_depth=5, max_leaves=None,\n",
       "              min_child_weight=None, missing=nan, monotone_constraints=None,\n",
       "              multi_strategy=None, n_estimators=99, n_jobs=None,\n",
       "              num_parallel_tree=None, random_state=42, ...)</pre></div></div></div></div></div>"
      ],
      "text/plain": [
       "XGBClassifier(base_score=None, booster=None, callbacks=None,\n",
       "              colsample_bylevel=None, colsample_bynode=None,\n",
       "              colsample_bytree=0.8800679612750034, device=None,\n",
       "              early_stopping_rounds=None, enable_categorical=False,\n",
       "              eval_metric='logloss', feature_types=None,\n",
       "              gamma=1.5067559005349316, grow_policy=None, importance_type=None,\n",
       "              interaction_constraints=None, learning_rate=0.05122092072437093,\n",
       "              max_bin=None, max_cat_threshold=None, max_cat_to_onehot=None,\n",
       "              max_delta_step=None, max_depth=5, max_leaves=None,\n",
       "              min_child_weight=None, missing=nan, monotone_constraints=None,\n",
       "              multi_strategy=None, n_estimators=99, n_jobs=None,\n",
       "              num_parallel_tree=None, random_state=42, ...)"
      ]
     },
     "execution_count": 19,
     "metadata": {},
     "output_type": "execute_result"
    }
   ],
   "source": [
    "# Extract the best parameters\n",
    "best_params = study.best_params\n",
    "\n",
    "# Initialize and train the final model with the best parameters\n",
    "xgb_model = XGBClassifier(**best_params, random_state=42, use_label_encoder=False, eval_metric='logloss')\n",
    "xgb_model.fit(X_train, y_train)"
   ]
  },
  {
   "cell_type": "markdown",
   "id": "e4adebdb",
   "metadata": {
    "papermill": {
     "duration": 0.02285,
     "end_time": "2024-11-08T07:26:32.800966",
     "exception": false,
     "start_time": "2024-11-08T07:26:32.778116",
     "status": "completed"
    },
    "tags": []
   },
   "source": [
    "# Neural Network: Pytorch"
   ]
  },
  {
   "cell_type": "code",
   "execution_count": 20,
   "id": "eb958983",
   "metadata": {
    "execution": {
     "iopub.execute_input": "2024-11-08T07:26:32.848338Z",
     "iopub.status.busy": "2024-11-08T07:26:32.847797Z",
     "iopub.status.idle": "2024-11-08T07:26:32.992243Z",
     "shell.execute_reply": "2024-11-08T07:26:32.991102Z"
    },
    "papermill": {
     "duration": 0.171257,
     "end_time": "2024-11-08T07:26:32.995011",
     "exception": false,
     "start_time": "2024-11-08T07:26:32.823754",
     "status": "completed"
    },
    "tags": []
   },
   "outputs": [],
   "source": [
    "# Convert data to PyTorch tensors\n",
    "X_train_tensor = torch.tensor(X_train.values, dtype=torch.float32)\n",
    "y_train_tensor = torch.tensor(y_train.values, dtype=torch.long)\n",
    "X_val_tensor = torch.tensor(X_val.values, dtype=torch.float32)\n",
    "y_val_tensor = torch.tensor(y_val.values, dtype=torch.long)\n",
    "\n",
    "# Create TensorDatasets for training and validation\n",
    "train_dataset = TensorDataset(X_train_tensor, y_train_tensor)\n",
    "val_dataset = TensorDataset(X_val_tensor, y_val_tensor)"
   ]
  },
  {
   "cell_type": "code",
   "execution_count": 21,
   "id": "ec699dc7",
   "metadata": {
    "execution": {
     "iopub.execute_input": "2024-11-08T07:26:33.046875Z",
     "iopub.status.busy": "2024-11-08T07:26:33.045674Z",
     "iopub.status.idle": "2024-11-08T07:26:33.055562Z",
     "shell.execute_reply": "2024-11-08T07:26:33.054313Z"
    },
    "papermill": {
     "duration": 0.03836,
     "end_time": "2024-11-08T07:26:33.058231",
     "exception": false,
     "start_time": "2024-11-08T07:26:33.019871",
     "status": "completed"
    },
    "tags": []
   },
   "outputs": [],
   "source": [
    "class NeuralNetwork(nn.Module):\n",
    "    def __init__(self, input_dim, n_layers, hidden_dim, dropout_rate, activation_fn):\n",
    "        super(NeuralNetwork, self).__init__()\n",
    "        \n",
    "        layers = []\n",
    "        in_features = input_dim\n",
    "        \n",
    "        for _ in range(n_layers):\n",
    "            layers.append(nn.Linear(in_features, hidden_dim))\n",
    "            if activation_fn == 'relu':\n",
    "                layers.append(nn.ReLU())\n",
    "            elif activation_fn == 'silu':\n",
    "                layers.append(nn.SiLU())\n",
    "            layers.append(nn.Dropout(dropout_rate))\n",
    "            in_features = hidden_dim\n",
    "\n",
    "        layers.append(nn.Linear(hidden_dim, 2))\n",
    "        self.model = nn.Sequential(*layers)\n",
    "        \n",
    "    def forward(self, x):\n",
    "        return self.model(x)"
   ]
  },
  {
   "cell_type": "code",
   "execution_count": 22,
   "id": "eca67c3a",
   "metadata": {
    "execution": {
     "iopub.execute_input": "2024-11-08T07:26:33.106478Z",
     "iopub.status.busy": "2024-11-08T07:26:33.106028Z",
     "iopub.status.idle": "2024-11-08T07:26:33.118565Z",
     "shell.execute_reply": "2024-11-08T07:26:33.117432Z"
    },
    "papermill": {
     "duration": 0.03997,
     "end_time": "2024-11-08T07:26:33.121543",
     "exception": false,
     "start_time": "2024-11-08T07:26:33.081573",
     "status": "completed"
    },
    "tags": []
   },
   "outputs": [],
   "source": [
    "def objective(trial):\n",
    "    # Hyperparameters to tune\n",
    "    n_layers = trial.suggest_int(\"n_layers\", 1, 4)\n",
    "    hidden_dim = trial.suggest_int(\"hidden_dim\", 16, 128, step=16)\n",
    "    dropout_rate = trial.suggest_float(\"dropout_rate\", 0.1, 0.5)\n",
    "    activation_fn = trial.suggest_categorical(\"activation_fn\", [\"relu\", \"silu\"])\n",
    "    learning_rate = trial.suggest_loguniform(\"learning_rate\", 1e-4, 1e-1)\n",
    "    batch_size = trial.suggest_int(\"batch_size\", 128, 2048, step=128)\n",
    "    n_epochs = 25\n",
    "\n",
    "    # Define the model\n",
    "    model = NeuralNetwork(X_train.shape[1], n_layers, hidden_dim, dropout_rate, activation_fn)\n",
    "    criterion = nn.CrossEntropyLoss()\n",
    "    optimizer = optim.Adam(model.parameters(), lr=learning_rate)\n",
    "\n",
    "    # Create DataLoader\n",
    "    train_loader = DataLoader(train_dataset, batch_size=batch_size, shuffle=True)\n",
    "    \n",
    "    # Train the model\n",
    "    model.train()\n",
    "    for epoch in range(n_epochs):\n",
    "        for X_batch, y_batch in train_loader:\n",
    "            optimizer.zero_grad()\n",
    "            outputs = model(X_batch)\n",
    "            loss = criterion(outputs, y_batch)\n",
    "            loss.backward()\n",
    "            optimizer.step()\n",
    "\n",
    "    model.eval()\n",
    "    with torch.no_grad():\n",
    "        y_pred = model(X_val_tensor)\n",
    "        _, predicted = torch.max(y_pred, 1)\n",
    "        accuracy = accuracy_score(y_val_tensor, predicted)\n",
    "    \n",
    "    return accuracy"
   ]
  },
  {
   "cell_type": "code",
   "execution_count": 23,
   "id": "180971d0",
   "metadata": {
    "execution": {
     "iopub.execute_input": "2024-11-08T07:26:33.171195Z",
     "iopub.status.busy": "2024-11-08T07:26:33.169965Z",
     "iopub.status.idle": "2024-11-08T07:48:15.411656Z",
     "shell.execute_reply": "2024-11-08T07:48:15.410129Z"
    },
    "papermill": {
     "duration": 1302.292852,
     "end_time": "2024-11-08T07:48:15.437522",
     "exception": false,
     "start_time": "2024-11-08T07:26:33.144670",
     "status": "completed"
    },
    "tags": []
   },
   "outputs": [
    {
     "name": "stderr",
     "output_type": "stream",
     "text": [
      "[I 2024-11-08 07:26:33,174] A new study created in memory with name: no-name-f438a88c-939b-4dd7-ba72-0503c460c322\n",
      "[I 2024-11-08 07:27:36,405] Trial 0 finished with value: 0.9341862117981521 and parameters: {'n_layers': 2, 'hidden_dim': 80, 'dropout_rate': 0.2670810666755411, 'activation_fn': 'relu', 'learning_rate': 0.06715463083978555, 'batch_size': 1792}. Best is trial 0 with value: 0.9341862117981521.\n",
      "[I 2024-11-08 07:28:40,722] Trial 1 finished with value: 0.9350390902629708 and parameters: {'n_layers': 4, 'hidden_dim': 16, 'dropout_rate': 0.2320906716387553, 'activation_fn': 'silu', 'learning_rate': 0.00944203010622093, 'batch_size': 512}. Best is trial 1 with value: 0.9350390902629708.\n",
      "[I 2024-11-08 07:29:34,586] Trial 2 finished with value: 0.935181236673774 and parameters: {'n_layers': 1, 'hidden_dim': 32, 'dropout_rate': 0.29927316440336416, 'activation_fn': 'relu', 'learning_rate': 0.00044343193805332105, 'batch_size': 1536}. Best is trial 2 with value: 0.935181236673774.\n",
      "[I 2024-11-08 07:30:33,307] Trial 3 finished with value: 0.9354655294953802 and parameters: {'n_layers': 1, 'hidden_dim': 128, 'dropout_rate': 0.3685355263174924, 'activation_fn': 'silu', 'learning_rate': 0.00016857825416836678, 'batch_size': 768}. Best is trial 3 with value: 0.9354655294953802.\n",
      "[I 2024-11-08 07:31:31,904] Trial 4 finished with value: 0.8163468372423597 and parameters: {'n_layers': 4, 'hidden_dim': 16, 'dropout_rate': 0.19017893484465836, 'activation_fn': 'relu', 'learning_rate': 0.09266001158039569, 'batch_size': 1792}. Best is trial 3 with value: 0.9354655294953802.\n",
      "[I 2024-11-08 07:32:29,474] Trial 5 finished with value: 0.9348969438521677 and parameters: {'n_layers': 2, 'hidden_dim': 16, 'dropout_rate': 0.45166203812172334, 'activation_fn': 'relu', 'learning_rate': 0.0178039193145869, 'batch_size': 1920}. Best is trial 3 with value: 0.9354655294953802.\n",
      "[I 2024-11-08 07:33:34,143] Trial 6 finished with value: 0.9361762615493959 and parameters: {'n_layers': 1, 'hidden_dim': 112, 'dropout_rate': 0.10535548296875362, 'activation_fn': 'silu', 'learning_rate': 0.00036753430410707994, 'batch_size': 384}. Best is trial 6 with value: 0.9361762615493959.\n",
      "[I 2024-11-08 07:34:44,363] Trial 7 finished with value: 0.9348969438521677 and parameters: {'n_layers': 3, 'hidden_dim': 112, 'dropout_rate': 0.32337248596049606, 'activation_fn': 'silu', 'learning_rate': 0.00014962416648829136, 'batch_size': 1920}. Best is trial 6 with value: 0.9361762615493959.\n",
      "[I 2024-11-08 07:35:51,816] Trial 8 finished with value: 0.9348969438521677 and parameters: {'n_layers': 3, 'hidden_dim': 96, 'dropout_rate': 0.13961716125565915, 'activation_fn': 'silu', 'learning_rate': 0.00011401343031384262, 'batch_size': 1920}. Best is trial 6 with value: 0.9361762615493959.\n",
      "[I 2024-11-08 07:36:49,369] Trial 9 finished with value: 0.9358919687277896 and parameters: {'n_layers': 3, 'hidden_dim': 16, 'dropout_rate': 0.16428155758186502, 'activation_fn': 'relu', 'learning_rate': 0.0011998802381297283, 'batch_size': 2048}. Best is trial 6 with value: 0.9361762615493959.\n",
      "[I 2024-11-08 07:37:57,650] Trial 10 finished with value: 0.9370291400142147 and parameters: {'n_layers': 1, 'hidden_dim': 64, 'dropout_rate': 0.10036635607688599, 'activation_fn': 'silu', 'learning_rate': 0.0012119000843345414, 'batch_size': 256}. Best is trial 10 with value: 0.9370291400142147.\n",
      "[I 2024-11-08 07:39:21,646] Trial 11 finished with value: 0.9367448471926084 and parameters: {'n_layers': 1, 'hidden_dim': 64, 'dropout_rate': 0.10127146697556708, 'activation_fn': 'silu', 'learning_rate': 0.0018825855604336329, 'batch_size': 128}. Best is trial 10 with value: 0.9370291400142147.\n",
      "[I 2024-11-08 07:40:56,020] Trial 12 finished with value: 0.9368869936034115 and parameters: {'n_layers': 2, 'hidden_dim': 48, 'dropout_rate': 0.10486963189267284, 'activation_fn': 'silu', 'learning_rate': 0.0025462282832543503, 'batch_size': 128}. Best is trial 10 with value: 0.9370291400142147.\n",
      "[I 2024-11-08 07:41:52,207] Trial 13 finished with value: 0.9354655294953802 and parameters: {'n_layers': 2, 'hidden_dim': 48, 'dropout_rate': 0.19171732935831043, 'activation_fn': 'silu', 'learning_rate': 0.0044360165934402805, 'batch_size': 1152}. Best is trial 10 with value: 0.9370291400142147.\n",
      "[I 2024-11-08 07:43:30,920] Trial 14 finished with value: 0.9344705046197583 and parameters: {'n_layers': 2, 'hidden_dim': 64, 'dropout_rate': 0.4790768675455128, 'activation_fn': 'silu', 'learning_rate': 0.000838575638379618, 'batch_size': 128}. Best is trial 10 with value: 0.9370291400142147.\n",
      "[I 2024-11-08 07:44:26,714] Trial 15 finished with value: 0.937455579246624 and parameters: {'n_layers': 1, 'hidden_dim': 48, 'dropout_rate': 0.23489198267756736, 'activation_fn': 'silu', 'learning_rate': 0.00424770856363718, 'batch_size': 896}. Best is trial 15 with value: 0.937455579246624.\n",
      "[I 2024-11-08 07:45:20,584] Trial 16 finished with value: 0.936318407960199 and parameters: {'n_layers': 1, 'hidden_dim': 80, 'dropout_rate': 0.39109386794683654, 'activation_fn': 'silu', 'learning_rate': 0.0066792288079051566, 'batch_size': 1152}. Best is trial 15 with value: 0.937455579246624.\n",
      "[I 2024-11-08 07:46:17,000] Trial 17 finished with value: 0.9356076759061833 and parameters: {'n_layers': 1, 'hidden_dim': 48, 'dropout_rate': 0.22559542205590688, 'activation_fn': 'silu', 'learning_rate': 0.022912784776296744, 'batch_size': 896}. Best is trial 15 with value: 0.937455579246624.\n",
      "[I 2024-11-08 07:47:14,366] Trial 18 finished with value: 0.9353233830845771 and parameters: {'n_layers': 1, 'hidden_dim': 64, 'dropout_rate': 0.2502160937171971, 'activation_fn': 'silu', 'learning_rate': 0.0006246747981981094, 'batch_size': 1408}. Best is trial 15 with value: 0.937455579246624.\n",
      "[I 2024-11-08 07:48:15,405] Trial 19 finished with value: 0.9346126510305615 and parameters: {'n_layers': 2, 'hidden_dim': 32, 'dropout_rate': 0.31969086448075656, 'activation_fn': 'silu', 'learning_rate': 0.001616701646375029, 'batch_size': 512}. Best is trial 15 with value: 0.937455579246624.\n"
     ]
    },
    {
     "name": "stdout",
     "output_type": "stream",
     "text": [
      "Best trial:\n",
      "  Value: 0.937455579246624\n",
      "  Params: \n",
      "    n_layers: 1\n",
      "    hidden_dim: 48\n",
      "    dropout_rate: 0.23489198267756736\n",
      "    activation_fn: silu\n",
      "    learning_rate: 0.00424770856363718\n",
      "    batch_size: 896\n"
     ]
    }
   ],
   "source": [
    "study = optuna.create_study(direction=\"maximize\")\n",
    "study.optimize(objective, n_trials=20)\n",
    "\n",
    "# Print the best trial\n",
    "print(\"Best trial:\")\n",
    "trial = study.best_trial\n",
    "print(f\"  Value: {trial.value}\")\n",
    "print(\"  Params: \")\n",
    "for key, value in trial.params.items():\n",
    "    print(f\"    {key}: {value}\")"
   ]
  },
  {
   "cell_type": "markdown",
   "id": "64c6f1ef",
   "metadata": {
    "papermill": {
     "duration": 0.024743,
     "end_time": "2024-11-08T07:48:15.487376",
     "exception": false,
     "start_time": "2024-11-08T07:48:15.462633",
     "status": "completed"
    },
    "tags": []
   },
   "source": [
    "# TODO: Prediction\n",
    "Clean and Process the Test Data and predict"
   ]
  },
  {
   "cell_type": "code",
   "execution_count": null,
   "id": "f0e75ec8",
   "metadata": {
    "papermill": {
     "duration": 0.024325,
     "end_time": "2024-11-08T07:48:15.536477",
     "exception": false,
     "start_time": "2024-11-08T07:48:15.512152",
     "status": "completed"
    },
    "tags": []
   },
   "outputs": [],
   "source": []
  }
 ],
 "metadata": {
  "kaggle": {
   "accelerator": "none",
   "dataSources": [
    {
     "databundleVersionId": 10008389,
     "sourceId": 84895,
     "sourceType": "competition"
    }
   ],
   "dockerImageVersionId": 30786,
   "isGpuEnabled": false,
   "isInternetEnabled": true,
   "language": "python",
   "sourceType": "notebook"
  },
  "kernelspec": {
   "display_name": "Python 3",
   "language": "python",
   "name": "python3"
  },
  "language_info": {
   "codemirror_mode": {
    "name": "ipython",
    "version": 3
   },
   "file_extension": ".py",
   "mimetype": "text/x-python",
   "name": "python",
   "nbconvert_exporter": "python",
   "pygments_lexer": "ipython3",
   "version": "3.10.14"
  },
  "papermill": {
   "default_parameters": {},
   "duration": 2019.809799,
   "end_time": "2024-11-08T07:48:17.087172",
   "environment_variables": {},
   "exception": null,
   "input_path": "__notebook__.ipynb",
   "output_path": "__notebook__.ipynb",
   "parameters": {},
   "start_time": "2024-11-08T07:14:37.277373",
   "version": "2.6.0"
  }
 },
 "nbformat": 4,
 "nbformat_minor": 5
}
