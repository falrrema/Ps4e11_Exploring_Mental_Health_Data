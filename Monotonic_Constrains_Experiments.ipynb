{
 "cells": [
  {
   "cell_type": "markdown",
   "metadata": {},
   "source": [
    "# **Monotonic constraints experiments**"
   ]
  },
  {
   "cell_type": "markdown",
   "metadata": {},
   "source": [
    "# **Set-up**"
   ]
  },
  {
   "cell_type": "code",
   "execution_count": 1,
   "metadata": {},
   "outputs": [],
   "source": [
    "import pandas as pd\n",
    "import numpy as np\n",
    "import matplotlib.pyplot as plt\n",
    "import seaborn as sns\n",
    "import warnings\n",
    "import plotly.io as pio\n",
    "import plotly.graph_objects as go\n",
    "from plotly.subplots import make_subplots\n",
    "pd.options.plotting.backend = \"plotly\"\n",
    "pio.templates.default = \"simple_white\"\n",
    "warnings.filterwarnings('ignore')\n",
    "\n",
    "# Import ML\n",
    "from sklearn.model_selection import StratifiedKFold, train_test_split\n",
    "from sklearn.model_selection import cross_validate, cross_val_predict\n",
    "from sklearn.metrics import accuracy_score, roc_auc_score, matthews_corrcoef\n",
    "from catboost import CatBoostClassifier, Pool\n"
   ]
  },
  {
   "cell_type": "code",
   "execution_count": 38,
   "metadata": {},
   "outputs": [
    {
     "data": {
      "text/html": [
       "<div>\n",
       "<style scoped>\n",
       "    .dataframe tbody tr th:only-of-type {\n",
       "        vertical-align: middle;\n",
       "    }\n",
       "\n",
       "    .dataframe tbody tr th {\n",
       "        vertical-align: top;\n",
       "    }\n",
       "\n",
       "    .dataframe thead th {\n",
       "        text-align: right;\n",
       "    }\n",
       "</style>\n",
       "<table border=\"1\" class=\"dataframe\">\n",
       "  <thead>\n",
       "    <tr style=\"text-align: right;\">\n",
       "      <th></th>\n",
       "      <th>is_female</th>\n",
       "      <th>age</th>\n",
       "      <th>city</th>\n",
       "      <th>is_student</th>\n",
       "      <th>profession</th>\n",
       "      <th>academic_pressure</th>\n",
       "      <th>work_pressure</th>\n",
       "      <th>cgpa</th>\n",
       "      <th>study_satisfaction</th>\n",
       "      <th>job_satisfaction</th>\n",
       "      <th>sleep_duration</th>\n",
       "      <th>dietary_habits</th>\n",
       "      <th>degree</th>\n",
       "      <th>suicidal_thoughts</th>\n",
       "      <th>work_study_hours</th>\n",
       "      <th>financial_stress</th>\n",
       "      <th>family_history</th>\n",
       "      <th>depression</th>\n",
       "      <th>is_original</th>\n",
       "    </tr>\n",
       "  </thead>\n",
       "  <tbody>\n",
       "    <tr>\n",
       "      <th>0</th>\n",
       "      <td>1</td>\n",
       "      <td>49</td>\n",
       "      <td>Ludhiana</td>\n",
       "      <td>0</td>\n",
       "      <td>Chef</td>\n",
       "      <td>NaN</td>\n",
       "      <td>5.0</td>\n",
       "      <td>NaN</td>\n",
       "      <td>NaN</td>\n",
       "      <td>2.0</td>\n",
       "      <td>More than 8 hours</td>\n",
       "      <td>Healthy</td>\n",
       "      <td>BHM</td>\n",
       "      <td>0</td>\n",
       "      <td>1.0</td>\n",
       "      <td>2.0</td>\n",
       "      <td>0</td>\n",
       "      <td>0</td>\n",
       "      <td>0</td>\n",
       "    </tr>\n",
       "    <tr>\n",
       "      <th>1</th>\n",
       "      <td>0</td>\n",
       "      <td>26</td>\n",
       "      <td>Varanasi</td>\n",
       "      <td>0</td>\n",
       "      <td>Teacher</td>\n",
       "      <td>NaN</td>\n",
       "      <td>4.0</td>\n",
       "      <td>NaN</td>\n",
       "      <td>NaN</td>\n",
       "      <td>3.0</td>\n",
       "      <td>Less than 5 hours</td>\n",
       "      <td>Unhealthy</td>\n",
       "      <td>LLB</td>\n",
       "      <td>1</td>\n",
       "      <td>7.0</td>\n",
       "      <td>3.0</td>\n",
       "      <td>0</td>\n",
       "      <td>1</td>\n",
       "      <td>0</td>\n",
       "    </tr>\n",
       "    <tr>\n",
       "      <th>2</th>\n",
       "      <td>0</td>\n",
       "      <td>33</td>\n",
       "      <td>Visakhapatnam</td>\n",
       "      <td>1</td>\n",
       "      <td>NaN</td>\n",
       "      <td>5.0</td>\n",
       "      <td>NaN</td>\n",
       "      <td>8.97</td>\n",
       "      <td>2.0</td>\n",
       "      <td>NaN</td>\n",
       "      <td>5-6 hours</td>\n",
       "      <td>Healthy</td>\n",
       "      <td>B.Pharm</td>\n",
       "      <td>1</td>\n",
       "      <td>3.0</td>\n",
       "      <td>1.0</td>\n",
       "      <td>0</td>\n",
       "      <td>1</td>\n",
       "      <td>0</td>\n",
       "    </tr>\n",
       "    <tr>\n",
       "      <th>3</th>\n",
       "      <td>0</td>\n",
       "      <td>22</td>\n",
       "      <td>Mumbai</td>\n",
       "      <td>0</td>\n",
       "      <td>Teacher</td>\n",
       "      <td>NaN</td>\n",
       "      <td>5.0</td>\n",
       "      <td>NaN</td>\n",
       "      <td>NaN</td>\n",
       "      <td>1.0</td>\n",
       "      <td>Less than 5 hours</td>\n",
       "      <td>Moderate</td>\n",
       "      <td>BBA</td>\n",
       "      <td>1</td>\n",
       "      <td>10.0</td>\n",
       "      <td>1.0</td>\n",
       "      <td>1</td>\n",
       "      <td>1</td>\n",
       "      <td>0</td>\n",
       "    </tr>\n",
       "    <tr>\n",
       "      <th>4</th>\n",
       "      <td>1</td>\n",
       "      <td>30</td>\n",
       "      <td>Kanpur</td>\n",
       "      <td>0</td>\n",
       "      <td>Business Analyst</td>\n",
       "      <td>NaN</td>\n",
       "      <td>1.0</td>\n",
       "      <td>NaN</td>\n",
       "      <td>NaN</td>\n",
       "      <td>1.0</td>\n",
       "      <td>5-6 hours</td>\n",
       "      <td>Unhealthy</td>\n",
       "      <td>BBA</td>\n",
       "      <td>1</td>\n",
       "      <td>9.0</td>\n",
       "      <td>4.0</td>\n",
       "      <td>1</td>\n",
       "      <td>0</td>\n",
       "      <td>0</td>\n",
       "    </tr>\n",
       "  </tbody>\n",
       "</table>\n",
       "</div>"
      ],
      "text/plain": [
       "   is_female  age           city  is_student        profession  \\\n",
       "0          1   49       Ludhiana           0              Chef   \n",
       "1          0   26       Varanasi           0           Teacher   \n",
       "2          0   33  Visakhapatnam           1               NaN   \n",
       "3          0   22         Mumbai           0           Teacher   \n",
       "4          1   30         Kanpur           0  Business Analyst   \n",
       "\n",
       "   academic_pressure  work_pressure  cgpa  study_satisfaction  \\\n",
       "0                NaN            5.0   NaN                 NaN   \n",
       "1                NaN            4.0   NaN                 NaN   \n",
       "2                5.0            NaN  8.97                 2.0   \n",
       "3                NaN            5.0   NaN                 NaN   \n",
       "4                NaN            1.0   NaN                 NaN   \n",
       "\n",
       "   job_satisfaction     sleep_duration dietary_habits   degree  \\\n",
       "0               2.0  More than 8 hours        Healthy      BHM   \n",
       "1               3.0  Less than 5 hours      Unhealthy      LLB   \n",
       "2               NaN          5-6 hours        Healthy  B.Pharm   \n",
       "3               1.0  Less than 5 hours       Moderate      BBA   \n",
       "4               1.0          5-6 hours      Unhealthy      BBA   \n",
       "\n",
       "   suicidal_thoughts  work_study_hours  financial_stress  family_history  \\\n",
       "0                  0               1.0               2.0               0   \n",
       "1                  1               7.0               3.0               0   \n",
       "2                  1               3.0               1.0               0   \n",
       "3                  1              10.0               1.0               1   \n",
       "4                  1               9.0               4.0               1   \n",
       "\n",
       "   depression  is_original  \n",
       "0           0            0  \n",
       "1           1            0  \n",
       "2           1            0  \n",
       "3           1            0  \n",
       "4           0            0  "
      ]
     },
     "execution_count": 38,
     "metadata": {},
     "output_type": "execute_result"
    }
   ],
   "source": [
    "train_uncleaned = pd.read_csv('Data/train.csv') # includes the original data \n",
    "test_uncleaned = pd.read_csv('Data/test.csv') # includes the original data \n",
    "train = pd.read_csv('Data/train_cleaned.csv') # includes the original data \n",
    "test = pd.read_csv('Data/test_cleaned.csv')\n",
    "original = pd.read_csv('Data/original_cleaned.csv')\n",
    "train.drop(columns=['cgpa_bucket'], inplace=True)\n",
    "train.head()"
   ]
  },
  {
   "cell_type": "code",
   "execution_count": null,
   "metadata": {},
   "outputs": [],
   "source": []
  },
  {
   "cell_type": "markdown",
   "metadata": {},
   "source": [
    "# **Relationship with the target**"
   ]
  },
  {
   "cell_type": "code",
   "execution_count": 3,
   "metadata": {},
   "outputs": [],
   "source": [
    "# Lets see the relationship between the features and the target. \n",
    "# Separate numerical and categorical features\n",
    "num_features = train.select_dtypes(include=['int32', 'float32']).columns.tolist()\n",
    "cat_features = train.select_dtypes(include=['object', 'string']).columns.tolist()\n",
    "\n",
    "# Remove target and is_original from features\n",
    "num_features = [f for f in num_features if f not in ['depression', 'is_original']]\n",
    "cat_features = [f for f in cat_features if f not in ['depression', 'is_original']]"
   ]
  },
  {
   "cell_type": "code",
   "execution_count": 18,
   "metadata": {},
   "outputs": [
    {
     "data": {
      "application/vnd.plotly.v1+json": {
       "config": {
        "plotlyServerURL": "https://plot.ly"
       },
       "data": [
        {
         "hovertext": [
          "Count: 78797",
          "Count: 64459"
         ],
         "name": "is_female",
         "text": [
          "18.4%",
          "17.8%"
         ],
         "type": "bar",
         "x": [
          0,
          1
         ],
         "xaxis": "x",
         "y": [
          18.45,
          17.82
         ],
         "yaxis": "y"
        },
        {
         "hovertext": [
          "Count: 3981",
          "Count: 2795",
          "Count: 2681",
          "Count: 3580",
          "Count: 2953",
          "Count: 3424",
          "Count: 2992",
          "Count: 3411",
          "Count: 2117",
          "Count: 2670",
          "Count: 3168",
          "Count: 1829",
          "Count: 2160",
          "Count: 2622",
          "Count: 1967",
          "Count: 3212",
          "Count: 2642",
          "Count: 2775",
          "Count: 3155",
          "Count: 2895",
          "Count: 2759",
          "Count: 3197",
          "Count: 4265",
          "Count: 3915",
          "Count: 3321",
          "Count: 3456",
          "Count: 4635",
          "Count: 3592",
          "Count: 4144",
          "Count: 3754",
          "Count: 5171",
          "Count: 3502",
          "Count: 3990",
          "Count: 3268",
          "Count: 5319",
          "Count: 3842",
          "Count: 2981",
          "Count: 4457",
          "Count: 2635",
          "Count: 2897",
          "Count: 3987",
          "Count: 4589",
          "Count: 2551"
         ],
         "name": "age",
         "text": [
          "71.0%",
          "67.0%",
          "63.1%",
          "62.1%",
          "55.6%",
          "55.6%",
          "53.6%",
          "52.6%",
          "52.4%",
          "51.6%",
          "46.0%",
          "42.4%",
          "41.2%",
          "38.8%",
          "32.1%",
          "29.7%",
          "19.6%",
          "6.0%",
          "5.1%",
          "4.4%",
          "3.7%",
          "3.9%",
          "3.0%",
          "3.2%",
          "2.7%",
          "3.4%",
          "3.0%",
          "2.2%",
          "1.6%",
          "1.3%",
          "1.1%",
          "1.1%",
          "1.3%",
          "0.9%",
          "0.2%",
          "0.2%",
          "0.2%",
          "0.2%",
          "0.2%",
          "0.4%",
          "0.2%",
          "0.4%",
          "0.4%"
         ],
         "type": "bar",
         "x": [
          18,
          21,
          19,
          20,
          23,
          24,
          25,
          28,
          22,
          27,
          29,
          32,
          26,
          31,
          30,
          33,
          34,
          37,
          40,
          35,
          36,
          41,
          47,
          43,
          39,
          42,
          38,
          45,
          46,
          48,
          49,
          50,
          51,
          44,
          56,
          59,
          58,
          57,
          52,
          55,
          54,
          53,
          60
         ],
         "xaxis": "x2",
         "y": [
          70.96,
          66.98,
          63.11,
          62.07,
          55.6,
          55.61,
          53.61,
          52.59,
          52.39,
          51.65,
          46.05,
          42.37,
          41.25,
          38.83,
          32.13,
          29.73,
          19.57,
          6.02,
          5.1,
          4.39,
          3.7,
          3.94,
          2.98,
          3.17,
          2.68,
          3.36,
          2.98,
          2.17,
          1.59,
          1.28,
          1.08,
          1.09,
          1.28,
          0.95,
          0.17,
          0.21,
          0.17,
          0.25,
          0.19,
          0.41,
          0.23,
          0.39,
          0.39
         ],
         "yaxis": "y2"
        },
        {
         "hovertext": [
          "Count: 4581",
          "Count: 4369",
          "Count: 3556",
          "Count: 5705",
          "Count: 5176",
          "Count: 4355",
          "Count: 6683",
          "Count: 5860",
          "Count: 4716",
          "Count: 4769",
          "Count: 98",
          "Count: 5314",
          "Count: 4132",
          "Count: 3688",
          "Count: 3667",
          "Count: 4408",
          "Count: 4199",
          "Count: 4656",
          "Count: 5303",
          "Count: 5776",
          "Count: 6013",
          "Count: 5308",
          "Count: 5260",
          "Count: 3217",
          "Count: 4954",
          "Count: 3341",
          "Count: 4287",
          "Count: 4689",
          "Count: 5065",
          "Count: 5629",
          "Count: 4482"
         ],
         "name": "city",
         "text": [
          "27.6%",
          "24.2%",
          "23.2%",
          "21.8%",
          "21.2%",
          "21.4%",
          "19.9%",
          "19.8%",
          "20.2%",
          "19.1%",
          "19.4%",
          "19.2%",
          "19.4%",
          "19.5%",
          "19.0%",
          "18.0%",
          "17.5%",
          "16.8%",
          "17.3%",
          "17.4%",
          "16.4%",
          "16.1%",
          "15.9%",
          "15.9%",
          "16.1%",
          "14.7%",
          "14.5%",
          "14.2%",
          "13.2%",
          "13.4%",
          "12.6%"
         ],
         "type": "bar",
         "x": [
          "Hyderabad",
          "Thane",
          "Bhopal",
          "Ahmedabad",
          "Srinagar",
          "Lucknow",
          "Kalyan",
          "Vasai-Virar",
          "Surat",
          "Agra",
          "NA",
          "Ludhiana",
          "Chennai",
          "Ghaziabad",
          "Delhi",
          "Jaipur",
          "Bangalore",
          "Vadodara",
          "Rajkot",
          "Kolkata",
          "Patna",
          "Pune",
          "Visakhapatnam",
          "Nashik",
          "Indore",
          "Faridabad",
          "Nagpur",
          "Varanasi",
          "Mumbai",
          "Meerut",
          "Kanpur"
         ],
         "xaxis": "x3",
         "y": [
          27.61,
          24.17,
          23.23,
          21.77,
          21.21,
          21.42,
          19.92,
          19.83,
          20.19,
          19.14,
          19.39,
          19.23,
          19.39,
          19.47,
          19.03,
          18.04,
          17.48,
          16.77,
          17.33,
          17.4,
          16.35,
          16.13,
          15.93,
          15.92,
          16.11,
          14.67,
          14.53,
          14.18,
          13.19,
          13.41,
          12.58
         ],
         "yaxis": "y3"
        },
        {
         "hovertext": [
          "Count: 28403",
          "Count: 114853"
         ],
         "name": "is_student",
         "text": [
          "58.4%",
          "8.2%"
         ],
         "type": "bar",
         "x": [
          1,
          0
         ],
         "xaxis": "x4",
         "y": [
          58.4,
          8.21
         ],
         "yaxis": "y4"
        },
        {
         "hovertext": [
          "Count: 37353",
          "Count: 1189",
          "Count: 4106",
          "Count: 1754",
          "Count: 4443",
          "Count: 1207",
          "Count: 1501",
          "Count: 2432",
          "Count: 1779",
          "Count: 2260",
          "Count: 1610",
          "Count: 2896",
          "Count: 404",
          "Count: 1783",
          "Count: 705",
          "Count: 1544",
          "Count: 25228",
          "Count: 1356",
          "Count: 3232",
          "Count: 1952",
          "Count: 4301",
          "Count: 1906",
          "Count: 3321",
          "Count: 2015",
          "Count: 2096",
          "Count: 2921",
          "Count: 1771",
          "Count: 2373",
          "Count: 1367",
          "Count: 1403",
          "Count: 1615",
          "Count: 1478",
          "Count: 3026",
          "Count: 3968",
          "Count: 3031",
          "Count: 7930"
         ],
         "name": "profession",
         "text": [
          "53.3%",
          "18.7%",
          "10.8%",
          "10.9%",
          "9.9%",
          "10.2%",
          "8.1%",
          "7.9%",
          "8.2%",
          "7.6%",
          "8.4%",
          "7.5%",
          "7.2%",
          "6.5%",
          "6.4%",
          "6.1%",
          "5.6%",
          "6.5%",
          "5.7%",
          "5.2%",
          "4.7%",
          "4.6%",
          "5.3%",
          "5.1%",
          "4.5%",
          "4.9%",
          "4.7%",
          "4.0%",
          "4.2%",
          "4.5%",
          "4.2%",
          "4.1%",
          "2.8%",
          "2.6%",
          "2.1%",
          "1.9%"
         ],
         "type": "bar",
         "x": [
          "NA",
          "Graphic Designer",
          "HR Manager",
          "Judge",
          "Architect",
          "Mechanical Engineer",
          "Civil Engineer",
          "Data Scientist",
          "Manager",
          "Lawyer",
          "Financial Analyst",
          "Educational Consultant",
          "Investment Banker",
          "Plumber",
          "Research Analyst",
          "Software Engineer",
          "Teacher",
          "Accountant",
          "Business Analyst",
          "Pilot",
          "Consultant",
          "Travel Consultant",
          "Doctor",
          "Marketing Manager",
          "Customer Support",
          "Chef",
          "Sales Executive",
          "Researcher",
          "Finanancial Analyst",
          "Digital Marketer",
          "Electrician",
          "UX/UI Designer",
          "Chemist",
          "Pharmacist",
          "Entrepreneur",
          "Content Writer"
         ],
         "xaxis": "x5",
         "y": [
          53.3,
          18.67,
          10.76,
          10.95,
          9.95,
          10.19,
          8.13,
          7.89,
          8.15,
          7.57,
          8.39,
          7.49,
          7.18,
          6.45,
          6.38,
          6.09,
          5.6,
          6.49,
          5.72,
          5.17,
          4.74,
          4.56,
          5.3,
          5.11,
          4.53,
          4.93,
          4.74,
          4.05,
          4.17,
          4.49,
          4.21,
          4.06,
          2.81,
          2.65,
          2.08,
          1.89
         ],
         "yaxis": "y5"
        },
        {
         "hovertext": [
          "Count: 6394",
          "Count: 5250",
          "Count: 7588",
          "Count: 4267",
          "Count: 4900",
          "Count: 114857"
         ],
         "name": "academic_pressure",
         "text": [
          "86.1%",
          "76.0%",
          "60.0%",
          "37.4%",
          "19.4%",
          "8.2%"
         ],
         "type": "bar",
         "x": [
          5,
          4,
          3,
          2,
          1,
          -1
         ],
         "xaxis": "x6",
         "y": [
          86.07,
          75.98,
          60,
          37.36,
          19.37,
          8.21
         ],
         "yaxis": "y6"
        },
        {
         "hovertext": [
          "Count: 28420",
          "Count: 22860",
          "Count: 22924",
          "Count: 22303",
          "Count: 24786",
          "Count: 21963"
         ],
         "name": "work_pressure",
         "text": [
          "58.4%",
          "19.6%",
          "10.5%",
          "5.5%",
          "3.3%",
          "2.3%"
         ],
         "type": "bar",
         "x": [
          -1,
          5,
          4,
          3,
          2,
          1
         ],
         "xaxis": "x7",
         "y": [
          58.4,
          19.62,
          10.53,
          5.48,
          3.26,
          2.27
         ],
         "yaxis": "y7"
        },
        {
         "hovertext": [
          "Count: 2",
          "Count: 1",
          "Count: 1",
          "Count: 1",
          "Count: 1",
          "Count: 55",
          "Count: 29",
          "Count: 49",
          "Count: 8",
          "Count: 4",
          "Count: 20",
          "Count: 46",
          "Count: 49",
          "Count: 25",
          "Count: 43",
          "Count: 127",
          "Count: 149",
          "Count: 17",
          "Count: 41",
          "Count: 69",
          "Count: 41",
          "Count: 34",
          "Count: 53",
          "Count: 47",
          "Count: 40",
          "Count: 40",
          "Count: 32",
          "Count: 42",
          "Count: 97",
          "Count: 49",
          "Count: 29",
          "Count: 245",
          "Count: 89",
          "Count: 87",
          "Count: 28",
          "Count: 111",
          "Count: 19",
          "Count: 56",
          "Count: 28",
          "Count: 28",
          "Count: 127",
          "Count: 38",
          "Count: 130",
          "Count: 85",
          "Count: 24",
          "Count: 144",
          "Count: 21",
          "Count: 126",
          "Count: 61",
          "Count: 201",
          "Count: 61",
          "Count: 39",
          "Count: 42",
          "Count: 144",
          "Count: 67",
          "Count: 24",
          "Count: 57",
          "Count: 270",
          "Count: 70",
          "Count: 35",
          "Count: 32",
          "Count: 167",
          "Count: 34",
          "Count: 31",
          "Count: 429",
          "Count: 219",
          "Count: 48",
          "Count: 137",
          "Count: 20",
          "Count: 26",
          "Count: 212",
          "Count: 23",
          "Count: 179",
          "Count: 829",
          "Count: 223",
          "Count: 92",
          "Count: 50",
          "Count: 22",
          "Count: 137",
          "Count: 137",
          "Count: 157",
          "Count: 105",
          "Count: 44",
          "Count: 44",
          "Count: 52",
          "Count: 117",
          "Count: 86",
          "Count: 227",
          "Count: 155",
          "Count: 94",
          "Count: 43",
          "Count: 131",
          "Count: 35",
          "Count: 254",
          "Count: 51",
          "Count: 198",
          "Count: 26",
          "Count: 21",
          "Count: 375",
          "Count: 110",
          "Count: 97",
          "Count: 37",
          "Count: 52",
          "Count: 152",
          "Count: 37",
          "Count: 279",
          "Count: 95",
          "Count: 40",
          "Count: 172",
          "Count: 21",
          "Count: 39",
          "Count: 347",
          "Count: 36",
          "Count: 31",
          "Count: 114",
          "Count: 46",
          "Count: 36",
          "Count: 143",
          "Count: 18",
          "Count: 69",
          "Count: 38",
          "Count: 46",
          "Count: 62",
          "Count: 31",
          "Count: 23",
          "Count: 59",
          "Count: 31",
          "Count: 145",
          "Count: 52",
          "Count: 99",
          "Count: 25",
          "Count: 40",
          "Count: 57",
          "Count: 141",
          "Count: 235",
          "Count: 50",
          "Count: 87",
          "Count: 117",
          "Count: 272",
          "Count: 112",
          "Count: 48",
          "Count: 58",
          "Count: 37",
          "Count: 17",
          "Count: 122",
          "Count: 29",
          "Count: 39",
          "Count: 94",
          "Count: 155",
          "Count: 44",
          "Count: 162",
          "Count: 146",
          "Count: 37",
          "Count: 22",
          "Count: 241",
          "Count: 122",
          "Count: 43",
          "Count: 36",
          "Count: 72",
          "Count: 212",
          "Count: 31",
          "Count: 117",
          "Count: 89",
          "Count: 143",
          "Count: 106",
          "Count: 343",
          "Count: 53",
          "Count: 30",
          "Count: 42",
          "Count: 51",
          "Count: 101",
          "Count: 219",
          "Count: 68",
          "Count: 322",
          "Count: 114",
          "Count: 51",
          "Count: 256",
          "Count: 124",
          "Count: 153",
          "Count: 170",
          "Count: 42",
          "Count: 246",
          "Count: 97",
          "Count: 200",
          "Count: 18",
          "Count: 125",
          "Count: 62",
          "Count: 210",
          "Count: 34",
          "Count: 18",
          "Count: 145",
          "Count: 95",
          "Count: 36",
          "Count: 114",
          "Count: 42",
          "Count: 129",
          "Count: 250",
          "Count: 98",
          "Count: 99",
          "Count: 119",
          "Count: 33",
          "Count: 115",
          "Count: 321",
          "Count: 113",
          "Count: 135",
          "Count: 98",
          "Count: 89",
          "Count: 111",
          "Count: 47",
          "Count: 31",
          "Count: 94",
          "Count: 78",
          "Count: 415",
          "Count: 50",
          "Count: 112",
          "Count: 39",
          "Count: 52",
          "Count: 26",
          "Count: 108",
          "Count: 114",
          "Count: 52",
          "Count: 138",
          "Count: 48",
          "Count: 48",
          "Count: 105",
          "Count: 28",
          "Count: 123",
          "Count: 96",
          "Count: 324",
          "Count: 237",
          "Count: 146",
          "Count: 72",
          "Count: 59",
          "Count: 107",
          "Count: 43",
          "Count: 277",
          "Count: 36",
          "Count: 100",
          "Count: 89",
          "Count: 60",
          "Count: 125",
          "Count: 40",
          "Count: 211",
          "Count: 46",
          "Count: 118",
          "Count: 181",
          "Count: 155",
          "Count: 37",
          "Count: 51",
          "Count: 141",
          "Count: 55",
          "Count: 51",
          "Count: 114",
          "Count: 34",
          "Count: 112",
          "Count: 22",
          "Count: 32",
          "Count: 36",
          "Count: 127",
          "Count: 54",
          "Count: 18",
          "Count: 42",
          "Count: 16",
          "Count: 2",
          "Count: 119",
          "Count: 94",
          "Count: 42",
          "Count: 60",
          "Count: 51",
          "Count: 47",
          "Count: 166",
          "Count: 39",
          "Count: 55",
          "Count: 120",
          "Count: 50",
          "Count: 113",
          "Count: 60",
          "Count: 179",
          "Count: 159",
          "Count: 46",
          "Count: 42",
          "Count: 61",
          "Count: 25",
          "Count: 80",
          "Count: 21",
          "Count: 44",
          "Count: 74",
          "Count: 53",
          "Count: 36",
          "Count: 36",
          "Count: 19",
          "Count: 55",
          "Count: 32",
          "Count: 59",
          "Count: 47",
          "Count: 56",
          "Count: 35",
          "Count: 59",
          "Count: 42",
          "Count: 49",
          "Count: 33",
          "Count: 33",
          "Count: 9",
          "Count: 52",
          "Count: 39",
          "Count: 21",
          "Count: 28",
          "Count: 40",
          "Count: 64",
          "Count: 43",
          "Count: 43",
          "Count: 33",
          "Count: 37",
          "Count: 34",
          "Count: 15",
          "Count: 43",
          "Count: 20",
          "Count: 28",
          "Count: 3",
          "Count: 30",
          "Count: 3",
          "Count: 20",
          "Count: 23",
          "Count: 34",
          "Count: 114856",
          "Count: 1",
          "Count: 1",
          "Count: 1",
          "Count: 1",
          "Count: 1",
          "Count: 1",
          "Count: 1"
         ],
         "name": "cgpa",
         "text": [
          "100.0%",
          "100.0%",
          "100.0%",
          "100.0%",
          "100.0%",
          "80.0%",
          "75.9%",
          "75.5%",
          "75.0%",
          "75.0%",
          "75.0%",
          "73.9%",
          "73.5%",
          "72.0%",
          "72.1%",
          "72.4%",
          "72.5%",
          "70.6%",
          "70.7%",
          "71.0%",
          "70.7%",
          "70.6%",
          "69.8%",
          "70.2%",
          "70.0%",
          "70.0%",
          "68.8%",
          "69.0%",
          "69.1%",
          "69.4%",
          "69.0%",
          "68.6%",
          "68.5%",
          "67.8%",
          "67.9%",
          "68.5%",
          "68.4%",
          "67.9%",
          "67.9%",
          "67.9%",
          "67.7%",
          "68.4%",
          "67.7%",
          "68.2%",
          "66.7%",
          "66.7%",
          "66.7%",
          "66.7%",
          "67.2%",
          "66.7%",
          "67.2%",
          "66.7%",
          "66.7%",
          "66.7%",
          "67.2%",
          "66.7%",
          "66.7%",
          "65.6%",
          "65.7%",
          "65.7%",
          "65.6%",
          "66.5%",
          "64.7%",
          "64.5%",
          "64.8%",
          "64.8%",
          "64.6%",
          "65.0%",
          "65.0%",
          "65.4%",
          "64.6%",
          "65.2%",
          "64.8%",
          "64.9%",
          "65.5%",
          "65.2%",
          "64.0%",
          "63.6%",
          "63.5%",
          "64.2%",
          "63.7%",
          "63.8%",
          "63.6%",
          "63.6%",
          "63.5%",
          "63.2%",
          "62.8%",
          "62.6%",
          "63.2%",
          "62.8%",
          "62.8%",
          "63.4%",
          "62.9%",
          "63.4%",
          "62.8%",
          "62.6%",
          "61.5%",
          "61.9%",
          "62.1%",
          "61.8%",
          "61.9%",
          "62.2%",
          "61.5%",
          "61.8%",
          "62.2%",
          "62.0%",
          "62.1%",
          "62.5%",
          "62.2%",
          "61.9%",
          "61.5%",
          "62.0%",
          "61.1%",
          "61.3%",
          "61.4%",
          "60.9%",
          "61.1%",
          "60.8%",
          "61.1%",
          "60.9%",
          "60.5%",
          "60.9%",
          "61.3%",
          "61.3%",
          "60.9%",
          "61.0%",
          "61.3%",
          "60.7%",
          "59.6%",
          "59.6%",
          "60.0%",
          "60.0%",
          "59.6%",
          "59.6%",
          "60.4%",
          "60.0%",
          "59.8%",
          "59.8%",
          "60.3%",
          "59.8%",
          "60.4%",
          "60.3%",
          "59.5%",
          "58.8%",
          "59.0%",
          "58.6%",
          "59.0%",
          "58.5%",
          "58.7%",
          "59.1%",
          "58.6%",
          "58.9%",
          "59.5%",
          "59.1%",
          "59.3%",
          "58.2%",
          "58.1%",
          "58.3%",
          "58.3%",
          "58.5%",
          "58.1%",
          "58.1%",
          "58.4%",
          "58.0%",
          "57.5%",
          "57.7%",
          "58.5%",
          "56.7%",
          "57.1%",
          "56.9%",
          "57.4%",
          "57.1%",
          "57.4%",
          "57.5%",
          "57.0%",
          "56.9%",
          "57.4%",
          "57.3%",
          "56.9%",
          "57.1%",
          "57.1%",
          "57.3%",
          "55.7%",
          "55.5%",
          "55.6%",
          "56.0%",
          "56.5%",
          "55.7%",
          "55.9%",
          "55.6%",
          "55.9%",
          "55.8%",
          "55.6%",
          "56.1%",
          "54.8%",
          "55.0%",
          "55.2%",
          "55.1%",
          "54.5%",
          "55.5%",
          "54.5%",
          "54.8%",
          "54.5%",
          "54.9%",
          "54.8%",
          "55.1%",
          "55.1%",
          "55.0%",
          "55.3%",
          "54.8%",
          "55.3%",
          "55.1%",
          "54.5%",
          "54.0%",
          "54.5%",
          "53.9%",
          "53.9%",
          "53.9%",
          "53.7%",
          "53.5%",
          "53.9%",
          "54.4%",
          "54.2%",
          "54.2%",
          "54.3%",
          "53.6%",
          "52.9%",
          "53.1%",
          "53.1%",
          "52.7%",
          "53.4%",
          "52.8%",
          "52.5%",
          "53.3%",
          "53.5%",
          "53.4%",
          "52.8%",
          "53.0%",
          "51.7%",
          "51.7%",
          "52.0%",
          "52.5%",
          "51.7%",
          "52.2%",
          "51.7%",
          "51.9%",
          "52.3%",
          "51.4%",
          "51.0%",
          "51.1%",
          "50.9%",
          "51.0%",
          "50.0%",
          "50.0%",
          "50.0%",
          "50.0%",
          "50.0%",
          "50.0%",
          "49.6%",
          "50.0%",
          "50.0%",
          "50.0%",
          "50.0%",
          "50.0%",
          "50.4%",
          "50.0%",
          "50.0%",
          "50.0%",
          "49.0%",
          "48.9%",
          "49.4%",
          "48.7%",
          "49.1%",
          "49.2%",
          "48.0%",
          "47.8%",
          "48.3%",
          "48.0%",
          "48.4%",
          "47.8%",
          "47.6%",
          "47.5%",
          "48.0%",
          "47.5%",
          "47.6%",
          "47.7%",
          "47.3%",
          "47.2%",
          "47.2%",
          "47.2%",
          "47.4%",
          "47.3%",
          "46.9%",
          "47.5%",
          "46.8%",
          "46.4%",
          "45.7%",
          "45.8%",
          "45.2%",
          "44.9%",
          "45.5%",
          "45.5%",
          "44.4%",
          "44.2%",
          "43.6%",
          "42.9%",
          "42.9%",
          "42.5%",
          "42.2%",
          "41.9%",
          "41.9%",
          "42.4%",
          "40.5%",
          "41.2%",
          "40.0%",
          "39.5%",
          "40.0%",
          "39.3%",
          "33.3%",
          "33.3%",
          "33.3%",
          "30.0%",
          "30.4%",
          "29.4%",
          "8.2%",
          "0.0%",
          "0.0%",
          "0.0%",
          "0.0%",
          "0.0%",
          "0.0%",
          "0.0%"
         ],
         "type": "bar",
         "x": [
          8.02,
          7.0625,
          7.65,
          6.44,
          6.64,
          6.29,
          9.9,
          6.79,
          8.01,
          5.78,
          9.47,
          5.38,
          8.27,
          5.24,
          5.26,
          6.21,
          6.25,
          7.79,
          8.03,
          8,
          9.03,
          8.42,
          8.89,
          6.65,
          8.64,
          8.77,
          6.33,
          8.83,
          5.6,
          9.33,
          8.32,
          6.99,
          8.28,
          8.35,
          8.43,
          9.05,
          9.12,
          8.79,
          9.7,
          8.75,
          8.44,
          9.06,
          8.7,
          5.59,
          8.19,
          8.73,
          6.85,
          5.75,
          6.88,
          8.17,
          8.53,
          8.38,
          8.94,
          8.96,
          8.97,
          9.29,
          9.42,
          8.74,
          5.67,
          5.55,
          8.37,
          8.9,
          9.02,
          5.39,
          9.96,
          6.16,
          8.56,
          8.54,
          8.4,
          6.05,
          8.58,
          6.59,
          8.14,
          8.04,
          8.59,
          8.81,
          7.75,
          8.85,
          8.62,
          7.47,
          6,
          6.17,
          9.46,
          5.84,
          5.77,
          8.52,
          9.04,
          9.24,
          6.83,
          8.08,
          8.88,
          9.74,
          9.31,
          9.72,
          8.39,
          8.24,
          6.95,
          5.35,
          8.95,
          5.42,
          8.46,
          7.32,
          9.37,
          9.63,
          7.87,
          8.91,
          8.69,
          6.63,
          6.1,
          6.35,
          9.26,
          9.21,
          6.91,
          5.69,
          7.51,
          6.36,
          9.59,
          9.79,
          8.16,
          8.92,
          7.14,
          5.81,
          8.25,
          7.17,
          9.16,
          6.86,
          6.56,
          6.75,
          7.3,
          7.13,
          7.12,
          7.35,
          7.91,
          5.76,
          6.78,
          7.9,
          7.02,
          7.85,
          7.77,
          8.5,
          8.63,
          8.47,
          6.7,
          8.1,
          8.09,
          8.07,
          8.65,
          8.21,
          9.41,
          6.69,
          5.37,
          7.04,
          6.26,
          8.49,
          6.37,
          7.52,
          5.48,
          9.36,
          9.94,
          5.16,
          5.91,
          6.38,
          6.41,
          9.86,
          9.19,
          7.25,
          6.39,
          9.78,
          9.49,
          5.61,
          7.83,
          5.85,
          5.1,
          7.88,
          7.8,
          5.83,
          7.1,
          9.54,
          9.89,
          5.12,
          6.73,
          9.39,
          5.08,
          5.32,
          8.55,
          9.91,
          7.37,
          5.88,
          7.26,
          5.03,
          9.6,
          6.51,
          6.76,
          7.38,
          8.98,
          7.22,
          5.64,
          7.08,
          5.58,
          9.88,
          5.98,
          6.02,
          9.44,
          6.47,
          9.95,
          6.08,
          7.28,
          9.11,
          7.46,
          7.6,
          7.7,
          5.51,
          5.74,
          5.65,
          5.66,
          9.25,
          9.66,
          6.5,
          7.92,
          5.99,
          6.81,
          9.67,
          8.23,
          5.41,
          7.21,
          7.06,
          6.27,
          7.5,
          7.09,
          7.53,
          5.82,
          5.87,
          8.78,
          7.64,
          8.61,
          9.93,
          7.99,
          5.7,
          9.5,
          10,
          5.86,
          8.11,
          7.94,
          6.53,
          5.79,
          5.56,
          6.89,
          7.11,
          7.82,
          9.97,
          6.42,
          9.43,
          5.11,
          5.8,
          7.15,
          5.3,
          6.23,
          9.85,
          9.84,
          6.61,
          6.19,
          7.27,
          5.06,
          7.78,
          7.48,
          7.72,
          7.49,
          9.98,
          9.1,
          6.74,
          5.57,
          8.71,
          7.74,
          5.27,
          6.04,
          6.03,
          7.24,
          9.56,
          9.71,
          6.92,
          5.47,
          9.92,
          7.45,
          7.39,
          5.09,
          6.82,
          5.46,
          5.68,
          9.4,
          8.29,
          7,
          7.68,
          7.43,
          8.93,
          9.13,
          5.89,
          5.52,
          7.03,
          7.61,
          9.69,
          5.25,
          6.52,
          6.46,
          8.13,
          9.34,
          9.82,
          9.17,
          5.45,
          9.87,
          6.28,
          5.71,
          5.97,
          5.9,
          5.72,
          5.17,
          7.71,
          5.14,
          7.34,
          6.24,
          7.07,
          6.32,
          5.44,
          9.01,
          6.84,
          -1,
          6.98,
          6.77,
          8.26,
          7.23,
          6.09,
          7.42,
          6.06
         ],
         "xaxis": "x8",
         "y": [
          100,
          100,
          100,
          100,
          100,
          80,
          75.86,
          75.51,
          75,
          75,
          75,
          73.91,
          73.47,
          72,
          72.09,
          72.44,
          72.48,
          70.59,
          70.73,
          71.01,
          70.73,
          70.59,
          69.81,
          70.21,
          70,
          70,
          68.75,
          69.05,
          69.07,
          69.39,
          68.97,
          68.57,
          68.54,
          67.82,
          67.86,
          68.47,
          68.42,
          67.86,
          67.86,
          67.86,
          67.72,
          68.42,
          67.69,
          68.24,
          66.67,
          66.67,
          66.67,
          66.67,
          67.21,
          66.67,
          67.21,
          66.67,
          66.67,
          66.67,
          67.16,
          66.67,
          66.67,
          65.56,
          65.71,
          65.71,
          65.62,
          66.47,
          64.71,
          64.52,
          64.8,
          64.84,
          64.58,
          64.96,
          65,
          65.38,
          64.62,
          65.22,
          64.8,
          64.9,
          65.47,
          65.22,
          64,
          63.64,
          63.5,
          64.23,
          63.69,
          63.81,
          63.64,
          63.64,
          63.46,
          63.25,
          62.79,
          62.56,
          63.23,
          62.77,
          62.79,
          63.36,
          62.86,
          63.39,
          62.75,
          62.63,
          61.54,
          61.9,
          62.13,
          61.82,
          61.86,
          62.16,
          61.54,
          61.84,
          62.16,
          62.01,
          62.11,
          62.5,
          62.21,
          61.9,
          61.54,
          61.96,
          61.11,
          61.29,
          61.4,
          60.87,
          61.11,
          60.84,
          61.11,
          60.87,
          60.53,
          60.87,
          61.29,
          61.29,
          60.87,
          61.02,
          61.29,
          60.69,
          59.62,
          59.6,
          60,
          60,
          59.65,
          59.57,
          60.43,
          60,
          59.77,
          59.83,
          60.29,
          59.82,
          60.42,
          60.34,
          59.46,
          58.82,
          59.02,
          58.62,
          58.97,
          58.51,
          58.71,
          59.09,
          58.64,
          58.9,
          59.46,
          59.09,
          59.34,
          58.2,
          58.14,
          58.33,
          58.33,
          58.49,
          58.06,
          58.12,
          58.43,
          58.04,
          57.55,
          57.73,
          58.49,
          56.67,
          57.14,
          56.86,
          57.43,
          57.08,
          57.35,
          57.45,
          57.02,
          56.86,
          57.42,
          57.26,
          56.86,
          57.06,
          57.14,
          57.32,
          55.67,
          55.5,
          55.56,
          56,
          56.45,
          55.71,
          55.88,
          55.56,
          55.86,
          55.79,
          55.56,
          56.14,
          54.76,
          55.04,
          55.2,
          55.1,
          54.55,
          55.46,
          54.55,
          54.78,
          54.52,
          54.87,
          54.81,
          55.1,
          55.06,
          54.95,
          55.32,
          54.84,
          55.32,
          55.13,
          54.46,
          54,
          54.46,
          53.85,
          53.85,
          53.85,
          53.7,
          53.51,
          53.85,
          54.35,
          54.17,
          54.17,
          54.29,
          53.57,
          52.85,
          53.12,
          53.09,
          52.74,
          53.42,
          52.78,
          52.54,
          53.27,
          53.49,
          53.43,
          52.78,
          53,
          51.69,
          51.67,
          52,
          52.5,
          51.66,
          52.17,
          51.69,
          51.93,
          52.26,
          51.35,
          50.98,
          51.06,
          50.91,
          50.98,
          50,
          50,
          50,
          50,
          50,
          50,
          49.61,
          50,
          50,
          50,
          50,
          50,
          50.42,
          50,
          50,
          50,
          49.02,
          48.94,
          49.4,
          48.72,
          49.09,
          49.17,
          48,
          47.79,
          48.33,
          48.04,
          48.43,
          47.83,
          47.62,
          47.54,
          48,
          47.5,
          47.62,
          47.73,
          47.3,
          47.17,
          47.22,
          47.22,
          47.37,
          47.27,
          46.88,
          47.46,
          46.81,
          46.43,
          45.71,
          45.76,
          45.24,
          44.9,
          45.45,
          45.45,
          44.44,
          44.23,
          43.59,
          42.86,
          42.86,
          42.5,
          42.19,
          41.86,
          41.86,
          42.42,
          40.54,
          41.18,
          40,
          39.53,
          40,
          39.29,
          33.33,
          33.33,
          33.33,
          30,
          30.43,
          29.41,
          8.21,
          0,
          0,
          0,
          0,
          0,
          0,
          0
         ],
         "yaxis": "y8"
        },
        {
         "hovertext": [
          "Count: 5537",
          "Count: 5940",
          "Count: 5926",
          "Count: 6476",
          "Count: 4520",
          "Count: 114857"
         ],
         "name": "study_satisfaction",
         "text": [
          "70.8%",
          "64.5%",
          "57.5%",
          "51.1%",
          "46.9%",
          "8.2%"
         ],
         "type": "bar",
         "x": [
          1,
          2,
          3,
          4,
          5,
          -1
         ],
         "xaxis": "x9",
         "y": [
          70.8,
          64.49,
          57.46,
          51.13,
          46.88,
          8.22
         ],
         "yaxis": "y9"
        },
        {
         "hovertext": [
          "Count: 28412",
          "Count: 22720",
          "Count: 25214",
          "Count: 22355",
          "Count: 21312",
          "Count: 23243"
         ],
         "name": "job_satisfaction",
         "text": [
          "58.4%",
          "17.4%",
          "9.9%",
          "5.5%",
          "4.0%",
          "3.9%"
         ],
         "type": "bar",
         "x": [
          -1,
          1,
          2,
          3,
          4,
          5
         ],
         "xaxis": "x10",
         "y": [
          58.4,
          17.43,
          9.89,
          5.49,
          3.96,
          3.9
         ],
         "yaxis": "y10"
        },
        {
         "hovertext": [
          "Count: 39432",
          "Count: 37627",
          "Count: 32770",
          "Count: 79",
          "Count: 33348"
         ],
         "name": "sleep_duration",
         "text": [
          "23.4%",
          "17.8%",
          "16.6%",
          "15.2%",
          "13.9%"
         ],
         "type": "bar",
         "x": [
          "Less than 5 hours",
          "7-8 hours",
          "5-6 hours",
          "NA",
          "More than 8 hours"
         ],
         "xaxis": "x11",
         "y": [
          23.44,
          17.82,
          16.57,
          15.19,
          13.88
         ],
         "yaxis": "y11"
        },
        {
         "hovertext": [
          "Count: 27",
          "Count: 47109",
          "Count: 50537",
          "Count: 45583"
         ],
         "name": "dietary_habits",
         "text": [
          "33.3%",
          "26.0%",
          "16.6%",
          "11.8%"
         ],
         "type": "bar",
         "x": [
          "NA",
          "Unhealthy",
          "Moderate",
          "Healthy"
         ],
         "xaxis": "x12",
         "y": [
          33.33,
          26,
          16.57,
          11.83
         ],
         "yaxis": "y12"
        },
        {
         "hovertext": [
          "Count: 15004",
          "Count: 116",
          "Count: 4496",
          "Count: 5842",
          "Count: 3188",
          "Count: 4974",
          "Count: 3157",
          "Count: 2966",
          "Count: 4395",
          "Count: 8831",
          "Count: 8228",
          "Count: 3159",
          "Count: 5121",
          "Count: 4430",
          "Count: 5342",
          "Count: 4560",
          "Count: 3184",
          "Count: 5122",
          "Count: 3839",
          "Count: 11803",
          "Count: 3913",
          "Count: 3457",
          "Count: 5944",
          "Count: 4731",
          "Count: 5749",
          "Count: 4622",
          "Count: 3716",
          "Count: 3367"
         ],
         "name": "degree",
         "text": [
          "51.1%",
          "23.3%",
          "21.4%",
          "20.4%",
          "19.0%",
          "17.4%",
          "17.0%",
          "17.5%",
          "17.2%",
          "15.7%",
          "15.6%",
          "15.9%",
          "15.5%",
          "15.2%",
          "14.7%",
          "14.4%",
          "14.2%",
          "13.4%",
          "12.6%",
          "12.9%",
          "12.1%",
          "11.9%",
          "12.0%",
          "11.4%",
          "9.8%",
          "9.8%",
          "7.2%",
          "7.0%"
         ],
         "type": "bar",
         "x": [
          "Class 12",
          "NA",
          "B.Tech",
          "BCA",
          "BE",
          "MSc",
          "MBBS",
          "MA",
          "BHM",
          "B.Arch",
          "B.Com",
          "M.Com",
          "BSc",
          "LLB",
          "MCA",
          "M.Tech",
          "PhD",
          "BBA",
          "BA",
          "B.Ed",
          "MBA",
          "MD",
          "B.Pharm",
          "LLM",
          "M.Ed",
          "M.Pharm",
          "ME",
          "MHM"
         ],
         "xaxis": "x13",
         "y": [
          51.15,
          23.28,
          21.4,
          20.35,
          19.04,
          17.35,
          17.01,
          17.5,
          17.16,
          15.74,
          15.58,
          15.92,
          15.52,
          15.17,
          14.69,
          14.41,
          14.23,
          13.45,
          12.58,
          12.89,
          12.06,
          11.95,
          11.98,
          11.39,
          9.81,
          9.82,
          7.24,
          7.01
         ],
         "yaxis": "y13"
        },
        {
         "hovertext": [
          "Count: 70811",
          "Count: 72445"
         ],
         "name": "suicidal_thoughts",
         "text": [
          "31.7%",
          "4.9%"
         ],
         "type": "bar",
         "x": [
          1,
          0
         ],
         "xaxis": "x14",
         "y": [
          31.73,
          4.9
         ],
         "yaxis": "y14"
        },
        {
         "hovertext": [
          "Count: 14417",
          "Count: 11600",
          "Count: 9081",
          "Count: 13037",
          "Count: 10058",
          "Count: 10627",
          "Count: 12921",
          "Count: 9251",
          "Count: 9534",
          "Count: 9666",
          "Count: 10801",
          "Count: 12270",
          "Count: 9993"
         ],
         "name": "work_study_hours",
         "text": [
          "32.0%",
          "30.4%",
          "24.8%",
          "24.6%",
          "19.7%",
          "18.1%",
          "16.2%",
          "13.4%",
          "12.0%",
          "11.3%",
          "10.4%",
          "8.2%",
          "7.9%"
         ],
         "type": "bar",
         "x": [
          10,
          12,
          8,
          11,
          7,
          6,
          9,
          4,
          5,
          3,
          2,
          0,
          1
         ],
         "xaxis": "x15",
         "y": [
          32.04,
          30.44,
          24.83,
          24.63,
          19.7,
          18.14,
          16.24,
          13.4,
          12.01,
          11.34,
          10.39,
          8.2,
          7.9
         ],
         "yaxis": "y15"
        },
        {
         "hovertext": [
          "Count: 28780",
          "Count: 4",
          "Count: 28266",
          "Count: 26478",
          "Count: 32000",
          "Count: 27728"
         ],
         "name": "financial_stress",
         "text": [
          "33.2%",
          "25.0%",
          "22.0%",
          "17.4%",
          "10.2%",
          "8.5%"
         ],
         "type": "bar",
         "x": [
          5,
          -1,
          4,
          3,
          2,
          1
         ],
         "xaxis": "x16",
         "y": [
          33.24,
          25,
          22,
          17.43,
          10.18,
          8.53
         ],
         "yaxis": "y16"
        },
        {
         "hovertext": [
          "Count: 71187",
          "Count: 72069"
         ],
         "name": "family_history",
         "text": [
          "18.8%",
          "17.5%"
         ],
         "type": "bar",
         "x": [
          1,
          0
         ],
         "xaxis": "x17",
         "y": [
          18.81,
          17.53
         ],
         "yaxis": "y17"
        }
       ],
       "layout": {
        "annotations": [
         {
          "font": {
           "size": 16
          },
          "showarrow": false,
          "text": "is_female",
          "x": 0.14444444444444446,
          "xanchor": "center",
          "xref": "paper",
          "y": 0.9999999999999999,
          "yanchor": "bottom",
          "yref": "paper"
         },
         {
          "font": {
           "size": 16
          },
          "showarrow": false,
          "text": "age",
          "x": 0.5,
          "xanchor": "center",
          "xref": "paper",
          "y": 0.9999999999999999,
          "yanchor": "bottom",
          "yref": "paper"
         },
         {
          "font": {
           "size": 16
          },
          "showarrow": false,
          "text": "city",
          "x": 0.8555555555555556,
          "xanchor": "center",
          "xref": "paper",
          "y": 0.9999999999999999,
          "yanchor": "bottom",
          "yref": "paper"
         },
         {
          "font": {
           "size": 16
          },
          "showarrow": false,
          "text": "is_student",
          "x": 0.14444444444444446,
          "xanchor": "center",
          "xref": "paper",
          "y": 0.8194444444444444,
          "yanchor": "bottom",
          "yref": "paper"
         },
         {
          "font": {
           "size": 16
          },
          "showarrow": false,
          "text": "profession",
          "x": 0.5,
          "xanchor": "center",
          "xref": "paper",
          "y": 0.8194444444444444,
          "yanchor": "bottom",
          "yref": "paper"
         },
         {
          "font": {
           "size": 16
          },
          "showarrow": false,
          "text": "academic_pressure",
          "x": 0.8555555555555556,
          "xanchor": "center",
          "xref": "paper",
          "y": 0.8194444444444444,
          "yanchor": "bottom",
          "yref": "paper"
         },
         {
          "font": {
           "size": 16
          },
          "showarrow": false,
          "text": "work_pressure",
          "x": 0.14444444444444446,
          "xanchor": "center",
          "xref": "paper",
          "y": 0.638888888888889,
          "yanchor": "bottom",
          "yref": "paper"
         },
         {
          "font": {
           "size": 16
          },
          "showarrow": false,
          "text": "cgpa",
          "x": 0.5,
          "xanchor": "center",
          "xref": "paper",
          "y": 0.638888888888889,
          "yanchor": "bottom",
          "yref": "paper"
         },
         {
          "font": {
           "size": 16
          },
          "showarrow": false,
          "text": "study_satisfaction",
          "x": 0.8555555555555556,
          "xanchor": "center",
          "xref": "paper",
          "y": 0.638888888888889,
          "yanchor": "bottom",
          "yref": "paper"
         },
         {
          "font": {
           "size": 16
          },
          "showarrow": false,
          "text": "job_satisfaction",
          "x": 0.14444444444444446,
          "xanchor": "center",
          "xref": "paper",
          "y": 0.4583333333333333,
          "yanchor": "bottom",
          "yref": "paper"
         },
         {
          "font": {
           "size": 16
          },
          "showarrow": false,
          "text": "sleep_duration",
          "x": 0.5,
          "xanchor": "center",
          "xref": "paper",
          "y": 0.4583333333333333,
          "yanchor": "bottom",
          "yref": "paper"
         },
         {
          "font": {
           "size": 16
          },
          "showarrow": false,
          "text": "dietary_habits",
          "x": 0.8555555555555556,
          "xanchor": "center",
          "xref": "paper",
          "y": 0.4583333333333333,
          "yanchor": "bottom",
          "yref": "paper"
         },
         {
          "font": {
           "size": 16
          },
          "showarrow": false,
          "text": "degree",
          "x": 0.14444444444444446,
          "xanchor": "center",
          "xref": "paper",
          "y": 0.2777777777777778,
          "yanchor": "bottom",
          "yref": "paper"
         },
         {
          "font": {
           "size": 16
          },
          "showarrow": false,
          "text": "suicidal_thoughts",
          "x": 0.5,
          "xanchor": "center",
          "xref": "paper",
          "y": 0.2777777777777778,
          "yanchor": "bottom",
          "yref": "paper"
         },
         {
          "font": {
           "size": 16
          },
          "showarrow": false,
          "text": "work_study_hours",
          "x": 0.8555555555555556,
          "xanchor": "center",
          "xref": "paper",
          "y": 0.2777777777777778,
          "yanchor": "bottom",
          "yref": "paper"
         },
         {
          "font": {
           "size": 16
          },
          "showarrow": false,
          "text": "financial_stress",
          "x": 0.14444444444444446,
          "xanchor": "center",
          "xref": "paper",
          "y": 0.09722222222222222,
          "yanchor": "bottom",
          "yref": "paper"
         },
         {
          "font": {
           "size": 16
          },
          "showarrow": false,
          "text": "family_history",
          "x": 0.5,
          "xanchor": "center",
          "xref": "paper",
          "y": 0.09722222222222222,
          "yanchor": "bottom",
          "yref": "paper"
         }
        ],
        "height": 1800,
        "showlegend": false,
        "template": {
         "data": {
          "bar": [
           {
            "error_x": {
             "color": "rgb(36,36,36)"
            },
            "error_y": {
             "color": "rgb(36,36,36)"
            },
            "marker": {
             "line": {
              "color": "white",
              "width": 0.5
             },
             "pattern": {
              "fillmode": "overlay",
              "size": 10,
              "solidity": 0.2
             }
            },
            "type": "bar"
           }
          ],
          "barpolar": [
           {
            "marker": {
             "line": {
              "color": "white",
              "width": 0.5
             },
             "pattern": {
              "fillmode": "overlay",
              "size": 10,
              "solidity": 0.2
             }
            },
            "type": "barpolar"
           }
          ],
          "carpet": [
           {
            "aaxis": {
             "endlinecolor": "rgb(36,36,36)",
             "gridcolor": "white",
             "linecolor": "white",
             "minorgridcolor": "white",
             "startlinecolor": "rgb(36,36,36)"
            },
            "baxis": {
             "endlinecolor": "rgb(36,36,36)",
             "gridcolor": "white",
             "linecolor": "white",
             "minorgridcolor": "white",
             "startlinecolor": "rgb(36,36,36)"
            },
            "type": "carpet"
           }
          ],
          "choropleth": [
           {
            "colorbar": {
             "outlinewidth": 1,
             "tickcolor": "rgb(36,36,36)",
             "ticks": "outside"
            },
            "type": "choropleth"
           }
          ],
          "contour": [
           {
            "colorbar": {
             "outlinewidth": 1,
             "tickcolor": "rgb(36,36,36)",
             "ticks": "outside"
            },
            "colorscale": [
             [
              0,
              "#440154"
             ],
             [
              0.1111111111111111,
              "#482878"
             ],
             [
              0.2222222222222222,
              "#3e4989"
             ],
             [
              0.3333333333333333,
              "#31688e"
             ],
             [
              0.4444444444444444,
              "#26828e"
             ],
             [
              0.5555555555555556,
              "#1f9e89"
             ],
             [
              0.6666666666666666,
              "#35b779"
             ],
             [
              0.7777777777777778,
              "#6ece58"
             ],
             [
              0.8888888888888888,
              "#b5de2b"
             ],
             [
              1,
              "#fde725"
             ]
            ],
            "type": "contour"
           }
          ],
          "contourcarpet": [
           {
            "colorbar": {
             "outlinewidth": 1,
             "tickcolor": "rgb(36,36,36)",
             "ticks": "outside"
            },
            "type": "contourcarpet"
           }
          ],
          "heatmap": [
           {
            "colorbar": {
             "outlinewidth": 1,
             "tickcolor": "rgb(36,36,36)",
             "ticks": "outside"
            },
            "colorscale": [
             [
              0,
              "#440154"
             ],
             [
              0.1111111111111111,
              "#482878"
             ],
             [
              0.2222222222222222,
              "#3e4989"
             ],
             [
              0.3333333333333333,
              "#31688e"
             ],
             [
              0.4444444444444444,
              "#26828e"
             ],
             [
              0.5555555555555556,
              "#1f9e89"
             ],
             [
              0.6666666666666666,
              "#35b779"
             ],
             [
              0.7777777777777778,
              "#6ece58"
             ],
             [
              0.8888888888888888,
              "#b5de2b"
             ],
             [
              1,
              "#fde725"
             ]
            ],
            "type": "heatmap"
           }
          ],
          "heatmapgl": [
           {
            "colorbar": {
             "outlinewidth": 1,
             "tickcolor": "rgb(36,36,36)",
             "ticks": "outside"
            },
            "colorscale": [
             [
              0,
              "#440154"
             ],
             [
              0.1111111111111111,
              "#482878"
             ],
             [
              0.2222222222222222,
              "#3e4989"
             ],
             [
              0.3333333333333333,
              "#31688e"
             ],
             [
              0.4444444444444444,
              "#26828e"
             ],
             [
              0.5555555555555556,
              "#1f9e89"
             ],
             [
              0.6666666666666666,
              "#35b779"
             ],
             [
              0.7777777777777778,
              "#6ece58"
             ],
             [
              0.8888888888888888,
              "#b5de2b"
             ],
             [
              1,
              "#fde725"
             ]
            ],
            "type": "heatmapgl"
           }
          ],
          "histogram": [
           {
            "marker": {
             "line": {
              "color": "white",
              "width": 0.6
             }
            },
            "type": "histogram"
           }
          ],
          "histogram2d": [
           {
            "colorbar": {
             "outlinewidth": 1,
             "tickcolor": "rgb(36,36,36)",
             "ticks": "outside"
            },
            "colorscale": [
             [
              0,
              "#440154"
             ],
             [
              0.1111111111111111,
              "#482878"
             ],
             [
              0.2222222222222222,
              "#3e4989"
             ],
             [
              0.3333333333333333,
              "#31688e"
             ],
             [
              0.4444444444444444,
              "#26828e"
             ],
             [
              0.5555555555555556,
              "#1f9e89"
             ],
             [
              0.6666666666666666,
              "#35b779"
             ],
             [
              0.7777777777777778,
              "#6ece58"
             ],
             [
              0.8888888888888888,
              "#b5de2b"
             ],
             [
              1,
              "#fde725"
             ]
            ],
            "type": "histogram2d"
           }
          ],
          "histogram2dcontour": [
           {
            "colorbar": {
             "outlinewidth": 1,
             "tickcolor": "rgb(36,36,36)",
             "ticks": "outside"
            },
            "colorscale": [
             [
              0,
              "#440154"
             ],
             [
              0.1111111111111111,
              "#482878"
             ],
             [
              0.2222222222222222,
              "#3e4989"
             ],
             [
              0.3333333333333333,
              "#31688e"
             ],
             [
              0.4444444444444444,
              "#26828e"
             ],
             [
              0.5555555555555556,
              "#1f9e89"
             ],
             [
              0.6666666666666666,
              "#35b779"
             ],
             [
              0.7777777777777778,
              "#6ece58"
             ],
             [
              0.8888888888888888,
              "#b5de2b"
             ],
             [
              1,
              "#fde725"
             ]
            ],
            "type": "histogram2dcontour"
           }
          ],
          "mesh3d": [
           {
            "colorbar": {
             "outlinewidth": 1,
             "tickcolor": "rgb(36,36,36)",
             "ticks": "outside"
            },
            "type": "mesh3d"
           }
          ],
          "parcoords": [
           {
            "line": {
             "colorbar": {
              "outlinewidth": 1,
              "tickcolor": "rgb(36,36,36)",
              "ticks": "outside"
             }
            },
            "type": "parcoords"
           }
          ],
          "pie": [
           {
            "automargin": true,
            "type": "pie"
           }
          ],
          "scatter": [
           {
            "fillpattern": {
             "fillmode": "overlay",
             "size": 10,
             "solidity": 0.2
            },
            "type": "scatter"
           }
          ],
          "scatter3d": [
           {
            "line": {
             "colorbar": {
              "outlinewidth": 1,
              "tickcolor": "rgb(36,36,36)",
              "ticks": "outside"
             }
            },
            "marker": {
             "colorbar": {
              "outlinewidth": 1,
              "tickcolor": "rgb(36,36,36)",
              "ticks": "outside"
             }
            },
            "type": "scatter3d"
           }
          ],
          "scattercarpet": [
           {
            "marker": {
             "colorbar": {
              "outlinewidth": 1,
              "tickcolor": "rgb(36,36,36)",
              "ticks": "outside"
             }
            },
            "type": "scattercarpet"
           }
          ],
          "scattergeo": [
           {
            "marker": {
             "colorbar": {
              "outlinewidth": 1,
              "tickcolor": "rgb(36,36,36)",
              "ticks": "outside"
             }
            },
            "type": "scattergeo"
           }
          ],
          "scattergl": [
           {
            "marker": {
             "colorbar": {
              "outlinewidth": 1,
              "tickcolor": "rgb(36,36,36)",
              "ticks": "outside"
             }
            },
            "type": "scattergl"
           }
          ],
          "scattermapbox": [
           {
            "marker": {
             "colorbar": {
              "outlinewidth": 1,
              "tickcolor": "rgb(36,36,36)",
              "ticks": "outside"
             }
            },
            "type": "scattermapbox"
           }
          ],
          "scatterpolar": [
           {
            "marker": {
             "colorbar": {
              "outlinewidth": 1,
              "tickcolor": "rgb(36,36,36)",
              "ticks": "outside"
             }
            },
            "type": "scatterpolar"
           }
          ],
          "scatterpolargl": [
           {
            "marker": {
             "colorbar": {
              "outlinewidth": 1,
              "tickcolor": "rgb(36,36,36)",
              "ticks": "outside"
             }
            },
            "type": "scatterpolargl"
           }
          ],
          "scatterternary": [
           {
            "marker": {
             "colorbar": {
              "outlinewidth": 1,
              "tickcolor": "rgb(36,36,36)",
              "ticks": "outside"
             }
            },
            "type": "scatterternary"
           }
          ],
          "surface": [
           {
            "colorbar": {
             "outlinewidth": 1,
             "tickcolor": "rgb(36,36,36)",
             "ticks": "outside"
            },
            "colorscale": [
             [
              0,
              "#440154"
             ],
             [
              0.1111111111111111,
              "#482878"
             ],
             [
              0.2222222222222222,
              "#3e4989"
             ],
             [
              0.3333333333333333,
              "#31688e"
             ],
             [
              0.4444444444444444,
              "#26828e"
             ],
             [
              0.5555555555555556,
              "#1f9e89"
             ],
             [
              0.6666666666666666,
              "#35b779"
             ],
             [
              0.7777777777777778,
              "#6ece58"
             ],
             [
              0.8888888888888888,
              "#b5de2b"
             ],
             [
              1,
              "#fde725"
             ]
            ],
            "type": "surface"
           }
          ],
          "table": [
           {
            "cells": {
             "fill": {
              "color": "rgb(237,237,237)"
             },
             "line": {
              "color": "white"
             }
            },
            "header": {
             "fill": {
              "color": "rgb(217,217,217)"
             },
             "line": {
              "color": "white"
             }
            },
            "type": "table"
           }
          ]
         },
         "layout": {
          "annotationdefaults": {
           "arrowhead": 0,
           "arrowwidth": 1
          },
          "autotypenumbers": "strict",
          "coloraxis": {
           "colorbar": {
            "outlinewidth": 1,
            "tickcolor": "rgb(36,36,36)",
            "ticks": "outside"
           }
          },
          "colorscale": {
           "diverging": [
            [
             0,
             "rgb(103,0,31)"
            ],
            [
             0.1,
             "rgb(178,24,43)"
            ],
            [
             0.2,
             "rgb(214,96,77)"
            ],
            [
             0.3,
             "rgb(244,165,130)"
            ],
            [
             0.4,
             "rgb(253,219,199)"
            ],
            [
             0.5,
             "rgb(247,247,247)"
            ],
            [
             0.6,
             "rgb(209,229,240)"
            ],
            [
             0.7,
             "rgb(146,197,222)"
            ],
            [
             0.8,
             "rgb(67,147,195)"
            ],
            [
             0.9,
             "rgb(33,102,172)"
            ],
            [
             1,
             "rgb(5,48,97)"
            ]
           ],
           "sequential": [
            [
             0,
             "#440154"
            ],
            [
             0.1111111111111111,
             "#482878"
            ],
            [
             0.2222222222222222,
             "#3e4989"
            ],
            [
             0.3333333333333333,
             "#31688e"
            ],
            [
             0.4444444444444444,
             "#26828e"
            ],
            [
             0.5555555555555556,
             "#1f9e89"
            ],
            [
             0.6666666666666666,
             "#35b779"
            ],
            [
             0.7777777777777778,
             "#6ece58"
            ],
            [
             0.8888888888888888,
             "#b5de2b"
            ],
            [
             1,
             "#fde725"
            ]
           ],
           "sequentialminus": [
            [
             0,
             "#440154"
            ],
            [
             0.1111111111111111,
             "#482878"
            ],
            [
             0.2222222222222222,
             "#3e4989"
            ],
            [
             0.3333333333333333,
             "#31688e"
            ],
            [
             0.4444444444444444,
             "#26828e"
            ],
            [
             0.5555555555555556,
             "#1f9e89"
            ],
            [
             0.6666666666666666,
             "#35b779"
            ],
            [
             0.7777777777777778,
             "#6ece58"
            ],
            [
             0.8888888888888888,
             "#b5de2b"
            ],
            [
             1,
             "#fde725"
            ]
           ]
          },
          "colorway": [
           "#1F77B4",
           "#FF7F0E",
           "#2CA02C",
           "#D62728",
           "#9467BD",
           "#8C564B",
           "#E377C2",
           "#7F7F7F",
           "#BCBD22",
           "#17BECF"
          ],
          "font": {
           "color": "rgb(36,36,36)"
          },
          "geo": {
           "bgcolor": "white",
           "lakecolor": "white",
           "landcolor": "white",
           "showlakes": true,
           "showland": true,
           "subunitcolor": "white"
          },
          "hoverlabel": {
           "align": "left"
          },
          "hovermode": "closest",
          "mapbox": {
           "style": "light"
          },
          "paper_bgcolor": "white",
          "plot_bgcolor": "white",
          "polar": {
           "angularaxis": {
            "gridcolor": "rgb(232,232,232)",
            "linecolor": "rgb(36,36,36)",
            "showgrid": false,
            "showline": true,
            "ticks": "outside"
           },
           "bgcolor": "white",
           "radialaxis": {
            "gridcolor": "rgb(232,232,232)",
            "linecolor": "rgb(36,36,36)",
            "showgrid": false,
            "showline": true,
            "ticks": "outside"
           }
          },
          "scene": {
           "xaxis": {
            "backgroundcolor": "white",
            "gridcolor": "rgb(232,232,232)",
            "gridwidth": 2,
            "linecolor": "rgb(36,36,36)",
            "showbackground": true,
            "showgrid": false,
            "showline": true,
            "ticks": "outside",
            "zeroline": false,
            "zerolinecolor": "rgb(36,36,36)"
           },
           "yaxis": {
            "backgroundcolor": "white",
            "gridcolor": "rgb(232,232,232)",
            "gridwidth": 2,
            "linecolor": "rgb(36,36,36)",
            "showbackground": true,
            "showgrid": false,
            "showline": true,
            "ticks": "outside",
            "zeroline": false,
            "zerolinecolor": "rgb(36,36,36)"
           },
           "zaxis": {
            "backgroundcolor": "white",
            "gridcolor": "rgb(232,232,232)",
            "gridwidth": 2,
            "linecolor": "rgb(36,36,36)",
            "showbackground": true,
            "showgrid": false,
            "showline": true,
            "ticks": "outside",
            "zeroline": false,
            "zerolinecolor": "rgb(36,36,36)"
           }
          },
          "shapedefaults": {
           "fillcolor": "black",
           "line": {
            "width": 0
           },
           "opacity": 0.3
          },
          "ternary": {
           "aaxis": {
            "gridcolor": "rgb(232,232,232)",
            "linecolor": "rgb(36,36,36)",
            "showgrid": false,
            "showline": true,
            "ticks": "outside"
           },
           "baxis": {
            "gridcolor": "rgb(232,232,232)",
            "linecolor": "rgb(36,36,36)",
            "showgrid": false,
            "showline": true,
            "ticks": "outside"
           },
           "bgcolor": "white",
           "caxis": {
            "gridcolor": "rgb(232,232,232)",
            "linecolor": "rgb(36,36,36)",
            "showgrid": false,
            "showline": true,
            "ticks": "outside"
           }
          },
          "title": {
           "x": 0.05
          },
          "xaxis": {
           "automargin": true,
           "gridcolor": "rgb(232,232,232)",
           "linecolor": "rgb(36,36,36)",
           "showgrid": false,
           "showline": true,
           "ticks": "outside",
           "title": {
            "standoff": 15
           },
           "zeroline": false,
           "zerolinecolor": "rgb(36,36,36)"
          },
          "yaxis": {
           "automargin": true,
           "gridcolor": "rgb(232,232,232)",
           "linecolor": "rgb(36,36,36)",
           "showgrid": false,
           "showline": true,
           "ticks": "outside",
           "title": {
            "standoff": 15
           },
           "zeroline": false,
           "zerolinecolor": "rgb(36,36,36)"
          }
         }
        },
        "title": {
         "text": "Depression Rate by Feature Values"
        },
        "width": 1000,
        "xaxis": {
         "anchor": "y",
         "domain": [
          0,
          0.2888888888888889
         ]
        },
        "xaxis10": {
         "anchor": "y10",
         "domain": [
          0,
          0.2888888888888889
         ]
        },
        "xaxis11": {
         "anchor": "y11",
         "domain": [
          0.35555555555555557,
          0.6444444444444445
         ]
        },
        "xaxis12": {
         "anchor": "y12",
         "domain": [
          0.7111111111111111,
          1
         ]
        },
        "xaxis13": {
         "anchor": "y13",
         "domain": [
          0,
          0.2888888888888889
         ]
        },
        "xaxis14": {
         "anchor": "y14",
         "domain": [
          0.35555555555555557,
          0.6444444444444445
         ]
        },
        "xaxis15": {
         "anchor": "y15",
         "domain": [
          0.7111111111111111,
          1
         ]
        },
        "xaxis16": {
         "anchor": "y16",
         "domain": [
          0,
          0.2888888888888889
         ]
        },
        "xaxis17": {
         "anchor": "y17",
         "domain": [
          0.35555555555555557,
          0.6444444444444445
         ]
        },
        "xaxis18": {
         "anchor": "y18",
         "domain": [
          0.7111111111111111,
          1
         ]
        },
        "xaxis2": {
         "anchor": "y2",
         "domain": [
          0.35555555555555557,
          0.6444444444444445
         ]
        },
        "xaxis3": {
         "anchor": "y3",
         "domain": [
          0.7111111111111111,
          1
         ]
        },
        "xaxis4": {
         "anchor": "y4",
         "domain": [
          0,
          0.2888888888888889
         ]
        },
        "xaxis5": {
         "anchor": "y5",
         "domain": [
          0.35555555555555557,
          0.6444444444444445
         ]
        },
        "xaxis6": {
         "anchor": "y6",
         "domain": [
          0.7111111111111111,
          1
         ]
        },
        "xaxis7": {
         "anchor": "y7",
         "domain": [
          0,
          0.2888888888888889
         ]
        },
        "xaxis8": {
         "anchor": "y8",
         "domain": [
          0.35555555555555557,
          0.6444444444444445
         ]
        },
        "xaxis9": {
         "anchor": "y9",
         "domain": [
          0.7111111111111111,
          1
         ]
        },
        "yaxis": {
         "anchor": "x",
         "domain": [
          0.9027777777777777,
          0.9999999999999999
         ]
        },
        "yaxis10": {
         "anchor": "x10",
         "domain": [
          0.3611111111111111,
          0.4583333333333333
         ]
        },
        "yaxis11": {
         "anchor": "x11",
         "domain": [
          0.3611111111111111,
          0.4583333333333333
         ]
        },
        "yaxis12": {
         "anchor": "x12",
         "domain": [
          0.3611111111111111,
          0.4583333333333333
         ]
        },
        "yaxis13": {
         "anchor": "x13",
         "domain": [
          0.18055555555555555,
          0.2777777777777778
         ]
        },
        "yaxis14": {
         "anchor": "x14",
         "domain": [
          0.18055555555555555,
          0.2777777777777778
         ]
        },
        "yaxis15": {
         "anchor": "x15",
         "domain": [
          0.18055555555555555,
          0.2777777777777778
         ]
        },
        "yaxis16": {
         "anchor": "x16",
         "domain": [
          0,
          0.09722222222222222
         ]
        },
        "yaxis17": {
         "anchor": "x17",
         "domain": [
          0,
          0.09722222222222222
         ]
        },
        "yaxis18": {
         "anchor": "x18",
         "domain": [
          0,
          0.09722222222222222
         ]
        },
        "yaxis2": {
         "anchor": "x2",
         "domain": [
          0.9027777777777777,
          0.9999999999999999
         ]
        },
        "yaxis3": {
         "anchor": "x3",
         "domain": [
          0.9027777777777777,
          0.9999999999999999
         ]
        },
        "yaxis4": {
         "anchor": "x4",
         "domain": [
          0.7222222222222222,
          0.8194444444444444
         ]
        },
        "yaxis5": {
         "anchor": "x5",
         "domain": [
          0.7222222222222222,
          0.8194444444444444
         ]
        },
        "yaxis6": {
         "anchor": "x6",
         "domain": [
          0.7222222222222222,
          0.8194444444444444
         ]
        },
        "yaxis7": {
         "anchor": "x7",
         "domain": [
          0.5416666666666667,
          0.638888888888889
         ]
        },
        "yaxis8": {
         "anchor": "x8",
         "domain": [
          0.5416666666666667,
          0.638888888888889
         ]
        },
        "yaxis9": {
         "anchor": "x9",
         "domain": [
          0.5416666666666667,
          0.638888888888889
         ]
        }
       }
      }
     },
     "metadata": {},
     "output_type": "display_data"
    }
   ],
   "source": [
    "# Remove target and is_original\n",
    "features = [f for f in train.columns if f not in ['depression', 'is_original']]\n",
    "\n",
    "# Calculate depression rate for each feature value\n",
    "fig = make_subplots(rows=len(features)//3 + 1, cols=3, \n",
    "                    subplot_titles=features)\n",
    "\n",
    "for i, feat in enumerate(features):\n",
    "    # Calculate proportions\n",
    "    props = (train.fillna({feat: -1 if original[feat].dtype.kind in 'biufc' else 'NA'})\n",
    "            .groupby(feat)['depression']\n",
    "            .agg(['count', 'mean'])\n",
    "            .assign(pct=lambda x: x['mean'] * 100)\n",
    "            .round(2)\n",
    "            .sort_values('mean', ascending=False))\n",
    "    \n",
    "    # Add count as hover text\n",
    "    hover_text = [f\"Count: {c}\" for c in props['count']]\n",
    "    \n",
    "    fig.add_trace(\n",
    "        go.Bar(x=props.index, \n",
    "               y=props['pct'], \n",
    "               text=props['pct'].apply(lambda x: f\"{x:.1f}%\"),\n",
    "               hovertext=hover_text,\n",
    "               name=feat),\n",
    "        row=i//3 + 1, col=i%3 + 1\n",
    "    )\n",
    "\n",
    "fig.update_layout(height=300*((len(features)//3) + 1), \n",
    "                 width=1000, \n",
    "                 showlegend=False,\n",
    "                 title_text=\"Depression Rate by Feature Values\")\n",
    "fig.show()"
   ]
  },
  {
   "cell_type": "markdown",
   "metadata": {},
   "source": [
    "The results are very interesting:\n",
    "\n",
    "- Beign younger (age < 20), student increases significantly the probability of having depression. Students in particularly is a defining factor in this dataset.\n",
    "- As expected, ordered features correlate with depression:\n",
    "    - `academic_pressure`, `work_pressure`, `financial_stress`, `work_study_hours` as it increases, the probability of having depression increases.\n",
    "    - `study_satisfaction`, `job_satisfaction` as it decreases, the probability of having depression increases.\n",
    "- Having bad `dietary_habits` and `sleep_duration` decreases the probability of having depression.\n",
    "- `Gender` and `family_history` do not show a strong correlation with depression. However, they may have interaction with other features.\n",
    "- `Graphic Designer` is the top profession with high proportion of depression.\n",
    "- `Hyderabad` is the top city with high proportion of depression. This could be biased because there are more students living there and also is an importante tech hub in India where there is high academic pressure.\n",
    "- Having `suicidal_thoughts` is not a good sign, 31% of the people with suicidal thoughts have depression, whereas only 5% of the people without suicidal thoughts have depression.\n",
    "- `Class 12` in India is a crucial year in a student's life because it is the year when students take very important exams that may determine their future. This may explain why there is a high proportion of depression in this group.\n",
    "- **Missing Values** usually have a high proportion of depression in certain features like `work_pressure`, `financial_stress` because all of the NAs are practically students. Whereas, missing values in student related features like `academic_pressure`, `study_satisfaction` have low proportions of depression because there are not students. "
   ]
  },
  {
   "cell_type": "markdown",
   "metadata": {},
   "source": [
    "# **Encoding ordinal features**"
   ]
  },
  {
   "cell_type": "code",
   "execution_count": 51,
   "metadata": {},
   "outputs": [],
   "source": [
    "# academic pressure\n",
    "academic_pressure_mapping = {\n",
    "    -1: 0,  # lowest depression rate\n",
    "    1: 1,\n",
    "    2: 2,\n",
    "    3: 3,\n",
    "    4: 4,\n",
    "    5: 5,\n",
    "    6: 6\n",
    "}\n",
    "\n",
    "# work pressure\n",
    "work_pressure_mapping = {\n",
    "    1: 1,\n",
    "    2: 2,\n",
    "    3: 3,\n",
    "    4: 4,\n",
    "    5: 5,\n",
    "    -1: 6\n",
    "}\n",
    "\n",
    "# study satisfaction\n",
    "study_satisfaction_mapping = {\n",
    "    1: 1,\n",
    "    2: 2,\n",
    "    3: 3,\n",
    "    4: 4,\n",
    "    5: 5,\n",
    "    -1: 6\n",
    "}\n",
    "\n",
    "# Job satisfaction\n",
    "job_satisfaction_mapping = {\n",
    "    -1: 0,\n",
    "    1: 1,\n",
    "    2: 2,\n",
    "    3: 3,\n",
    "    4: 4,\n",
    "    5: 5\n",
    "}\n",
    "\n",
    "# Sleep duration (ordering based on depression rates)\n",
    "sleep_mapping = {\n",
    "    'Missing': 2,                  # middle depression rate\n",
    "    'Less than 5 hours': 0,   # highest depression rate\n",
    "    '5-6 hours': 2,\n",
    "    '7-8 hours': 1,\n",
    "    'More than 8 hours': 3    # lowest depression rate\n",
    "}\n",
    "\n",
    "\n",
    "# Dietary habits (NA -> Healthy -> Moderate -> Unhealthy)\n",
    "dietary_mapping = {\n",
    "    'Missing': 0,        # highest depression rate\n",
    "    'Unhealthy': 1,\n",
    "    'Moderate': 2,\n",
    "    'Healthy': 3    # lowest depression rate\n",
    "}\n",
    "\n",
    "# Work study hours\n",
    "work_study_hours_mapping = {\n",
    "    0: 1,\n",
    "    1: 1,\n",
    "    2: 2,\n",
    "    3: 3,\n",
    "    4: 3,\n",
    "    5: 3,\n",
    "    6: 5,\n",
    "    7: 6,\n",
    "    8: 7,\n",
    "    9: 4,\n",
    "    10: 8,\n",
    "    11: 7,\n",
    "    12: 8\n",
    "}\n",
    "\n",
    "# Financial stress\n",
    "financial_stress_mapping = {\n",
    "    1: 1,\n",
    "    2: 2,\n",
    "    3: 3,\n",
    "    4: 4,\n",
    "    -1: 5,\n",
    "    5: 6\n",
    "}"
   ]
  },
  {
   "cell_type": "code",
   "execution_count": 54,
   "metadata": {},
   "outputs": [],
   "source": [
    "# Function to apply custom mapping with missing values\n",
    "def apply_custom_mapping(series, mapping):\n",
    "    return series.map(mapping)\n",
    "\n",
    "# Fill NaN in categorical features with 'Missing'\n",
    "train_prep = train.copy()\n",
    "test_prep = test.copy()\n",
    "\n",
    "for feat in cat_features:\n",
    "    train_prep[feat] = train_prep[feat].fillna('Missing')\n",
    "    test_prep[feat] = test_prep[feat].fillna('Missing')\n",
    "\n",
    "ordered_features = ['academic_pressure', 'work_pressure', 'study_satisfaction', 'job_satisfaction', 'financial_stress']\n",
    "for feat in ordered_features:\n",
    "    # Missing values in financial stress should be -1 for mapping to work\n",
    "    train_prep[feat] = train_prep[feat].fillna(-1)\n",
    "    test_prep[feat] = test_prep[feat].fillna(-1)\n",
    "\n",
    "# Apply the mappings for train\n",
    "train_prep['work_study_hours'] = apply_custom_mapping(train_prep['work_study_hours'], work_study_hours_mapping)\n",
    "train_prep['financial_stress'] = apply_custom_mapping(train_prep['financial_stress'], financial_stress_mapping)\n",
    "train_prep['academic_pressure'] = apply_custom_mapping(train_prep['academic_pressure'], academic_pressure_mapping)\n",
    "train_prep['dietary_habits'] = apply_custom_mapping(train_prep['dietary_habits'], dietary_mapping)\n",
    "train_prep['sleep_duration'] = apply_custom_mapping(train_prep['sleep_duration'], sleep_mapping)\n",
    "train_prep['work_pressure'] = apply_custom_mapping(train_prep['work_pressure'], work_pressure_mapping)\n",
    "train_prep['job_satisfaction'] = apply_custom_mapping(train_prep['job_satisfaction'], job_satisfaction_mapping)\n",
    "train_prep['study_satisfaction'] = apply_custom_mapping(train_prep['study_satisfaction'], study_satisfaction_mapping)\n",
    "\n",
    "# Apply the mappings for test \n",
    "test_prep['academic_pressure'] = apply_custom_mapping(test_prep['academic_pressure'], academic_pressure_mapping)\n",
    "test_prep['dietary_habits'] = apply_custom_mapping(test_prep['dietary_habits'], dietary_mapping)\n",
    "test_prep['sleep_duration'] = apply_custom_mapping(test_prep['sleep_duration'], sleep_mapping)\n",
    "test_prep['work_study_hours'] = apply_custom_mapping(test_prep['work_study_hours'], work_study_hours_mapping)\n",
    "test_prep['financial_stress'] = apply_custom_mapping(test_prep['financial_stress'], financial_stress_mapping)\n",
    "test_prep['work_pressure'] = apply_custom_mapping(test_prep['work_pressure'], work_pressure_mapping)\n",
    "test_prep['job_satisfaction'] = apply_custom_mapping(test_prep['job_satisfaction'], job_satisfaction_mapping)\n",
    "test_prep['study_satisfaction'] = apply_custom_mapping(test_prep['study_satisfaction'], study_satisfaction_mapping)"
   ]
  },
  {
   "cell_type": "code",
   "execution_count": 55,
   "metadata": {},
   "outputs": [
    {
     "data": {
      "application/vnd.plotly.v1+json": {
       "config": {
        "plotlyServerURL": "https://plot.ly"
       },
       "data": [
        {
         "hovertext": [
          "Count: 78797",
          "Count: 64459"
         ],
         "name": "is_female",
         "text": [
          "18.4%",
          "17.8%"
         ],
         "type": "bar",
         "x": [
          0,
          1
         ],
         "xaxis": "x",
         "y": [
          18.45,
          17.82
         ],
         "yaxis": "y"
        },
        {
         "hovertext": [
          "Count: 3981",
          "Count: 2795",
          "Count: 2681",
          "Count: 3580",
          "Count: 2953",
          "Count: 3424",
          "Count: 2992",
          "Count: 3411",
          "Count: 2117",
          "Count: 2670",
          "Count: 3168",
          "Count: 1829",
          "Count: 2160",
          "Count: 2622",
          "Count: 1967",
          "Count: 3212",
          "Count: 2642",
          "Count: 2775",
          "Count: 3155",
          "Count: 2895",
          "Count: 2759",
          "Count: 3197",
          "Count: 4265",
          "Count: 3915",
          "Count: 3321",
          "Count: 3456",
          "Count: 4635",
          "Count: 3592",
          "Count: 4144",
          "Count: 3754",
          "Count: 5171",
          "Count: 3502",
          "Count: 3990",
          "Count: 3268",
          "Count: 5319",
          "Count: 3842",
          "Count: 2981",
          "Count: 4457",
          "Count: 2635",
          "Count: 2897",
          "Count: 3987",
          "Count: 4589",
          "Count: 2551"
         ],
         "name": "age",
         "text": [
          "71.0%",
          "67.0%",
          "63.1%",
          "62.1%",
          "55.6%",
          "55.6%",
          "53.6%",
          "52.6%",
          "52.4%",
          "51.6%",
          "46.0%",
          "42.4%",
          "41.2%",
          "38.8%",
          "32.1%",
          "29.7%",
          "19.6%",
          "6.0%",
          "5.1%",
          "4.4%",
          "3.7%",
          "3.9%",
          "3.0%",
          "3.2%",
          "2.7%",
          "3.4%",
          "3.0%",
          "2.2%",
          "1.6%",
          "1.3%",
          "1.1%",
          "1.1%",
          "1.3%",
          "0.9%",
          "0.2%",
          "0.2%",
          "0.2%",
          "0.2%",
          "0.2%",
          "0.4%",
          "0.2%",
          "0.4%",
          "0.4%"
         ],
         "type": "bar",
         "x": [
          18,
          21,
          19,
          20,
          23,
          24,
          25,
          28,
          22,
          27,
          29,
          32,
          26,
          31,
          30,
          33,
          34,
          37,
          40,
          35,
          36,
          41,
          47,
          43,
          39,
          42,
          38,
          45,
          46,
          48,
          49,
          50,
          51,
          44,
          56,
          59,
          58,
          57,
          52,
          55,
          54,
          53,
          60
         ],
         "xaxis": "x2",
         "y": [
          70.96,
          66.98,
          63.11,
          62.07,
          55.6,
          55.61,
          53.61,
          52.59,
          52.39,
          51.65,
          46.05,
          42.37,
          41.25,
          38.83,
          32.13,
          29.73,
          19.57,
          6.02,
          5.1,
          4.39,
          3.7,
          3.94,
          2.98,
          3.17,
          2.68,
          3.36,
          2.98,
          2.17,
          1.59,
          1.28,
          1.08,
          1.09,
          1.28,
          0.95,
          0.17,
          0.21,
          0.17,
          0.25,
          0.19,
          0.41,
          0.23,
          0.39,
          0.39
         ],
         "yaxis": "y2"
        },
        {
         "hovertext": [
          "Count: 4581",
          "Count: 4369",
          "Count: 3556",
          "Count: 5705",
          "Count: 5176",
          "Count: 4355",
          "Count: 6683",
          "Count: 5860",
          "Count: 4716",
          "Count: 4769",
          "Count: 98",
          "Count: 5314",
          "Count: 3688",
          "Count: 4132",
          "Count: 3667",
          "Count: 4408",
          "Count: 4199",
          "Count: 4656",
          "Count: 5303",
          "Count: 5776",
          "Count: 6013",
          "Count: 5308",
          "Count: 5260",
          "Count: 3217",
          "Count: 4954",
          "Count: 3341",
          "Count: 4287",
          "Count: 4689",
          "Count: 5065",
          "Count: 5629",
          "Count: 4482"
         ],
         "name": "city",
         "text": [
          "27.6%",
          "24.2%",
          "23.2%",
          "21.8%",
          "21.2%",
          "21.4%",
          "19.9%",
          "19.8%",
          "20.2%",
          "19.1%",
          "19.4%",
          "19.2%",
          "19.5%",
          "19.4%",
          "19.0%",
          "18.0%",
          "17.5%",
          "16.8%",
          "17.3%",
          "17.4%",
          "16.4%",
          "16.1%",
          "15.9%",
          "15.9%",
          "16.1%",
          "14.7%",
          "14.5%",
          "14.2%",
          "13.2%",
          "13.4%",
          "12.6%"
         ],
         "type": "bar",
         "x": [
          "Hyderabad",
          "Thane",
          "Bhopal",
          "Ahmedabad",
          "Srinagar",
          "Lucknow",
          "Kalyan",
          "Vasai-Virar",
          "Surat",
          "Agra",
          "Missing",
          "Ludhiana",
          "Ghaziabad",
          "Chennai",
          "Delhi",
          "Jaipur",
          "Bangalore",
          "Vadodara",
          "Rajkot",
          "Kolkata",
          "Patna",
          "Pune",
          "Visakhapatnam",
          "Nashik",
          "Indore",
          "Faridabad",
          "Nagpur",
          "Varanasi",
          "Mumbai",
          "Meerut",
          "Kanpur"
         ],
         "xaxis": "x3",
         "y": [
          27.61,
          24.17,
          23.23,
          21.77,
          21.21,
          21.42,
          19.92,
          19.83,
          20.19,
          19.14,
          19.39,
          19.23,
          19.47,
          19.39,
          19.03,
          18.04,
          17.48,
          16.77,
          17.33,
          17.4,
          16.35,
          16.13,
          15.93,
          15.92,
          16.11,
          14.67,
          14.53,
          14.18,
          13.19,
          13.41,
          12.58
         ],
         "yaxis": "y3"
        },
        {
         "hovertext": [
          "Count: 28403",
          "Count: 114853"
         ],
         "name": "is_student",
         "text": [
          "58.4%",
          "8.2%"
         ],
         "type": "bar",
         "x": [
          1,
          0
         ],
         "xaxis": "x4",
         "y": [
          58.4,
          8.21
         ],
         "yaxis": "y4"
        },
        {
         "hovertext": [
          "Count: 37353",
          "Count: 1189",
          "Count: 4106",
          "Count: 1754",
          "Count: 4443",
          "Count: 1207",
          "Count: 1501",
          "Count: 2432",
          "Count: 1779",
          "Count: 2260",
          "Count: 1610",
          "Count: 2896",
          "Count: 404",
          "Count: 1783",
          "Count: 705",
          "Count: 1544",
          "Count: 25228",
          "Count: 1356",
          "Count: 3232",
          "Count: 1952",
          "Count: 4301",
          "Count: 1906",
          "Count: 3321",
          "Count: 2015",
          "Count: 2096",
          "Count: 2921",
          "Count: 1771",
          "Count: 2373",
          "Count: 1367",
          "Count: 1403",
          "Count: 1615",
          "Count: 1478",
          "Count: 3026",
          "Count: 3968",
          "Count: 3031",
          "Count: 7930"
         ],
         "name": "profession",
         "text": [
          "53.3%",
          "18.7%",
          "10.8%",
          "10.9%",
          "9.9%",
          "10.2%",
          "8.1%",
          "7.9%",
          "8.2%",
          "7.6%",
          "8.4%",
          "7.5%",
          "7.2%",
          "6.5%",
          "6.4%",
          "6.1%",
          "5.6%",
          "6.5%",
          "5.7%",
          "5.2%",
          "4.7%",
          "4.6%",
          "5.3%",
          "5.1%",
          "4.5%",
          "4.9%",
          "4.7%",
          "4.0%",
          "4.2%",
          "4.5%",
          "4.2%",
          "4.1%",
          "2.8%",
          "2.6%",
          "2.1%",
          "1.9%"
         ],
         "type": "bar",
         "x": [
          "Missing",
          "Graphic Designer",
          "HR Manager",
          "Judge",
          "Architect",
          "Mechanical Engineer",
          "Civil Engineer",
          "Data Scientist",
          "Manager",
          "Lawyer",
          "Financial Analyst",
          "Educational Consultant",
          "Investment Banker",
          "Plumber",
          "Research Analyst",
          "Software Engineer",
          "Teacher",
          "Accountant",
          "Business Analyst",
          "Pilot",
          "Consultant",
          "Travel Consultant",
          "Doctor",
          "Marketing Manager",
          "Customer Support",
          "Chef",
          "Sales Executive",
          "Researcher",
          "Finanancial Analyst",
          "Digital Marketer",
          "Electrician",
          "UX/UI Designer",
          "Chemist",
          "Pharmacist",
          "Entrepreneur",
          "Content Writer"
         ],
         "xaxis": "x5",
         "y": [
          53.3,
          18.67,
          10.76,
          10.95,
          9.95,
          10.19,
          8.13,
          7.89,
          8.15,
          7.57,
          8.39,
          7.49,
          7.18,
          6.45,
          6.38,
          6.09,
          5.6,
          6.49,
          5.72,
          5.17,
          4.74,
          4.56,
          5.3,
          5.11,
          4.53,
          4.93,
          4.74,
          4.05,
          4.17,
          4.49,
          4.21,
          4.06,
          2.81,
          2.65,
          2.08,
          1.89
         ],
         "yaxis": "y5"
        },
        {
         "hovertext": [
          "Count: 6394",
          "Count: 5250",
          "Count: 7588",
          "Count: 4267",
          "Count: 4900",
          "Count: 114857"
         ],
         "name": "academic_pressure",
         "text": [
          "86.1%",
          "76.0%",
          "60.0%",
          "37.4%",
          "19.4%",
          "8.2%"
         ],
         "type": "bar",
         "x": [
          5,
          4,
          3,
          2,
          1,
          0
         ],
         "xaxis": "x6",
         "y": [
          86.07,
          75.98,
          60,
          37.36,
          19.37,
          8.21
         ],
         "yaxis": "y6"
        },
        {
         "hovertext": [
          "Count: 28420",
          "Count: 22860",
          "Count: 22924",
          "Count: 22303",
          "Count: 24786",
          "Count: 21963"
         ],
         "name": "work_pressure",
         "text": [
          "58.4%",
          "19.6%",
          "10.5%",
          "5.5%",
          "3.3%",
          "2.3%"
         ],
         "type": "bar",
         "x": [
          6,
          5,
          4,
          3,
          2,
          1
         ],
         "xaxis": "x7",
         "y": [
          58.4,
          19.62,
          10.53,
          5.48,
          3.26,
          2.27
         ],
         "yaxis": "y7"
        },
        {
         "hovertext": [
          "Count: 1",
          "Count: 1",
          "Count: 1",
          "Count: 1",
          "Count: 2",
          "Count: 55",
          "Count: 29",
          "Count: 49",
          "Count: 20",
          "Count: 8",
          "Count: 4",
          "Count: 46",
          "Count: 49",
          "Count: 43",
          "Count: 25",
          "Count: 149",
          "Count: 127",
          "Count: 34",
          "Count: 41",
          "Count: 17",
          "Count: 69",
          "Count: 41",
          "Count: 47",
          "Count: 53",
          "Count: 40",
          "Count: 40",
          "Count: 89",
          "Count: 49",
          "Count: 245",
          "Count: 97",
          "Count: 29",
          "Count: 42",
          "Count: 32",
          "Count: 87",
          "Count: 19",
          "Count: 111",
          "Count: 130",
          "Count: 38",
          "Count: 28",
          "Count: 56",
          "Count: 28",
          "Count: 28",
          "Count: 127",
          "Count: 85",
          "Count: 61",
          "Count: 24",
          "Count: 144",
          "Count: 39",
          "Count: 42",
          "Count: 57",
          "Count: 21",
          "Count: 126",
          "Count: 201",
          "Count: 24",
          "Count: 67",
          "Count: 61",
          "Count: 144",
          "Count: 167",
          "Count: 70",
          "Count: 270",
          "Count: 32",
          "Count: 35",
          "Count: 26",
          "Count: 223",
          "Count: 829",
          "Count: 429",
          "Count: 219",
          "Count: 20",
          "Count: 31",
          "Count: 92",
          "Count: 179",
          "Count: 23",
          "Count: 137",
          "Count: 48",
          "Count: 212",
          "Count: 34",
          "Count: 50",
          "Count: 22",
          "Count: 137",
          "Count: 137",
          "Count: 44",
          "Count: 105",
          "Count: 157",
          "Count: 44",
          "Count: 43",
          "Count: 86",
          "Count: 254",
          "Count: 117",
          "Count: 198",
          "Count: 155",
          "Count: 35",
          "Count: 131",
          "Count: 227",
          "Count: 94",
          "Count: 52",
          "Count: 51",
          "Count: 152",
          "Count: 110",
          "Count: 21",
          "Count: 97",
          "Count: 172",
          "Count: 279",
          "Count: 37",
          "Count: 26",
          "Count: 52",
          "Count: 21",
          "Count: 39",
          "Count: 375",
          "Count: 37",
          "Count: 95",
          "Count: 347",
          "Count: 40",
          "Count: 143",
          "Count: 46",
          "Count: 31",
          "Count: 36",
          "Count: 38",
          "Count: 31",
          "Count: 69",
          "Count: 18",
          "Count: 62",
          "Count: 36",
          "Count: 114",
          "Count: 59",
          "Count: 23",
          "Count: 31",
          "Count: 46",
          "Count: 145",
          "Count: 50",
          "Count: 117",
          "Count: 48",
          "Count: 99",
          "Count: 25",
          "Count: 272",
          "Count: 57",
          "Count: 141",
          "Count: 40",
          "Count: 58",
          "Count: 52",
          "Count: 87",
          "Count: 112",
          "Count: 235",
          "Count: 162",
          "Count: 29",
          "Count: 122",
          "Count: 94",
          "Count: 17",
          "Count: 22",
          "Count: 39",
          "Count: 37",
          "Count: 44",
          "Count: 146",
          "Count: 241",
          "Count: 155",
          "Count: 37",
          "Count: 53",
          "Count: 212",
          "Count: 106",
          "Count: 89",
          "Count: 117",
          "Count: 31",
          "Count: 36",
          "Count: 143",
          "Count: 72",
          "Count: 122",
          "Count: 343",
          "Count: 43",
          "Count: 114",
          "Count: 68",
          "Count: 322",
          "Count: 101",
          "Count: 170",
          "Count: 51",
          "Count: 153",
          "Count: 219",
          "Count: 30",
          "Count: 42",
          "Count: 246",
          "Count: 51",
          "Count: 42",
          "Count: 124",
          "Count: 256",
          "Count: 125",
          "Count: 18",
          "Count: 145",
          "Count: 18",
          "Count: 200",
          "Count: 97",
          "Count: 62",
          "Count: 34",
          "Count: 114",
          "Count: 95",
          "Count: 210",
          "Count: 36",
          "Count: 129",
          "Count: 99",
          "Count: 33",
          "Count: 321",
          "Count: 42",
          "Count: 78",
          "Count: 47",
          "Count: 89",
          "Count: 250",
          "Count: 115",
          "Count: 31",
          "Count: 119",
          "Count: 98",
          "Count: 111",
          "Count: 98",
          "Count: 94",
          "Count: 135",
          "Count: 113",
          "Count: 105",
          "Count: 415",
          "Count: 112",
          "Count: 39",
          "Count: 50",
          "Count: 28",
          "Count: 52",
          "Count: 48",
          "Count: 52",
          "Count: 138",
          "Count: 48",
          "Count: 114",
          "Count: 108",
          "Count: 26",
          "Count: 146",
          "Count: 123",
          "Count: 72",
          "Count: 43",
          "Count: 59",
          "Count: 96",
          "Count: 324",
          "Count: 277",
          "Count: 100",
          "Count: 36",
          "Count: 107",
          "Count: 237",
          "Count: 125",
          "Count: 211",
          "Count: 46",
          "Count: 40",
          "Count: 118",
          "Count: 89",
          "Count: 181",
          "Count: 155",
          "Count: 60",
          "Count: 51",
          "Count: 55",
          "Count: 141",
          "Count: 51",
          "Count: 37",
          "Count: 119",
          "Count: 22",
          "Count: 114",
          "Count: 36",
          "Count: 34",
          "Count: 127",
          "Count: 54",
          "Count: 16",
          "Count: 112",
          "Count: 94",
          "Count: 42",
          "Count: 2",
          "Count: 18",
          "Count: 32",
          "Count: 60",
          "Count: 42",
          "Count: 120",
          "Count: 47",
          "Count: 55",
          "Count: 39",
          "Count: 166",
          "Count: 51",
          "Count: 159",
          "Count: 42",
          "Count: 46",
          "Count: 80",
          "Count: 60",
          "Count: 44",
          "Count: 21",
          "Count: 113",
          "Count: 50",
          "Count: 25",
          "Count: 179",
          "Count: 61",
          "Count: 36",
          "Count: 32",
          "Count: 36",
          "Count: 53",
          "Count: 74",
          "Count: 47",
          "Count: 55",
          "Count: 59",
          "Count: 19",
          "Count: 59",
          "Count: 56",
          "Count: 35",
          "Count: 49",
          "Count: 33",
          "Count: 42",
          "Count: 33",
          "Count: 52",
          "Count: 9",
          "Count: 39",
          "Count: 21",
          "Count: 28",
          "Count: 33",
          "Count: 64",
          "Count: 43",
          "Count: 40",
          "Count: 43",
          "Count: 34",
          "Count: 37",
          "Count: 43",
          "Count: 15",
          "Count: 20",
          "Count: 28",
          "Count: 3",
          "Count: 3",
          "Count: 30",
          "Count: 20",
          "Count: 23",
          "Count: 34",
          "Count: 1",
          "Count: 1",
          "Count: 1",
          "Count: 1",
          "Count: 1",
          "Count: 1",
          "Count: 1"
         ],
         "name": "cgpa",
         "text": [
          "100.0%",
          "100.0%",
          "100.0%",
          "100.0%",
          "100.0%",
          "80.0%",
          "75.9%",
          "75.5%",
          "75.0%",
          "75.0%",
          "75.0%",
          "73.9%",
          "73.5%",
          "72.1%",
          "72.0%",
          "72.5%",
          "72.4%",
          "70.6%",
          "70.7%",
          "70.6%",
          "71.0%",
          "70.7%",
          "70.2%",
          "69.8%",
          "70.0%",
          "70.0%",
          "68.5%",
          "69.4%",
          "68.6%",
          "69.1%",
          "69.0%",
          "69.0%",
          "68.8%",
          "67.8%",
          "68.4%",
          "68.5%",
          "67.7%",
          "68.4%",
          "67.9%",
          "67.9%",
          "67.9%",
          "67.9%",
          "67.7%",
          "68.2%",
          "67.2%",
          "66.7%",
          "66.7%",
          "66.7%",
          "66.7%",
          "66.7%",
          "66.7%",
          "66.7%",
          "66.7%",
          "66.7%",
          "67.2%",
          "67.2%",
          "66.7%",
          "66.5%",
          "65.7%",
          "65.6%",
          "65.6%",
          "65.7%",
          "65.4%",
          "65.5%",
          "64.9%",
          "64.8%",
          "64.8%",
          "65.0%",
          "64.5%",
          "65.2%",
          "64.8%",
          "65.2%",
          "65.0%",
          "64.6%",
          "64.6%",
          "64.7%",
          "64.0%",
          "63.6%",
          "63.5%",
          "64.2%",
          "63.6%",
          "63.8%",
          "63.7%",
          "63.6%",
          "62.8%",
          "62.8%",
          "63.4%",
          "63.2%",
          "62.6%",
          "63.2%",
          "62.9%",
          "63.4%",
          "62.6%",
          "62.8%",
          "63.5%",
          "62.8%",
          "61.8%",
          "61.8%",
          "61.9%",
          "61.9%",
          "62.2%",
          "62.0%",
          "62.2%",
          "61.5%",
          "61.5%",
          "61.9%",
          "61.5%",
          "62.1%",
          "62.2%",
          "62.1%",
          "62.0%",
          "62.5%",
          "60.8%",
          "60.9%",
          "61.3%",
          "61.1%",
          "60.5%",
          "61.3%",
          "60.9%",
          "61.1%",
          "61.3%",
          "61.1%",
          "61.4%",
          "61.0%",
          "60.9%",
          "61.3%",
          "60.9%",
          "60.7%",
          "60.0%",
          "59.8%",
          "60.4%",
          "59.6%",
          "60.0%",
          "60.3%",
          "59.6%",
          "59.6%",
          "60.0%",
          "60.3%",
          "59.6%",
          "59.8%",
          "59.8%",
          "60.4%",
          "58.6%",
          "58.6%",
          "59.0%",
          "58.5%",
          "58.8%",
          "59.1%",
          "59.0%",
          "59.5%",
          "59.1%",
          "58.9%",
          "59.3%",
          "58.7%",
          "59.5%",
          "58.5%",
          "58.5%",
          "57.5%",
          "58.4%",
          "58.1%",
          "58.1%",
          "58.3%",
          "58.0%",
          "58.3%",
          "58.2%",
          "57.7%",
          "58.1%",
          "57.0%",
          "57.4%",
          "57.5%",
          "57.4%",
          "57.1%",
          "56.9%",
          "56.9%",
          "57.1%",
          "56.7%",
          "57.1%",
          "57.3%",
          "56.9%",
          "57.1%",
          "57.3%",
          "57.4%",
          "56.0%",
          "55.6%",
          "55.9%",
          "55.6%",
          "55.5%",
          "55.7%",
          "56.5%",
          "55.9%",
          "56.1%",
          "55.8%",
          "55.7%",
          "55.6%",
          "55.0%",
          "54.5%",
          "54.5%",
          "54.5%",
          "54.8%",
          "55.1%",
          "55.3%",
          "55.1%",
          "55.2%",
          "54.8%",
          "54.8%",
          "55.5%",
          "55.1%",
          "55.0%",
          "55.1%",
          "55.3%",
          "54.8%",
          "54.9%",
          "54.3%",
          "54.5%",
          "54.5%",
          "53.9%",
          "54.0%",
          "53.6%",
          "53.9%",
          "54.2%",
          "53.9%",
          "54.4%",
          "54.2%",
          "53.5%",
          "53.7%",
          "53.9%",
          "53.4%",
          "52.9%",
          "52.8%",
          "53.5%",
          "52.5%",
          "53.1%",
          "53.1%",
          "53.4%",
          "53.0%",
          "52.8%",
          "53.3%",
          "52.7%",
          "52.0%",
          "51.7%",
          "52.2%",
          "52.5%",
          "51.7%",
          "51.7%",
          "51.9%",
          "52.3%",
          "51.7%",
          "51.0%",
          "50.9%",
          "51.1%",
          "51.0%",
          "51.4%",
          "50.4%",
          "50.0%",
          "50.0%",
          "50.0%",
          "50.0%",
          "49.6%",
          "50.0%",
          "50.0%",
          "50.0%",
          "50.0%",
          "50.0%",
          "50.0%",
          "50.0%",
          "50.0%",
          "50.0%",
          "50.0%",
          "49.2%",
          "48.9%",
          "49.1%",
          "48.7%",
          "49.4%",
          "49.0%",
          "48.4%",
          "47.6%",
          "47.8%",
          "47.5%",
          "48.3%",
          "47.7%",
          "47.6%",
          "47.8%",
          "48.0%",
          "48.0%",
          "48.0%",
          "47.5%",
          "47.2%",
          "46.9%",
          "47.2%",
          "47.2%",
          "47.3%",
          "46.8%",
          "47.3%",
          "47.5%",
          "47.4%",
          "45.8%",
          "46.4%",
          "45.7%",
          "44.9%",
          "45.5%",
          "45.2%",
          "45.5%",
          "44.2%",
          "44.4%",
          "43.6%",
          "42.9%",
          "42.9%",
          "42.4%",
          "42.2%",
          "41.9%",
          "42.5%",
          "41.9%",
          "41.2%",
          "40.5%",
          "39.5%",
          "40.0%",
          "40.0%",
          "39.3%",
          "33.3%",
          "33.3%",
          "33.3%",
          "30.0%",
          "30.4%",
          "29.4%",
          "0.0%",
          "0.0%",
          "0.0%",
          "0.0%",
          "0.0%",
          "0.0%",
          "0.0%"
         ],
         "type": "bar",
         "x": [
          6.44,
          6.64,
          7.65,
          7.0625,
          8.02,
          6.29,
          9.9,
          6.79,
          9.47,
          8.01,
          5.78,
          5.38,
          8.27,
          5.26,
          5.24,
          6.25,
          6.21,
          8.42,
          9.03,
          7.79,
          8,
          8.03,
          6.65,
          8.89,
          8.64,
          8.77,
          8.28,
          9.33,
          6.99,
          5.6,
          8.32,
          8.83,
          6.33,
          8.35,
          9.12,
          9.05,
          8.7,
          9.06,
          8.75,
          8.79,
          9.7,
          8.43,
          8.44,
          5.59,
          6.88,
          8.19,
          8.73,
          8.38,
          8.94,
          9.42,
          6.85,
          5.75,
          8.17,
          9.29,
          8.97,
          8.53,
          8.96,
          8.9,
          5.67,
          8.74,
          8.37,
          5.55,
          6.05,
          8.59,
          8.04,
          9.96,
          6.16,
          8.4,
          5.39,
          8.81,
          8.14,
          6.59,
          8.54,
          8.56,
          8.58,
          9.02,
          7.75,
          8.85,
          8.62,
          7.47,
          9.46,
          6.17,
          6,
          5.84,
          8.88,
          9.04,
          9.72,
          8.52,
          8.24,
          6.83,
          9.31,
          9.74,
          9.24,
          8.08,
          5.77,
          8.39,
          9.63,
          5.42,
          5.35,
          8.46,
          6.1,
          8.91,
          7.32,
          6.95,
          9.37,
          6.35,
          9.26,
          8.95,
          7.87,
          8.69,
          9.21,
          6.63,
          9.79,
          5.81,
          7.17,
          9.59,
          7.14,
          6.56,
          8.92,
          8.16,
          8.25,
          6.91,
          7.51,
          6.86,
          9.16,
          5.69,
          6.36,
          6.75,
          7.9,
          7.85,
          8.63,
          7.13,
          7.12,
          7.77,
          7.91,
          5.76,
          7.35,
          8.47,
          7.3,
          7.02,
          8.5,
          6.78,
          5.37,
          8.07,
          8.09,
          8.21,
          8.1,
          8.49,
          8.65,
          6.26,
          6.69,
          7.04,
          6.37,
          9.41,
          6.7,
          6.39,
          5.16,
          9.19,
          6.41,
          6.38,
          5.91,
          9.36,
          9.86,
          9.94,
          7.52,
          7.25,
          5.48,
          7.8,
          5.1,
          7.88,
          7.83,
          5.12,
          5.83,
          9.89,
          5.85,
          9.78,
          6.73,
          9.39,
          5.61,
          9.49,
          9.54,
          7.1,
          9.91,
          8.55,
          9.6,
          5.03,
          5.32,
          5.08,
          7.37,
          7.26,
          7.38,
          6.51,
          5.88,
          6.76,
          7.22,
          5.58,
          5.98,
          9.44,
          8.98,
          5.51,
          7.46,
          7.28,
          5.64,
          6.02,
          7.6,
          9.88,
          6.08,
          9.11,
          7.08,
          7.7,
          9.95,
          6.47,
          7.21,
          5.74,
          5.66,
          9.25,
          5.65,
          7.06,
          6.81,
          8.23,
          9.66,
          9.67,
          5.41,
          5.99,
          7.92,
          6.5,
          5.82,
          6.27,
          5.87,
          8.61,
          8.78,
          7.5,
          7.09,
          9.93,
          5.7,
          7.99,
          7.64,
          7.53,
          5.86,
          7.94,
          6.53,
          8.11,
          5.79,
          9.5,
          5.56,
          6.89,
          10,
          9.43,
          6.42,
          9.97,
          7.82,
          7.11,
          7.48,
          5.3,
          5.11,
          9.85,
          5.8,
          9.84,
          6.61,
          5.06,
          7.15,
          7.72,
          7.49,
          7.78,
          6.19,
          6.23,
          9.98,
          7.27,
          5.27,
          6.74,
          7.74,
          8.71,
          5.57,
          9.1,
          9.71,
          5.47,
          6.92,
          7.39,
          7.24,
          6.82,
          5.09,
          6.03,
          6.04,
          7.45,
          9.56,
          9.92,
          8.29,
          7.43,
          9.4,
          5.68,
          5.46,
          9.13,
          7.68,
          8.93,
          7,
          7.03,
          5.89,
          5.52,
          9.69,
          5.25,
          7.61,
          6.52,
          8.13,
          6.46,
          9.34,
          9.82,
          9.17,
          5.97,
          9.87,
          5.71,
          5.45,
          6.28,
          5.72,
          5.9,
          7.71,
          5.17,
          5.14,
          7.34,
          6.24,
          6.32,
          7.07,
          5.44,
          9.01,
          6.84,
          6.06,
          6.98,
          6.77,
          7.42,
          7.23,
          8.26,
          6.09
         ],
         "xaxis": "x8",
         "y": [
          100,
          100,
          100,
          100,
          100,
          80,
          75.86,
          75.51,
          75,
          75,
          75,
          73.91,
          73.47,
          72.09,
          72,
          72.48,
          72.44,
          70.59,
          70.73,
          70.59,
          71.01,
          70.73,
          70.21,
          69.81,
          70,
          70,
          68.54,
          69.39,
          68.57,
          69.07,
          68.97,
          69.05,
          68.75,
          67.82,
          68.42,
          68.47,
          67.69,
          68.42,
          67.86,
          67.86,
          67.86,
          67.86,
          67.72,
          68.24,
          67.21,
          66.67,
          66.67,
          66.67,
          66.67,
          66.67,
          66.67,
          66.67,
          66.67,
          66.67,
          67.16,
          67.21,
          66.67,
          66.47,
          65.71,
          65.56,
          65.62,
          65.71,
          65.38,
          65.47,
          64.9,
          64.8,
          64.84,
          65,
          64.52,
          65.22,
          64.8,
          65.22,
          64.96,
          64.58,
          64.62,
          64.71,
          64,
          63.64,
          63.5,
          64.23,
          63.64,
          63.81,
          63.69,
          63.64,
          62.79,
          62.79,
          63.39,
          63.25,
          62.63,
          63.23,
          62.86,
          63.36,
          62.56,
          62.77,
          63.46,
          62.75,
          61.84,
          61.82,
          61.9,
          61.86,
          62.21,
          62.01,
          62.16,
          61.54,
          61.54,
          61.9,
          61.54,
          62.13,
          62.16,
          62.11,
          61.96,
          62.5,
          60.84,
          60.87,
          61.29,
          61.11,
          60.53,
          61.29,
          60.87,
          61.11,
          61.29,
          61.11,
          61.4,
          61.02,
          60.87,
          61.29,
          60.87,
          60.69,
          60,
          59.83,
          60.42,
          59.6,
          60,
          60.29,
          59.65,
          59.57,
          60,
          60.34,
          59.62,
          59.77,
          59.82,
          60.43,
          58.64,
          58.62,
          59.02,
          58.51,
          58.82,
          59.09,
          58.97,
          59.46,
          59.09,
          58.9,
          59.34,
          58.71,
          59.46,
          58.49,
          58.49,
          57.55,
          58.43,
          58.12,
          58.06,
          58.33,
          58.04,
          58.33,
          58.2,
          57.73,
          58.14,
          57.02,
          57.35,
          57.45,
          57.43,
          57.06,
          56.86,
          56.86,
          57.08,
          56.67,
          57.14,
          57.32,
          56.86,
          57.14,
          57.26,
          57.42,
          56,
          55.56,
          55.86,
          55.56,
          55.5,
          55.67,
          56.45,
          55.88,
          56.14,
          55.79,
          55.71,
          55.56,
          55.04,
          54.55,
          54.55,
          54.52,
          54.76,
          55.13,
          55.32,
          55.06,
          55.2,
          54.78,
          54.84,
          55.46,
          55.1,
          54.95,
          55.1,
          55.32,
          54.81,
          54.87,
          54.29,
          54.46,
          54.46,
          53.85,
          54,
          53.57,
          53.85,
          54.17,
          53.85,
          54.35,
          54.17,
          53.51,
          53.7,
          53.85,
          53.42,
          52.85,
          52.78,
          53.49,
          52.54,
          53.12,
          53.09,
          53.43,
          53,
          52.78,
          53.27,
          52.74,
          52,
          51.66,
          52.17,
          52.5,
          51.69,
          51.69,
          51.93,
          52.26,
          51.67,
          50.98,
          50.91,
          51.06,
          50.98,
          51.35,
          50.42,
          50,
          50,
          50,
          50,
          49.61,
          50,
          50,
          50,
          50,
          50,
          50,
          50,
          50,
          50,
          50,
          49.17,
          48.94,
          49.09,
          48.72,
          49.4,
          49.02,
          48.43,
          47.62,
          47.83,
          47.5,
          48.33,
          47.73,
          47.62,
          47.79,
          48,
          48,
          48.04,
          47.54,
          47.22,
          46.88,
          47.22,
          47.17,
          47.3,
          46.81,
          47.27,
          47.46,
          47.37,
          45.76,
          46.43,
          45.71,
          44.9,
          45.45,
          45.24,
          45.45,
          44.23,
          44.44,
          43.59,
          42.86,
          42.86,
          42.42,
          42.19,
          41.86,
          42.5,
          41.86,
          41.18,
          40.54,
          39.53,
          40,
          40,
          39.29,
          33.33,
          33.33,
          33.33,
          30,
          30.43,
          29.41,
          0,
          0,
          0,
          0,
          0,
          0,
          0
         ],
         "yaxis": "y8"
        },
        {
         "hovertext": [
          "Count: 5537",
          "Count: 5940",
          "Count: 5926",
          "Count: 6476",
          "Count: 4520",
          "Count: 114857"
         ],
         "name": "study_satisfaction",
         "text": [
          "70.8%",
          "64.5%",
          "57.5%",
          "51.1%",
          "46.9%",
          "8.2%"
         ],
         "type": "bar",
         "x": [
          1,
          2,
          3,
          4,
          5,
          6
         ],
         "xaxis": "x9",
         "y": [
          70.8,
          64.49,
          57.46,
          51.13,
          46.88,
          8.22
         ],
         "yaxis": "y9"
        },
        {
         "hovertext": [
          "Count: 28412",
          "Count: 22720",
          "Count: 25214",
          "Count: 22355",
          "Count: 21312",
          "Count: 23243"
         ],
         "name": "job_satisfaction",
         "text": [
          "58.4%",
          "17.4%",
          "9.9%",
          "5.5%",
          "4.0%",
          "3.9%"
         ],
         "type": "bar",
         "x": [
          0,
          1,
          2,
          3,
          4,
          5
         ],
         "xaxis": "x10",
         "y": [
          58.4,
          17.43,
          9.89,
          5.49,
          3.96,
          3.9
         ],
         "yaxis": "y10"
        },
        {
         "hovertext": [
          "Count: 39432",
          "Count: 37627",
          "Count: 32849",
          "Count: 33348"
         ],
         "name": "sleep_duration",
         "text": [
          "23.4%",
          "17.8%",
          "16.6%",
          "13.9%"
         ],
         "type": "bar",
         "x": [
          0,
          1,
          2,
          3
         ],
         "xaxis": "x11",
         "y": [
          23.44,
          17.82,
          16.57,
          13.88
         ],
         "yaxis": "y11"
        },
        {
         "hovertext": [
          "Count: 27",
          "Count: 47109",
          "Count: 50537",
          "Count: 45583"
         ],
         "name": "dietary_habits",
         "text": [
          "33.3%",
          "26.0%",
          "16.6%",
          "11.8%"
         ],
         "type": "bar",
         "x": [
          0,
          1,
          2,
          3
         ],
         "xaxis": "x12",
         "y": [
          33.33,
          26,
          16.57,
          11.83
         ],
         "yaxis": "y12"
        },
        {
         "hovertext": [
          "Count: 15004",
          "Count: 116",
          "Count: 4496",
          "Count: 5842",
          "Count: 3188",
          "Count: 4974",
          "Count: 3157",
          "Count: 2966",
          "Count: 4395",
          "Count: 8831",
          "Count: 8228",
          "Count: 3159",
          "Count: 5121",
          "Count: 4430",
          "Count: 5342",
          "Count: 4560",
          "Count: 3184",
          "Count: 5122",
          "Count: 3839",
          "Count: 11803",
          "Count: 3913",
          "Count: 3457",
          "Count: 5944",
          "Count: 4731",
          "Count: 5749",
          "Count: 4622",
          "Count: 3716",
          "Count: 3367"
         ],
         "name": "degree",
         "text": [
          "51.1%",
          "23.3%",
          "21.4%",
          "20.4%",
          "19.0%",
          "17.4%",
          "17.0%",
          "17.5%",
          "17.2%",
          "15.7%",
          "15.6%",
          "15.9%",
          "15.5%",
          "15.2%",
          "14.7%",
          "14.4%",
          "14.2%",
          "13.4%",
          "12.6%",
          "12.9%",
          "12.1%",
          "11.9%",
          "12.0%",
          "11.4%",
          "9.8%",
          "9.8%",
          "7.2%",
          "7.0%"
         ],
         "type": "bar",
         "x": [
          "Class 12",
          "Missing",
          "B.Tech",
          "BCA",
          "BE",
          "MSc",
          "MBBS",
          "MA",
          "BHM",
          "B.Arch",
          "B.Com",
          "M.Com",
          "BSc",
          "LLB",
          "MCA",
          "M.Tech",
          "PhD",
          "BBA",
          "BA",
          "B.Ed",
          "MBA",
          "MD",
          "B.Pharm",
          "LLM",
          "M.Ed",
          "M.Pharm",
          "ME",
          "MHM"
         ],
         "xaxis": "x13",
         "y": [
          51.15,
          23.28,
          21.4,
          20.35,
          19.04,
          17.35,
          17.01,
          17.5,
          17.16,
          15.74,
          15.58,
          15.92,
          15.52,
          15.17,
          14.69,
          14.41,
          14.23,
          13.45,
          12.58,
          12.89,
          12.06,
          11.95,
          11.98,
          11.39,
          9.81,
          9.82,
          7.24,
          7.01
         ],
         "yaxis": "y13"
        },
        {
         "hovertext": [
          "Count: 70811",
          "Count: 72445"
         ],
         "name": "suicidal_thoughts",
         "text": [
          "31.7%",
          "4.9%"
         ],
         "type": "bar",
         "x": [
          1,
          0
         ],
         "xaxis": "x14",
         "y": [
          31.73,
          4.9
         ],
         "yaxis": "y14"
        },
        {
         "hovertext": [
          "Count: 26017",
          "Count: 22118",
          "Count: 10058",
          "Count: 10627",
          "Count: 12921",
          "Count: 28451",
          "Count: 10801",
          "Count: 22263"
         ],
         "name": "work_study_hours",
         "text": [
          "31.3%",
          "24.7%",
          "19.7%",
          "18.1%",
          "16.2%",
          "12.2%",
          "10.4%",
          "8.1%"
         ],
         "type": "bar",
         "x": [
          8,
          7,
          6,
          5,
          4,
          3,
          2,
          1
         ],
         "xaxis": "x15",
         "y": [
          31.33,
          24.71,
          19.7,
          18.14,
          16.24,
          12.24,
          10.39,
          8.06
         ],
         "yaxis": "y15"
        },
        {
         "hovertext": [
          "Count: 28780",
          "Count: 4",
          "Count: 28266",
          "Count: 26478",
          "Count: 32000",
          "Count: 27728"
         ],
         "name": "financial_stress",
         "text": [
          "33.2%",
          "25.0%",
          "22.0%",
          "17.4%",
          "10.2%",
          "8.5%"
         ],
         "type": "bar",
         "x": [
          6,
          5,
          4,
          3,
          2,
          1
         ],
         "xaxis": "x16",
         "y": [
          33.24,
          25,
          22,
          17.43,
          10.18,
          8.53
         ],
         "yaxis": "y16"
        },
        {
         "hovertext": [
          "Count: 71187",
          "Count: 72069"
         ],
         "name": "family_history",
         "text": [
          "18.8%",
          "17.5%"
         ],
         "type": "bar",
         "x": [
          1,
          0
         ],
         "xaxis": "x17",
         "y": [
          18.81,
          17.53
         ],
         "yaxis": "y17"
        }
       ],
       "layout": {
        "annotations": [
         {
          "font": {
           "size": 16
          },
          "showarrow": false,
          "text": "is_female",
          "x": 0.14444444444444446,
          "xanchor": "center",
          "xref": "paper",
          "y": 0.9999999999999999,
          "yanchor": "bottom",
          "yref": "paper"
         },
         {
          "font": {
           "size": 16
          },
          "showarrow": false,
          "text": "age",
          "x": 0.5,
          "xanchor": "center",
          "xref": "paper",
          "y": 0.9999999999999999,
          "yanchor": "bottom",
          "yref": "paper"
         },
         {
          "font": {
           "size": 16
          },
          "showarrow": false,
          "text": "city",
          "x": 0.8555555555555556,
          "xanchor": "center",
          "xref": "paper",
          "y": 0.9999999999999999,
          "yanchor": "bottom",
          "yref": "paper"
         },
         {
          "font": {
           "size": 16
          },
          "showarrow": false,
          "text": "is_student",
          "x": 0.14444444444444446,
          "xanchor": "center",
          "xref": "paper",
          "y": 0.8194444444444444,
          "yanchor": "bottom",
          "yref": "paper"
         },
         {
          "font": {
           "size": 16
          },
          "showarrow": false,
          "text": "profession",
          "x": 0.5,
          "xanchor": "center",
          "xref": "paper",
          "y": 0.8194444444444444,
          "yanchor": "bottom",
          "yref": "paper"
         },
         {
          "font": {
           "size": 16
          },
          "showarrow": false,
          "text": "academic_pressure",
          "x": 0.8555555555555556,
          "xanchor": "center",
          "xref": "paper",
          "y": 0.8194444444444444,
          "yanchor": "bottom",
          "yref": "paper"
         },
         {
          "font": {
           "size": 16
          },
          "showarrow": false,
          "text": "work_pressure",
          "x": 0.14444444444444446,
          "xanchor": "center",
          "xref": "paper",
          "y": 0.638888888888889,
          "yanchor": "bottom",
          "yref": "paper"
         },
         {
          "font": {
           "size": 16
          },
          "showarrow": false,
          "text": "cgpa",
          "x": 0.5,
          "xanchor": "center",
          "xref": "paper",
          "y": 0.638888888888889,
          "yanchor": "bottom",
          "yref": "paper"
         },
         {
          "font": {
           "size": 16
          },
          "showarrow": false,
          "text": "study_satisfaction",
          "x": 0.8555555555555556,
          "xanchor": "center",
          "xref": "paper",
          "y": 0.638888888888889,
          "yanchor": "bottom",
          "yref": "paper"
         },
         {
          "font": {
           "size": 16
          },
          "showarrow": false,
          "text": "job_satisfaction",
          "x": 0.14444444444444446,
          "xanchor": "center",
          "xref": "paper",
          "y": 0.4583333333333333,
          "yanchor": "bottom",
          "yref": "paper"
         },
         {
          "font": {
           "size": 16
          },
          "showarrow": false,
          "text": "sleep_duration",
          "x": 0.5,
          "xanchor": "center",
          "xref": "paper",
          "y": 0.4583333333333333,
          "yanchor": "bottom",
          "yref": "paper"
         },
         {
          "font": {
           "size": 16
          },
          "showarrow": false,
          "text": "dietary_habits",
          "x": 0.8555555555555556,
          "xanchor": "center",
          "xref": "paper",
          "y": 0.4583333333333333,
          "yanchor": "bottom",
          "yref": "paper"
         },
         {
          "font": {
           "size": 16
          },
          "showarrow": false,
          "text": "degree",
          "x": 0.14444444444444446,
          "xanchor": "center",
          "xref": "paper",
          "y": 0.2777777777777778,
          "yanchor": "bottom",
          "yref": "paper"
         },
         {
          "font": {
           "size": 16
          },
          "showarrow": false,
          "text": "suicidal_thoughts",
          "x": 0.5,
          "xanchor": "center",
          "xref": "paper",
          "y": 0.2777777777777778,
          "yanchor": "bottom",
          "yref": "paper"
         },
         {
          "font": {
           "size": 16
          },
          "showarrow": false,
          "text": "work_study_hours",
          "x": 0.8555555555555556,
          "xanchor": "center",
          "xref": "paper",
          "y": 0.2777777777777778,
          "yanchor": "bottom",
          "yref": "paper"
         },
         {
          "font": {
           "size": 16
          },
          "showarrow": false,
          "text": "financial_stress",
          "x": 0.14444444444444446,
          "xanchor": "center",
          "xref": "paper",
          "y": 0.09722222222222222,
          "yanchor": "bottom",
          "yref": "paper"
         },
         {
          "font": {
           "size": 16
          },
          "showarrow": false,
          "text": "family_history",
          "x": 0.5,
          "xanchor": "center",
          "xref": "paper",
          "y": 0.09722222222222222,
          "yanchor": "bottom",
          "yref": "paper"
         }
        ],
        "height": 1800,
        "showlegend": false,
        "template": {
         "data": {
          "bar": [
           {
            "error_x": {
             "color": "rgb(36,36,36)"
            },
            "error_y": {
             "color": "rgb(36,36,36)"
            },
            "marker": {
             "line": {
              "color": "white",
              "width": 0.5
             },
             "pattern": {
              "fillmode": "overlay",
              "size": 10,
              "solidity": 0.2
             }
            },
            "type": "bar"
           }
          ],
          "barpolar": [
           {
            "marker": {
             "line": {
              "color": "white",
              "width": 0.5
             },
             "pattern": {
              "fillmode": "overlay",
              "size": 10,
              "solidity": 0.2
             }
            },
            "type": "barpolar"
           }
          ],
          "carpet": [
           {
            "aaxis": {
             "endlinecolor": "rgb(36,36,36)",
             "gridcolor": "white",
             "linecolor": "white",
             "minorgridcolor": "white",
             "startlinecolor": "rgb(36,36,36)"
            },
            "baxis": {
             "endlinecolor": "rgb(36,36,36)",
             "gridcolor": "white",
             "linecolor": "white",
             "minorgridcolor": "white",
             "startlinecolor": "rgb(36,36,36)"
            },
            "type": "carpet"
           }
          ],
          "choropleth": [
           {
            "colorbar": {
             "outlinewidth": 1,
             "tickcolor": "rgb(36,36,36)",
             "ticks": "outside"
            },
            "type": "choropleth"
           }
          ],
          "contour": [
           {
            "colorbar": {
             "outlinewidth": 1,
             "tickcolor": "rgb(36,36,36)",
             "ticks": "outside"
            },
            "colorscale": [
             [
              0,
              "#440154"
             ],
             [
              0.1111111111111111,
              "#482878"
             ],
             [
              0.2222222222222222,
              "#3e4989"
             ],
             [
              0.3333333333333333,
              "#31688e"
             ],
             [
              0.4444444444444444,
              "#26828e"
             ],
             [
              0.5555555555555556,
              "#1f9e89"
             ],
             [
              0.6666666666666666,
              "#35b779"
             ],
             [
              0.7777777777777778,
              "#6ece58"
             ],
             [
              0.8888888888888888,
              "#b5de2b"
             ],
             [
              1,
              "#fde725"
             ]
            ],
            "type": "contour"
           }
          ],
          "contourcarpet": [
           {
            "colorbar": {
             "outlinewidth": 1,
             "tickcolor": "rgb(36,36,36)",
             "ticks": "outside"
            },
            "type": "contourcarpet"
           }
          ],
          "heatmap": [
           {
            "colorbar": {
             "outlinewidth": 1,
             "tickcolor": "rgb(36,36,36)",
             "ticks": "outside"
            },
            "colorscale": [
             [
              0,
              "#440154"
             ],
             [
              0.1111111111111111,
              "#482878"
             ],
             [
              0.2222222222222222,
              "#3e4989"
             ],
             [
              0.3333333333333333,
              "#31688e"
             ],
             [
              0.4444444444444444,
              "#26828e"
             ],
             [
              0.5555555555555556,
              "#1f9e89"
             ],
             [
              0.6666666666666666,
              "#35b779"
             ],
             [
              0.7777777777777778,
              "#6ece58"
             ],
             [
              0.8888888888888888,
              "#b5de2b"
             ],
             [
              1,
              "#fde725"
             ]
            ],
            "type": "heatmap"
           }
          ],
          "heatmapgl": [
           {
            "colorbar": {
             "outlinewidth": 1,
             "tickcolor": "rgb(36,36,36)",
             "ticks": "outside"
            },
            "colorscale": [
             [
              0,
              "#440154"
             ],
             [
              0.1111111111111111,
              "#482878"
             ],
             [
              0.2222222222222222,
              "#3e4989"
             ],
             [
              0.3333333333333333,
              "#31688e"
             ],
             [
              0.4444444444444444,
              "#26828e"
             ],
             [
              0.5555555555555556,
              "#1f9e89"
             ],
             [
              0.6666666666666666,
              "#35b779"
             ],
             [
              0.7777777777777778,
              "#6ece58"
             ],
             [
              0.8888888888888888,
              "#b5de2b"
             ],
             [
              1,
              "#fde725"
             ]
            ],
            "type": "heatmapgl"
           }
          ],
          "histogram": [
           {
            "marker": {
             "line": {
              "color": "white",
              "width": 0.6
             }
            },
            "type": "histogram"
           }
          ],
          "histogram2d": [
           {
            "colorbar": {
             "outlinewidth": 1,
             "tickcolor": "rgb(36,36,36)",
             "ticks": "outside"
            },
            "colorscale": [
             [
              0,
              "#440154"
             ],
             [
              0.1111111111111111,
              "#482878"
             ],
             [
              0.2222222222222222,
              "#3e4989"
             ],
             [
              0.3333333333333333,
              "#31688e"
             ],
             [
              0.4444444444444444,
              "#26828e"
             ],
             [
              0.5555555555555556,
              "#1f9e89"
             ],
             [
              0.6666666666666666,
              "#35b779"
             ],
             [
              0.7777777777777778,
              "#6ece58"
             ],
             [
              0.8888888888888888,
              "#b5de2b"
             ],
             [
              1,
              "#fde725"
             ]
            ],
            "type": "histogram2d"
           }
          ],
          "histogram2dcontour": [
           {
            "colorbar": {
             "outlinewidth": 1,
             "tickcolor": "rgb(36,36,36)",
             "ticks": "outside"
            },
            "colorscale": [
             [
              0,
              "#440154"
             ],
             [
              0.1111111111111111,
              "#482878"
             ],
             [
              0.2222222222222222,
              "#3e4989"
             ],
             [
              0.3333333333333333,
              "#31688e"
             ],
             [
              0.4444444444444444,
              "#26828e"
             ],
             [
              0.5555555555555556,
              "#1f9e89"
             ],
             [
              0.6666666666666666,
              "#35b779"
             ],
             [
              0.7777777777777778,
              "#6ece58"
             ],
             [
              0.8888888888888888,
              "#b5de2b"
             ],
             [
              1,
              "#fde725"
             ]
            ],
            "type": "histogram2dcontour"
           }
          ],
          "mesh3d": [
           {
            "colorbar": {
             "outlinewidth": 1,
             "tickcolor": "rgb(36,36,36)",
             "ticks": "outside"
            },
            "type": "mesh3d"
           }
          ],
          "parcoords": [
           {
            "line": {
             "colorbar": {
              "outlinewidth": 1,
              "tickcolor": "rgb(36,36,36)",
              "ticks": "outside"
             }
            },
            "type": "parcoords"
           }
          ],
          "pie": [
           {
            "automargin": true,
            "type": "pie"
           }
          ],
          "scatter": [
           {
            "fillpattern": {
             "fillmode": "overlay",
             "size": 10,
             "solidity": 0.2
            },
            "type": "scatter"
           }
          ],
          "scatter3d": [
           {
            "line": {
             "colorbar": {
              "outlinewidth": 1,
              "tickcolor": "rgb(36,36,36)",
              "ticks": "outside"
             }
            },
            "marker": {
             "colorbar": {
              "outlinewidth": 1,
              "tickcolor": "rgb(36,36,36)",
              "ticks": "outside"
             }
            },
            "type": "scatter3d"
           }
          ],
          "scattercarpet": [
           {
            "marker": {
             "colorbar": {
              "outlinewidth": 1,
              "tickcolor": "rgb(36,36,36)",
              "ticks": "outside"
             }
            },
            "type": "scattercarpet"
           }
          ],
          "scattergeo": [
           {
            "marker": {
             "colorbar": {
              "outlinewidth": 1,
              "tickcolor": "rgb(36,36,36)",
              "ticks": "outside"
             }
            },
            "type": "scattergeo"
           }
          ],
          "scattergl": [
           {
            "marker": {
             "colorbar": {
              "outlinewidth": 1,
              "tickcolor": "rgb(36,36,36)",
              "ticks": "outside"
             }
            },
            "type": "scattergl"
           }
          ],
          "scattermapbox": [
           {
            "marker": {
             "colorbar": {
              "outlinewidth": 1,
              "tickcolor": "rgb(36,36,36)",
              "ticks": "outside"
             }
            },
            "type": "scattermapbox"
           }
          ],
          "scatterpolar": [
           {
            "marker": {
             "colorbar": {
              "outlinewidth": 1,
              "tickcolor": "rgb(36,36,36)",
              "ticks": "outside"
             }
            },
            "type": "scatterpolar"
           }
          ],
          "scatterpolargl": [
           {
            "marker": {
             "colorbar": {
              "outlinewidth": 1,
              "tickcolor": "rgb(36,36,36)",
              "ticks": "outside"
             }
            },
            "type": "scatterpolargl"
           }
          ],
          "scatterternary": [
           {
            "marker": {
             "colorbar": {
              "outlinewidth": 1,
              "tickcolor": "rgb(36,36,36)",
              "ticks": "outside"
             }
            },
            "type": "scatterternary"
           }
          ],
          "surface": [
           {
            "colorbar": {
             "outlinewidth": 1,
             "tickcolor": "rgb(36,36,36)",
             "ticks": "outside"
            },
            "colorscale": [
             [
              0,
              "#440154"
             ],
             [
              0.1111111111111111,
              "#482878"
             ],
             [
              0.2222222222222222,
              "#3e4989"
             ],
             [
              0.3333333333333333,
              "#31688e"
             ],
             [
              0.4444444444444444,
              "#26828e"
             ],
             [
              0.5555555555555556,
              "#1f9e89"
             ],
             [
              0.6666666666666666,
              "#35b779"
             ],
             [
              0.7777777777777778,
              "#6ece58"
             ],
             [
              0.8888888888888888,
              "#b5de2b"
             ],
             [
              1,
              "#fde725"
             ]
            ],
            "type": "surface"
           }
          ],
          "table": [
           {
            "cells": {
             "fill": {
              "color": "rgb(237,237,237)"
             },
             "line": {
              "color": "white"
             }
            },
            "header": {
             "fill": {
              "color": "rgb(217,217,217)"
             },
             "line": {
              "color": "white"
             }
            },
            "type": "table"
           }
          ]
         },
         "layout": {
          "annotationdefaults": {
           "arrowhead": 0,
           "arrowwidth": 1
          },
          "autotypenumbers": "strict",
          "coloraxis": {
           "colorbar": {
            "outlinewidth": 1,
            "tickcolor": "rgb(36,36,36)",
            "ticks": "outside"
           }
          },
          "colorscale": {
           "diverging": [
            [
             0,
             "rgb(103,0,31)"
            ],
            [
             0.1,
             "rgb(178,24,43)"
            ],
            [
             0.2,
             "rgb(214,96,77)"
            ],
            [
             0.3,
             "rgb(244,165,130)"
            ],
            [
             0.4,
             "rgb(253,219,199)"
            ],
            [
             0.5,
             "rgb(247,247,247)"
            ],
            [
             0.6,
             "rgb(209,229,240)"
            ],
            [
             0.7,
             "rgb(146,197,222)"
            ],
            [
             0.8,
             "rgb(67,147,195)"
            ],
            [
             0.9,
             "rgb(33,102,172)"
            ],
            [
             1,
             "rgb(5,48,97)"
            ]
           ],
           "sequential": [
            [
             0,
             "#440154"
            ],
            [
             0.1111111111111111,
             "#482878"
            ],
            [
             0.2222222222222222,
             "#3e4989"
            ],
            [
             0.3333333333333333,
             "#31688e"
            ],
            [
             0.4444444444444444,
             "#26828e"
            ],
            [
             0.5555555555555556,
             "#1f9e89"
            ],
            [
             0.6666666666666666,
             "#35b779"
            ],
            [
             0.7777777777777778,
             "#6ece58"
            ],
            [
             0.8888888888888888,
             "#b5de2b"
            ],
            [
             1,
             "#fde725"
            ]
           ],
           "sequentialminus": [
            [
             0,
             "#440154"
            ],
            [
             0.1111111111111111,
             "#482878"
            ],
            [
             0.2222222222222222,
             "#3e4989"
            ],
            [
             0.3333333333333333,
             "#31688e"
            ],
            [
             0.4444444444444444,
             "#26828e"
            ],
            [
             0.5555555555555556,
             "#1f9e89"
            ],
            [
             0.6666666666666666,
             "#35b779"
            ],
            [
             0.7777777777777778,
             "#6ece58"
            ],
            [
             0.8888888888888888,
             "#b5de2b"
            ],
            [
             1,
             "#fde725"
            ]
           ]
          },
          "colorway": [
           "#1F77B4",
           "#FF7F0E",
           "#2CA02C",
           "#D62728",
           "#9467BD",
           "#8C564B",
           "#E377C2",
           "#7F7F7F",
           "#BCBD22",
           "#17BECF"
          ],
          "font": {
           "color": "rgb(36,36,36)"
          },
          "geo": {
           "bgcolor": "white",
           "lakecolor": "white",
           "landcolor": "white",
           "showlakes": true,
           "showland": true,
           "subunitcolor": "white"
          },
          "hoverlabel": {
           "align": "left"
          },
          "hovermode": "closest",
          "mapbox": {
           "style": "light"
          },
          "paper_bgcolor": "white",
          "plot_bgcolor": "white",
          "polar": {
           "angularaxis": {
            "gridcolor": "rgb(232,232,232)",
            "linecolor": "rgb(36,36,36)",
            "showgrid": false,
            "showline": true,
            "ticks": "outside"
           },
           "bgcolor": "white",
           "radialaxis": {
            "gridcolor": "rgb(232,232,232)",
            "linecolor": "rgb(36,36,36)",
            "showgrid": false,
            "showline": true,
            "ticks": "outside"
           }
          },
          "scene": {
           "xaxis": {
            "backgroundcolor": "white",
            "gridcolor": "rgb(232,232,232)",
            "gridwidth": 2,
            "linecolor": "rgb(36,36,36)",
            "showbackground": true,
            "showgrid": false,
            "showline": true,
            "ticks": "outside",
            "zeroline": false,
            "zerolinecolor": "rgb(36,36,36)"
           },
           "yaxis": {
            "backgroundcolor": "white",
            "gridcolor": "rgb(232,232,232)",
            "gridwidth": 2,
            "linecolor": "rgb(36,36,36)",
            "showbackground": true,
            "showgrid": false,
            "showline": true,
            "ticks": "outside",
            "zeroline": false,
            "zerolinecolor": "rgb(36,36,36)"
           },
           "zaxis": {
            "backgroundcolor": "white",
            "gridcolor": "rgb(232,232,232)",
            "gridwidth": 2,
            "linecolor": "rgb(36,36,36)",
            "showbackground": true,
            "showgrid": false,
            "showline": true,
            "ticks": "outside",
            "zeroline": false,
            "zerolinecolor": "rgb(36,36,36)"
           }
          },
          "shapedefaults": {
           "fillcolor": "black",
           "line": {
            "width": 0
           },
           "opacity": 0.3
          },
          "ternary": {
           "aaxis": {
            "gridcolor": "rgb(232,232,232)",
            "linecolor": "rgb(36,36,36)",
            "showgrid": false,
            "showline": true,
            "ticks": "outside"
           },
           "baxis": {
            "gridcolor": "rgb(232,232,232)",
            "linecolor": "rgb(36,36,36)",
            "showgrid": false,
            "showline": true,
            "ticks": "outside"
           },
           "bgcolor": "white",
           "caxis": {
            "gridcolor": "rgb(232,232,232)",
            "linecolor": "rgb(36,36,36)",
            "showgrid": false,
            "showline": true,
            "ticks": "outside"
           }
          },
          "title": {
           "x": 0.05
          },
          "xaxis": {
           "automargin": true,
           "gridcolor": "rgb(232,232,232)",
           "linecolor": "rgb(36,36,36)",
           "showgrid": false,
           "showline": true,
           "ticks": "outside",
           "title": {
            "standoff": 15
           },
           "zeroline": false,
           "zerolinecolor": "rgb(36,36,36)"
          },
          "yaxis": {
           "automargin": true,
           "gridcolor": "rgb(232,232,232)",
           "linecolor": "rgb(36,36,36)",
           "showgrid": false,
           "showline": true,
           "ticks": "outside",
           "title": {
            "standoff": 15
           },
           "zeroline": false,
           "zerolinecolor": "rgb(36,36,36)"
          }
         }
        },
        "title": {
         "text": "Depression Rate by Feature Values"
        },
        "width": 1000,
        "xaxis": {
         "anchor": "y",
         "domain": [
          0,
          0.2888888888888889
         ]
        },
        "xaxis10": {
         "anchor": "y10",
         "domain": [
          0,
          0.2888888888888889
         ]
        },
        "xaxis11": {
         "anchor": "y11",
         "domain": [
          0.35555555555555557,
          0.6444444444444445
         ]
        },
        "xaxis12": {
         "anchor": "y12",
         "domain": [
          0.7111111111111111,
          1
         ]
        },
        "xaxis13": {
         "anchor": "y13",
         "domain": [
          0,
          0.2888888888888889
         ]
        },
        "xaxis14": {
         "anchor": "y14",
         "domain": [
          0.35555555555555557,
          0.6444444444444445
         ]
        },
        "xaxis15": {
         "anchor": "y15",
         "domain": [
          0.7111111111111111,
          1
         ]
        },
        "xaxis16": {
         "anchor": "y16",
         "domain": [
          0,
          0.2888888888888889
         ]
        },
        "xaxis17": {
         "anchor": "y17",
         "domain": [
          0.35555555555555557,
          0.6444444444444445
         ]
        },
        "xaxis18": {
         "anchor": "y18",
         "domain": [
          0.7111111111111111,
          1
         ]
        },
        "xaxis2": {
         "anchor": "y2",
         "domain": [
          0.35555555555555557,
          0.6444444444444445
         ]
        },
        "xaxis3": {
         "anchor": "y3",
         "domain": [
          0.7111111111111111,
          1
         ]
        },
        "xaxis4": {
         "anchor": "y4",
         "domain": [
          0,
          0.2888888888888889
         ]
        },
        "xaxis5": {
         "anchor": "y5",
         "domain": [
          0.35555555555555557,
          0.6444444444444445
         ]
        },
        "xaxis6": {
         "anchor": "y6",
         "domain": [
          0.7111111111111111,
          1
         ]
        },
        "xaxis7": {
         "anchor": "y7",
         "domain": [
          0,
          0.2888888888888889
         ]
        },
        "xaxis8": {
         "anchor": "y8",
         "domain": [
          0.35555555555555557,
          0.6444444444444445
         ]
        },
        "xaxis9": {
         "anchor": "y9",
         "domain": [
          0.7111111111111111,
          1
         ]
        },
        "yaxis": {
         "anchor": "x",
         "domain": [
          0.9027777777777777,
          0.9999999999999999
         ]
        },
        "yaxis10": {
         "anchor": "x10",
         "domain": [
          0.3611111111111111,
          0.4583333333333333
         ]
        },
        "yaxis11": {
         "anchor": "x11",
         "domain": [
          0.3611111111111111,
          0.4583333333333333
         ]
        },
        "yaxis12": {
         "anchor": "x12",
         "domain": [
          0.3611111111111111,
          0.4583333333333333
         ]
        },
        "yaxis13": {
         "anchor": "x13",
         "domain": [
          0.18055555555555555,
          0.2777777777777778
         ]
        },
        "yaxis14": {
         "anchor": "x14",
         "domain": [
          0.18055555555555555,
          0.2777777777777778
         ]
        },
        "yaxis15": {
         "anchor": "x15",
         "domain": [
          0.18055555555555555,
          0.2777777777777778
         ]
        },
        "yaxis16": {
         "anchor": "x16",
         "domain": [
          0,
          0.09722222222222222
         ]
        },
        "yaxis17": {
         "anchor": "x17",
         "domain": [
          0,
          0.09722222222222222
         ]
        },
        "yaxis18": {
         "anchor": "x18",
         "domain": [
          0,
          0.09722222222222222
         ]
        },
        "yaxis2": {
         "anchor": "x2",
         "domain": [
          0.9027777777777777,
          0.9999999999999999
         ]
        },
        "yaxis3": {
         "anchor": "x3",
         "domain": [
          0.9027777777777777,
          0.9999999999999999
         ]
        },
        "yaxis4": {
         "anchor": "x4",
         "domain": [
          0.7222222222222222,
          0.8194444444444444
         ]
        },
        "yaxis5": {
         "anchor": "x5",
         "domain": [
          0.7222222222222222,
          0.8194444444444444
         ]
        },
        "yaxis6": {
         "anchor": "x6",
         "domain": [
          0.7222222222222222,
          0.8194444444444444
         ]
        },
        "yaxis7": {
         "anchor": "x7",
         "domain": [
          0.5416666666666667,
          0.638888888888889
         ]
        },
        "yaxis8": {
         "anchor": "x8",
         "domain": [
          0.5416666666666667,
          0.638888888888889
         ]
        },
        "yaxis9": {
         "anchor": "x9",
         "domain": [
          0.5416666666666667,
          0.638888888888889
         ]
        }
       }
      }
     },
     "metadata": {},
     "output_type": "display_data"
    }
   ],
   "source": [
    "# Remove target and is_original\n",
    "features = [f for f in train_prep.columns if f not in ['depression', 'is_original']]\n",
    "\n",
    "# Calculate depression rate for each feature value\n",
    "fig = make_subplots(rows=len(features)//3 + 1, cols=3, \n",
    "                    subplot_titles=features)\n",
    "\n",
    "for i, feat in enumerate(features):\n",
    "    # Calculate proportions\n",
    "    props = (train_prep\n",
    "            .groupby(feat)['depression']\n",
    "            .agg(['count', 'mean'])\n",
    "            .assign(pct=lambda x: x['mean'] * 100)\n",
    "            .round(2)\n",
    "            .sort_values('mean', ascending=False))\n",
    "    \n",
    "    # Add count as hover text\n",
    "    hover_text = [f\"Count: {c}\" for c in props['count']]\n",
    "    \n",
    "    fig.add_trace(\n",
    "        go.Bar(x=props.index, \n",
    "               y=props['pct'], \n",
    "               text=props['pct'].apply(lambda x: f\"{x:.1f}%\"),\n",
    "               hovertext=hover_text,\n",
    "               name=feat),\n",
    "        row=i//3 + 1, col=i%3 + 1\n",
    "    )\n",
    "\n",
    "fig.update_layout(height=300*((len(features)//3) + 1), \n",
    "                 width=1000, \n",
    "                 showlegend=False,\n",
    "                 title_text=\"Depression Rate by Feature Values\")\n",
    "fig.show()"
   ]
  },
  {
   "cell_type": "markdown",
   "metadata": {},
   "source": [
    "# **Testing monotonic constraints with catboost**\n"
   ]
  },
  {
   "cell_type": "code",
   "execution_count": null,
   "metadata": {},
   "outputs": [],
   "source": [
    "# Split train/test\n",
    "X = train_prep[features]\n",
    "y = train_prep['depression']\n",
    "X_train, X_test, y_train, y_test = train_test_split(X, y, test_size=0.2, random_state=42, stratify=y)"
   ]
  }
 ],
 "metadata": {
  "kernelspec": {
   "display_name": "Python 3",
   "language": "python",
   "name": "python3"
  },
  "language_info": {
   "codemirror_mode": {
    "name": "ipython",
    "version": 3
   },
   "file_extension": ".py",
   "mimetype": "text/x-python",
   "name": "python",
   "nbconvert_exporter": "python",
   "pygments_lexer": "ipython3",
   "version": "3.10.15"
  }
 },
 "nbformat": 4,
 "nbformat_minor": 2
}
